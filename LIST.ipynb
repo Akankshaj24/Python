{
 "cells": [
  {
   "cell_type": "markdown",
   "id": "9fe67072",
   "metadata": {},
   "source": [
    "## LIST\n",
    "1. It is an ordered collection of elements.\n",
    "2. List elements are enclosed in [ ] and separated by comma.\n",
    "3. We can perform indexing and slicing.\n",
    "4. List is mutable (It can be changed).\n",
    "5. Duplicates are allowed."
   ]
  },
  {
   "cell_type": "code",
   "execution_count": 1,
   "id": "3925286e",
   "metadata": {},
   "outputs": [
    {
     "name": "stdout",
     "output_type": "stream",
     "text": [
      "<class 'list'> <class 'list'>\n",
      "[] []\n"
     ]
    }
   ],
   "source": [
    "# Empty list\n",
    "\n",
    "z1,z2=list(),[]\n",
    "print(type(z1),type(z2))\n",
    "print(z1,z2)"
   ]
  },
  {
   "cell_type": "code",
   "execution_count": 3,
   "id": "24bfa300",
   "metadata": {},
   "outputs": [
    {
     "name": "stdout",
     "output_type": "stream",
     "text": [
      "['Welcome', 'laptop', 'python', 'Mobile', 'Bottle', 2, 3, 4]\n",
      "8\n",
      "<class 'list'>\n"
     ]
    }
   ],
   "source": [
    "d1=['Welcome','laptop','python','Mobile','Bottle',2,3,4]\n",
    "print(d1)\n",
    "print(len(d1))\n",
    "print(type(d1))"
   ]
  },
  {
   "cell_type": "markdown",
   "id": "eac74833",
   "metadata": {},
   "source": [
    "#### List is Mutable"
   ]
  },
  {
   "cell_type": "code",
   "execution_count": 4,
   "id": "01d899bb",
   "metadata": {},
   "outputs": [
    {
     "name": "stdout",
     "output_type": "stream",
     "text": [
      "python\n",
      "['Welcome', 'laptop', 'Functions', 'Mobile', 'Bottle', 2, 3, 4]\n"
     ]
    }
   ],
   "source": [
    "d1=['Welcome','laptop','python','Mobile','Bottle',2,3,4]\n",
    "print(d1[2])\n",
    "d1[2]=\"Functions\"\n",
    "print(d1)"
   ]
  },
  {
   "cell_type": "markdown",
   "id": "656633e5",
   "metadata": {},
   "source": [
    "#### Iteration in List or Tuple"
   ]
  },
  {
   "cell_type": "code",
   "execution_count": 5,
   "id": "08777a62",
   "metadata": {},
   "outputs": [
    {
     "name": "stdout",
     "output_type": "stream",
     "text": [
      "12 63 44 55 26 17 "
     ]
    }
   ],
   "source": [
    "# Method 1 --> Element wise iteration\n",
    "g = [12,63,44,55,26,17]\n",
    "\n",
    "for i in g:\n",
    "    print(i,end=' ')"
   ]
  },
  {
   "cell_type": "code",
   "execution_count": 7,
   "id": "4ce8b89d",
   "metadata": {},
   "outputs": [
    {
     "name": "stdout",
     "output_type": "stream",
     "text": [
      "12 63 44 55 26 17 "
     ]
    }
   ],
   "source": [
    "# Method 2 --> Index wise iteration\n",
    "g = [12,63,44,55,26,17]\n",
    "\n",
    "for i in range (len(g)):\n",
    "    print(g[i],end=' ')"
   ]
  },
  {
   "cell_type": "markdown",
   "id": "dc088286",
   "metadata": {},
   "source": [
    "#### Indexing and Slicing"
   ]
  },
  {
   "cell_type": "code",
   "execution_count": 8,
   "id": "e857be62",
   "metadata": {},
   "outputs": [
    {
     "name": "stdout",
     "output_type": "stream",
     "text": [
      "5 7 9 11\n",
      "11 9 7 5\n"
     ]
    }
   ],
   "source": [
    "d = [5,7,9,11]\n",
    "print(d[0],d[1],d[2],d[3])  # positive indexing \n",
    "print(d[-1],d[-2],d[-3],d[-4])  # negative indexing "
   ]
  },
  {
   "cell_type": "markdown",
   "id": "2a41d586",
   "metadata": {},
   "source": [
    "#### Slicing \n",
    "r[start : end : step]\n",
    "1. Default step size is +1\n",
    "\n",
    "#### Left to Right\n",
    "1. Default start = 0\n",
    "2. Slicing proceeds till end-1\n",
    "3. Step has to be positive.\n",
    "\n",
    "#### Right to Left\n",
    "1. Slicing proceeds till end+1\n",
    "2. Step has to be negative"
   ]
  },
  {
   "cell_type": "code",
   "execution_count": 10,
   "id": "054868f7",
   "metadata": {},
   "outputs": [
    {
     "name": "stdout",
     "output_type": "stream",
     "text": [
      "[7, 4, 8, 9]\n",
      "[2, 6, 7]\n",
      "[5, 12, 14, 18, 17]\n",
      "[6, 4, 9, 12]\n"
     ]
    }
   ],
   "source": [
    "v = [2,6,7,4,8,9,5,12,14,18,17]\n",
    "\n",
    "print(v[2:6])     # start=2, end=6, step=+1\n",
    "print(v[:3])      # start=0, end=3, step=+1\n",
    "print(v[6:])      # start=6, step=+1\n",
    "print(v[1:8:2])   # start=1, end=8,step=+2"
   ]
  },
  {
   "cell_type": "code",
   "execution_count": 11,
   "id": "3881e6de",
   "metadata": {},
   "outputs": [
    {
     "name": "stdout",
     "output_type": "stream",
     "text": [
      "[18, 12, 9]\n"
     ]
    }
   ],
   "source": [
    "v = [2,6,7,4,8,9,5,12,14,18,17]\n",
    "\n",
    "print(v[-2:-7:-2])     # start=-2, end=-7, step=-2\n"
   ]
  },
  {
   "cell_type": "code",
   "execution_count": 12,
   "id": "1f6ff854",
   "metadata": {},
   "outputs": [
    {
     "name": "stdout",
     "output_type": "stream",
     "text": [
      "[2, 6, 7, 4, 8, 9, 5, 12, 14, 18, 17]\n",
      "[17, 18, 14, 12, 5, 9, 8, 4, 7, 6, 2]\n"
     ]
    }
   ],
   "source": [
    "print(v[:])\n",
    "print(v[::-1])   # reverse the entire list"
   ]
  },
  {
   "cell_type": "markdown",
   "id": "d68e6721",
   "metadata": {},
   "source": [
    "## List Methods"
   ]
  },
  {
   "cell_type": "code",
   "execution_count": 15,
   "id": "dfdefeac",
   "metadata": {},
   "outputs": [
    {
     "name": "stdout",
     "output_type": "stream",
     "text": [
      "[2, 4, 8]\n",
      "[2, 4, 8, 5]\n"
     ]
    }
   ],
   "source": [
    "# Append\n",
    "\n",
    "w=[2,4,8]\n",
    "print(w)\n",
    "w.append(5)  # At a time only one element is appended at end\n",
    "print(w)"
   ]
  },
  {
   "cell_type": "code",
   "execution_count": 16,
   "id": "d501bd11",
   "metadata": {},
   "outputs": [
    {
     "name": "stdout",
     "output_type": "stream",
     "text": [
      "[2, 4, 7]\n",
      "[2, 4, 7, [5, 6]]\n"
     ]
    }
   ],
   "source": [
    "# To add multiple element at end Append list to list\n",
    "q = [2,4,7]\n",
    "print(q)\n",
    "q.append([5,6])\n",
    "print(q)"
   ]
  },
  {
   "cell_type": "code",
   "execution_count": 2,
   "id": "a4f0e833",
   "metadata": {},
   "outputs": [
    {
     "name": "stdout",
     "output_type": "stream",
     "text": [
      "[2, 4, 5]\n",
      "[2, 4, 5, 78]\n"
     ]
    }
   ],
   "source": [
    "# extend\n",
    "\n",
    "w=[2,4,5]\n",
    "print(w)\n",
    "# w.extend(78)  --> It will give error \n",
    "w.extend([78])  # elements which are inside the list are added at the end of the list\n",
    "print(w)"
   ]
  },
  {
   "cell_type": "code",
   "execution_count": 4,
   "id": "3d105af9",
   "metadata": {},
   "outputs": [
    {
     "name": "stdout",
     "output_type": "stream",
     "text": [
      "[12, 13, 14, 15, 16]\n",
      "[12, 13, 14, 15, 16, [17, 18]]\n",
      "[12, 13, 14, 15, 16, [17, 18], 19, 20]\n"
     ]
    }
   ],
   "source": [
    "# Difference between append and extend\n",
    "x = [12,13,14,15,16]\n",
    "print(x)\n",
    "x.append([17,18])\n",
    "print(x)\n",
    "x.extend([19,20])\n",
    "print(x)"
   ]
  },
  {
   "cell_type": "code",
   "execution_count": 6,
   "id": "bbddbe4d",
   "metadata": {},
   "outputs": [
    {
     "name": "stdout",
     "output_type": "stream",
     "text": [
      "[10, 20, 30, 40, 50, 60, 70, 80]\n",
      "[10, 20, 30, 40, 50, 70, 80]\n",
      "[10, 20, 40, 50, 70, 80]\n",
      "[10, 20, 40, 50, 70]\n"
     ]
    }
   ],
   "source": [
    "# pop  -->  Removes element based on index\n",
    "#          If no index is passed last element is removed\n",
    "#          Only one element is popped at a time\n",
    "\n",
    "w = [10,20,30,40,50,60,70,80]\n",
    "print(w)\n",
    "w.pop(5)\n",
    "print(w)\n",
    "w.pop(2)\n",
    "print(w)\n",
    "w.pop()\n",
    "print(w)"
   ]
  },
  {
   "cell_type": "code",
   "execution_count": 9,
   "id": "99e4b903",
   "metadata": {},
   "outputs": [
    {
     "name": "stdout",
     "output_type": "stream",
     "text": [
      "[10, 20, 30, 40, 50, 60, 70, 80, 90]\n",
      "[10, 20, 30, 40, 'python', 50, 60, 70, 80, 90]\n",
      "['Java', 10, 20, 30, 40, 'python', 50, 60, 70, 80, 90]\n",
      "['Java', 10, 20, 30, 40, 'python', 50, 60, 70, 80, 90, 'Hello']\n"
     ]
    }
   ],
   "source": [
    "#  insert (index,element to insert)\n",
    "\n",
    "w = [10,20,30,40,50,60,70,80,90]\n",
    "print(w)\n",
    "# w.insert(100)    --> We can not insert element without index \n",
    "\n",
    "w.insert(4,'python')\n",
    "print(w)\n",
    "w.insert(-20,'Java')   # due to negative index it inserted at extreme left of list\n",
    "print(w)\n",
    "w.insert(48,'Hello')   # due to extreme positive index it inserted at the end of the list\n",
    "print(w)"
   ]
  },
  {
   "cell_type": "code",
   "execution_count": 10,
   "id": "55ff8641",
   "metadata": {},
   "outputs": [
    {
     "name": "stdout",
     "output_type": "stream",
     "text": [
      "[10, 20, 30, 40, 50, 60, 70, 80, 90]\n",
      "[10, 20, 30, 'Function', 50, 60, 70, 80, 90]\n"
     ]
    }
   ],
   "source": [
    "#  To replace the element at particular index use overwriting\n",
    "\n",
    "w = [10,20,30,40,50,60,70,80,90]\n",
    "print(w)\n",
    "w[3] = 'Function'\n",
    "print(w)"
   ]
  },
  {
   "cell_type": "code",
   "execution_count": 12,
   "id": "40e5205b",
   "metadata": {},
   "outputs": [
    {
     "name": "stdout",
     "output_type": "stream",
     "text": [
      "[10, 20, 30, 40, 50, 30]\n",
      "[10, 30, 40, 50, 30]\n",
      "[10, 40, 50, 30]\n"
     ]
    }
   ],
   "source": [
    "# remove()\n",
    "\n",
    "w = [10,20,30,40,50,30]\n",
    "print(w)\n",
    "w.remove(20)  # To remove element present in the list\n",
    "print(w)\n",
    "w.remove(30)  # 1st occurance of 30 is removed\n",
    "print(w)\n",
    "\n",
    "# w.remove(90)   # Here 90 is not present in the list hence we can't remove 90\n",
    "# It will throw an error"
   ]
  },
  {
   "cell_type": "markdown",
   "id": "2af93519",
   "metadata": {},
   "source": [
    "pop removes Element based on index where remove removes the element based on element"
   ]
  },
  {
   "cell_type": "code",
   "execution_count": 14,
   "id": "00140736",
   "metadata": {},
   "outputs": [
    {
     "name": "stdout",
     "output_type": "stream",
     "text": [
      "[2, 6, 7, 4, 8, 9, 5, 12, 14, 18, 17, 5, 20, 9]\n",
      "[2, 4, 5, 5, 6, 7, 8, 9, 9, 12, 14, 17, 18, 20]\n",
      "[20, 18, 17, 14, 12, 9, 9, 8, 7, 6, 5, 5, 4, 2]\n"
     ]
    }
   ],
   "source": [
    "# sort\n",
    "v = [2,6,7,4,8,9,5,12,14,18,17,5,20,9]\n",
    "print(v)\n",
    "v.sort()  # By default it will sort in ascending order\n",
    "print(v)\n",
    "v.sort(reverse=True)  #It will sort in descending order\n",
    "print(v)"
   ]
  },
  {
   "cell_type": "code",
   "execution_count": 19,
   "id": "11982ac6",
   "metadata": {},
   "outputs": [
    {
     "name": "stdout",
     "output_type": "stream",
     "text": [
      "['Welcome', 'python', 'Pyhton', 'game', 'mobile', 'loop']\n",
      "['Pyhton', 'Welcome', 'game', 'loop', 'mobile', 'python']\n",
      "['python', 'mobile', 'loop', 'game', 'Welcome', 'Pyhton']\n"
     ]
    }
   ],
   "source": [
    "v = ['Welcome','python','Pyhton','game','mobile','loop']\n",
    "print(v)\n",
    "v.sort()   # It will sort on the basis of ascii values\n",
    "print(v)\n",
    "\n",
    "# it uses Tim sort which is combination both merge sort and insertion sort\n",
    "v.sort(reverse=True)   # It will sort on the basis of ascii values in desc order\n",
    "print(v)"
   ]
  },
  {
   "cell_type": "code",
   "execution_count": 20,
   "id": "7950e6b5",
   "metadata": {},
   "outputs": [
    {
     "name": "stdout",
     "output_type": "stream",
     "text": [
      "2\n",
      "4\n",
      "0\n"
     ]
    }
   ],
   "source": [
    "# count \n",
    "\n",
    "t = [10,20,20,30,35,10,25,20,30,35,10,20,40,50,8,0,90,54]\n",
    "print(t.count(30))\n",
    "print(t.count(20))\n",
    "print(t.count(22))"
   ]
  },
  {
   "cell_type": "code",
   "execution_count": 24,
   "id": "5e3ef3d2",
   "metadata": {},
   "outputs": [
    {
     "name": "stdout",
     "output_type": "stream",
     "text": [
      "3\n",
      "0\n",
      "-----------------\n",
      "8\n"
     ]
    }
   ],
   "source": [
    "# index\n",
    "\n",
    "t = [10,20,20,30,35,10,25,20,30,35,10,20,40,50,8,0,90,54]\n",
    "print(t.index(30))\n",
    "print(t.index(10))\n",
    "# print(t.index(98))  --> If element is not present then it will give error\n",
    "\n",
    "print('-----------------')\n",
    "\n",
    "print(t.index(30,4))\n",
    "# 1st occurance of 30 ,starting index is 4"
   ]
  },
  {
   "cell_type": "code",
   "execution_count": 25,
   "id": "1c45b522",
   "metadata": {},
   "outputs": [
    {
     "name": "stdout",
     "output_type": "stream",
     "text": [
      "[5, 27, 8]\n",
      "[8, 27, 5]\n"
     ]
    }
   ],
   "source": [
    "#  reverse()  --> Reverse the list\n",
    "\n",
    "g = [5,27,8]\n",
    "print(g)\n",
    "g.reverse()\n",
    "print(g)"
   ]
  },
  {
   "cell_type": "code",
   "execution_count": null,
   "id": "1bd53214",
   "metadata": {},
   "outputs": [],
   "source": []
  },
  {
   "cell_type": "code",
   "execution_count": null,
   "id": "82e70c41",
   "metadata": {},
   "outputs": [],
   "source": []
  },
  {
   "cell_type": "code",
   "execution_count": 26,
   "id": "051c151f",
   "metadata": {},
   "outputs": [
    {
     "name": "stdout",
     "output_type": "stream",
     "text": [
      "[10, 20, 17, 18, 30, 45, 48]\n"
     ]
    }
   ],
   "source": [
    "w = [10,20,17,18,20,30,45,30,48]\n",
    "w1 = []\n",
    "\n",
    "# to get diffent elements present in the list\n",
    "\n",
    "for i in w:\n",
    "    if i not in w1:\n",
    "        w1.append(i)\n",
    "print(w1)"
   ]
  },
  {
   "cell_type": "code",
   "execution_count": 27,
   "id": "95c3f1aa",
   "metadata": {},
   "outputs": [
    {
     "name": "stdout",
     "output_type": "stream",
     "text": [
      "[10, 20, 17, 18, 30, 45, 48]\n"
     ]
    }
   ],
   "source": [
    "w2 = []\n",
    "for i in w:\n",
    "    if w.count(i==1):\n",
    "        w1.append(i)\n",
    "print(w1)"
   ]
  },
  {
   "cell_type": "code",
   "execution_count": 28,
   "id": "5959bc93",
   "metadata": {},
   "outputs": [
    {
     "name": "stdout",
     "output_type": "stream",
     "text": [
      "[2, 5, 8, 1, 10, 100, 1000]\n"
     ]
    }
   ],
   "source": [
    "# Elements of same data type are concatenated\n",
    "\n",
    "q1 = [2,5,8]\n",
    "q2 = [1,10,100,1000]\n",
    "\n",
    "q3 = q1 + q2\n",
    "\n",
    "print(q3)"
   ]
  },
  {
   "cell_type": "code",
   "execution_count": 30,
   "id": "0663a376",
   "metadata": {},
   "outputs": [
    {
     "name": "stdout",
     "output_type": "stream",
     "text": [
      "[20, 30, 20, 30, 20, 30, 20, 30, 20, 30]\n"
     ]
    }
   ],
   "source": [
    "# elements in the list are repeted n number of times in order\n",
    "s1 = [20,30]*5\n",
    "print(s1)"
   ]
  },
  {
   "cell_type": "code",
   "execution_count": null,
   "id": "b59fc173",
   "metadata": {},
   "outputs": [],
   "source": []
  }
 ],
 "metadata": {
  "kernelspec": {
   "display_name": "Python 3 (ipykernel)",
   "language": "python",
   "name": "python3"
  },
  "language_info": {
   "codemirror_mode": {
    "name": "ipython",
    "version": 3
   },
   "file_extension": ".py",
   "mimetype": "text/x-python",
   "name": "python",
   "nbconvert_exporter": "python",
   "pygments_lexer": "ipython3",
   "version": "3.11.3"
  }
 },
 "nbformat": 4,
 "nbformat_minor": 5
}
