{
  "nbformat": 4,
  "nbformat_minor": 0,
  "metadata": {
    "colab": {
      "provenance": []
    },
    "kernelspec": {
      "name": "python3",
      "display_name": "Python 3"
    },
    "language_info": {
      "name": "python"
    }
  },
  "cells": [
    {
      "cell_type": "markdown",
      "source": [
        "## **File Handling**\n",
        "1. readlines() - Returns a comma separated text from the file read.\n",
        "2. read(n) - Reads n character from the file\n",
        "3. tell() - Returns the current cursor position\n",
        "4. seek() - Used to reposition the cursor to a particular index\n",
        "5. write() - used to write some text to file"
      ],
      "metadata": {
        "id": "PcJtZNdQ3vFL"
      }
    },
    {
      "cell_type": "code",
      "source": [
        "#  mode = 'r'\n",
        "\n",
        "f1 = open(\"demo.txt\", \"r\")\n",
        "r1 = f1.readlines()\n",
        "print(r1)\n",
        "f1.close() # To deallocate the memory"
      ],
      "metadata": {
        "colab": {
          "base_uri": "https://localhost:8080/"
        },
        "id": "F89W_nEq4f5j",
        "outputId": "4647237e-a4c4-4dde-f8fe-a23c094d4b47"
      },
      "execution_count": 4,
      "outputs": [
        {
          "output_type": "stream",
          "name": "stdout",
          "text": [
            "['Hello worldpythonRam navamiFile handlingMay mouth']\n"
          ]
        }
      ]
    },
    {
      "cell_type": "code",
      "source": [
        "f2 = open(\"demo.txt\", \"r\")\n",
        "r2 = f2.read(15)\n",
        "print(r2)"
      ],
      "metadata": {
        "colab": {
          "base_uri": "https://localhost:8080/"
        },
        "id": "oPMCh3Re5Pvb",
        "outputId": "51e3c192-0416-4219-ebb0-cdc568e74c42"
      },
      "execution_count": 5,
      "outputs": [
        {
          "output_type": "stream",
          "name": "stdout",
          "text": [
            "Hello worldpyth\n"
          ]
        }
      ]
    },
    {
      "cell_type": "code",
      "source": [
        "f2.tell()"
      ],
      "metadata": {
        "colab": {
          "base_uri": "https://localhost:8080/"
        },
        "id": "5fPs9pxr5kOh",
        "outputId": "444483ec-14d0-44bd-99c7-6e4d7511f00e"
      },
      "execution_count": 6,
      "outputs": [
        {
          "output_type": "execute_result",
          "data": {
            "text/plain": [
              "15"
            ]
          },
          "metadata": {},
          "execution_count": 6
        }
      ]
    },
    {
      "cell_type": "code",
      "source": [
        "f2.seek(7)\n",
        "r3 = f2.read(8)\n",
        "print(r3)"
      ],
      "metadata": {
        "colab": {
          "base_uri": "https://localhost:8080/"
        },
        "id": "Xnou7VXV5nwB",
        "outputId": "62575501-0c52-4e53-c578-10c5b274bb4e"
      },
      "execution_count": 7,
      "outputs": [
        {
          "output_type": "stream",
          "name": "stdout",
          "text": [
            "orldpyth\n"
          ]
        }
      ]
    },
    {
      "cell_type": "code",
      "source": [
        "r4 = f2.readlines()\n",
        "print(r4)"
      ],
      "metadata": {
        "colab": {
          "base_uri": "https://localhost:8080/"
        },
        "id": "6aK6WEEI6L9i",
        "outputId": "4d727cbc-df87-44bf-c5f7-366556761ada"
      },
      "execution_count": 8,
      "outputs": [
        {
          "output_type": "stream",
          "name": "stdout",
          "text": [
            "['onRam navamiFile handlingMay mouth']\n"
          ]
        }
      ]
    },
    {
      "cell_type": "code",
      "source": [
        "# # reading file at different path\n",
        "# s = open(\"path\",\"mode\")\n",
        "# s1 = s.readlines()\n",
        "# print(s1)"
      ],
      "metadata": {
        "id": "gNu19OOE6TRY"
      },
      "execution_count": 9,
      "outputs": []
    },
    {
      "cell_type": "markdown",
      "source": [
        "##### **Reading file in append mode**\n",
        "used to add some text to file"
      ],
      "metadata": {
        "id": "SzzgkbMoL7dc"
      }
    },
    {
      "cell_type": "code",
      "source": [
        "with open(\"demo.txt\",\"a\") as s:\n",
        "  s.write(\"\\nFile handling\")\n",
        "  s.write(\"\\nJune month\")\n",
        "  s.close()"
      ],
      "metadata": {
        "id": "zGvIdu5qL2mz"
      },
      "execution_count": 13,
      "outputs": []
    },
    {
      "cell_type": "code",
      "source": [
        "with open(\"demo.txt\",\"r\") as g:\n",
        "  g2 = g.readlines()\n",
        "  print(g2)"
      ],
      "metadata": {
        "colab": {
          "base_uri": "https://localhost:8080/"
        },
        "id": "BHk9m4U6Mg9q",
        "outputId": "5fa8fdc5-53b2-4a0c-e78f-0b7e292b9d75"
      },
      "execution_count": 14,
      "outputs": [
        {
          "output_type": "stream",
          "name": "stdout",
          "text": [
            "['Hello worldpythonRam navamiFile handlingMay mouthFile handlingJune month\\n', 'File handling\\n', 'June month']\n"
          ]
        }
      ]
    },
    {
      "cell_type": "markdown",
      "source": [
        "##### **Reading file in write mode**\n",
        "1. used to create new file from scratch and to add some content to the file\n",
        "2. If we are reading an existing file in the write mode, it will be overwritten"
      ],
      "metadata": {
        "id": "_2MUD2gsNYSH"
      }
    },
    {
      "cell_type": "code",
      "source": [
        "with open(\"demo1.txt\",\"w\") as s:\n",
        "  s.write(\"File handling\")\n",
        "  s.write(\"\\nJune month\")\n",
        "  s.close()"
      ],
      "metadata": {
        "id": "OTMCpDZGM_0K"
      },
      "execution_count": 17,
      "outputs": []
    },
    {
      "cell_type": "code",
      "source": [
        "with open(\"demo1.txt\",\"r\") as g:\n",
        "  g2 = g.readlines()\n",
        "  print(g2)"
      ],
      "metadata": {
        "colab": {
          "base_uri": "https://localhost:8080/"
        },
        "id": "4nJ1ig7rN61W",
        "outputId": "43b5c646-034c-4b5b-dd1d-dd3fe9434ca7"
      },
      "execution_count": 18,
      "outputs": [
        {
          "output_type": "stream",
          "name": "stdout",
          "text": [
            "['File handling\\n', 'June month']\n"
          ]
        }
      ]
    },
    {
      "cell_type": "code",
      "source": [],
      "metadata": {
        "id": "nFXp4mZXOqap"
      },
      "execution_count": null,
      "outputs": []
    }
  ]
}