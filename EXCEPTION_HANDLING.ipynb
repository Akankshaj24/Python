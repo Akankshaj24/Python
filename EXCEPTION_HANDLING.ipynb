{
  "nbformat": 4,
  "nbformat_minor": 0,
  "metadata": {
    "colab": {
      "provenance": []
    },
    "kernelspec": {
      "name": "python3",
      "display_name": "Python 3"
    },
    "language_info": {
      "name": "python"
    }
  },
  "cells": [
    {
      "cell_type": "markdown",
      "source": [
        "#### **Errors**\n",
        "Errors - errors are the problems in a program due to which the program will stop the execution\n",
        "\n",
        "--> Errors in python can be of two types\n",
        "1. **Syntax Errors** - They occur due to incorrect syntax\n",
        "2. **Exceptions** - Exceptions are raised when some internal events occur which change the normal flow of the program.\n",
        "\n",
        "## Exception Handling\n",
        "**Exception Handling doesn't remove the error, it simply avoids it**\n",
        "1. **Try** : We write the code which is suspected to contain exception(Error)\n",
        "2. **except** : Handle the error(Exception). except block of code works only when there is an exception(error) in try block\n",
        "3. **else** : Code will execute if there is no error(exception) in try block\n",
        "4. **finally** : Code will work regardless of the presence or absence of error(Exception) in the try block\n",
        "\n",
        "**Notes**\n",
        "\n",
        "1. Atleast try and except block of code should be written while handling exception.\n",
        "2. else and finally are optional\n"
      ],
      "metadata": {
        "id": "4NrKz4QhTS85"
      }
    },
    {
      "cell_type": "markdown",
      "source": [
        "## **Syntax Error**"
      ],
      "metadata": {
        "id": "UL_EWy9rVzYk"
      }
    },
    {
      "cell_type": "code",
      "source": [
        "name = \"Ankit\n",
        "print(name)"
      ],
      "metadata": {
        "colab": {
          "base_uri": "https://localhost:8080/",
          "height": 140
        },
        "id": "nTo1yyD2VylG",
        "outputId": "5ea2f052-cc64-48de-d7a7-571bd491c113"
      },
      "execution_count": 1,
      "outputs": [
        {
          "output_type": "error",
          "ename": "SyntaxError",
          "evalue": "ignored",
          "traceback": [
            "\u001b[0;36m  File \u001b[0;32m\"<ipython-input-1-3ce7c1bf056c>\"\u001b[0;36m, line \u001b[0;32m1\u001b[0m\n\u001b[0;31m    name = \"Ankit\u001b[0m\n\u001b[0m           ^\u001b[0m\n\u001b[0;31mSyntaxError\u001b[0m\u001b[0;31m:\u001b[0m unterminated string literal (detected at line 1)\n"
          ]
        }
      ]
    },
    {
      "cell_type": "code",
      "source": [
        "print(7+3"
      ],
      "metadata": {
        "colab": {
          "base_uri": "https://localhost:8080/",
          "height": 140
        },
        "id": "dvwlsUW7V_jn",
        "outputId": "4f814c75-c43b-4d75-9deb-87b676b3f30d"
      },
      "execution_count": 2,
      "outputs": [
        {
          "output_type": "error",
          "ename": "SyntaxError",
          "evalue": "ignored",
          "traceback": [
            "\u001b[0;36m  File \u001b[0;32m\"<ipython-input-2-9acd4e854709>\"\u001b[0;36m, line \u001b[0;32m1\u001b[0m\n\u001b[0;31m    print(7+3\u001b[0m\n\u001b[0m             ^\u001b[0m\n\u001b[0;31mSyntaxError\u001b[0m\u001b[0;31m:\u001b[0m incomplete input\n"
          ]
        }
      ]
    },
    {
      "cell_type": "markdown",
      "source": [
        "## **Exceptions**"
      ],
      "metadata": {
        "id": "1JKEIQOUWglz"
      }
    },
    {
      "cell_type": "markdown",
      "source": [
        "### ZeroDivisionError"
      ],
      "metadata": {
        "id": "X1thQswzXqsl"
      }
    },
    {
      "cell_type": "code",
      "source": [
        "a = 7\n",
        "b = 0\n",
        "print(a/b)"
      ],
      "metadata": {
        "colab": {
          "base_uri": "https://localhost:8080/",
          "height": 210
        },
        "id": "1VLFwn8-WKGn",
        "outputId": "05b153a6-67eb-4216-a26f-85e7411c0edc"
      },
      "execution_count": 3,
      "outputs": [
        {
          "output_type": "error",
          "ename": "ZeroDivisionError",
          "evalue": "ignored",
          "traceback": [
            "\u001b[0;31m---------------------------------------------------------------------------\u001b[0m",
            "\u001b[0;31mZeroDivisionError\u001b[0m                         Traceback (most recent call last)",
            "\u001b[0;32m<ipython-input-3-236be3a4fa77>\u001b[0m in \u001b[0;36m<cell line: 3>\u001b[0;34m()\u001b[0m\n\u001b[1;32m      1\u001b[0m \u001b[0ma\u001b[0m \u001b[0;34m=\u001b[0m \u001b[0;36m7\u001b[0m\u001b[0;34m\u001b[0m\u001b[0;34m\u001b[0m\u001b[0m\n\u001b[1;32m      2\u001b[0m \u001b[0mb\u001b[0m \u001b[0;34m=\u001b[0m \u001b[0;36m0\u001b[0m\u001b[0;34m\u001b[0m\u001b[0;34m\u001b[0m\u001b[0m\n\u001b[0;32m----> 3\u001b[0;31m \u001b[0mprint\u001b[0m\u001b[0;34m(\u001b[0m\u001b[0ma\u001b[0m\u001b[0;34m/\u001b[0m\u001b[0mb\u001b[0m\u001b[0;34m)\u001b[0m\u001b[0;34m\u001b[0m\u001b[0;34m\u001b[0m\u001b[0m\n\u001b[0m",
            "\u001b[0;31mZeroDivisionError\u001b[0m: division by zero"
          ]
        }
      ]
    },
    {
      "cell_type": "code",
      "source": [
        "a  = int(input(\"Enter 1st number : \"))\n",
        "b  = int(input(\"Enter 2nd number : \"))\n",
        "print(a/b)"
      ],
      "metadata": {
        "colab": {
          "base_uri": "https://localhost:8080/",
          "height": 245
        },
        "id": "Mr0U2vB0Wrh5",
        "outputId": "91d26f2b-90df-48ed-b27a-b759972589f4"
      },
      "execution_count": 4,
      "outputs": [
        {
          "name": "stdout",
          "output_type": "stream",
          "text": [
            "Enter 1st number : 23\n",
            "Enter 2nd number : 0\n"
          ]
        },
        {
          "output_type": "error",
          "ename": "ZeroDivisionError",
          "evalue": "ignored",
          "traceback": [
            "\u001b[0;31m---------------------------------------------------------------------------\u001b[0m",
            "\u001b[0;31mZeroDivisionError\u001b[0m                         Traceback (most recent call last)",
            "\u001b[0;32m<ipython-input-4-5b2950b4ca4b>\u001b[0m in \u001b[0;36m<cell line: 3>\u001b[0;34m()\u001b[0m\n\u001b[1;32m      1\u001b[0m \u001b[0ma\u001b[0m  \u001b[0;34m=\u001b[0m \u001b[0mint\u001b[0m\u001b[0;34m(\u001b[0m\u001b[0minput\u001b[0m\u001b[0;34m(\u001b[0m\u001b[0;34m\"Enter 1st number : \"\u001b[0m\u001b[0;34m)\u001b[0m\u001b[0;34m)\u001b[0m\u001b[0;34m\u001b[0m\u001b[0;34m\u001b[0m\u001b[0m\n\u001b[1;32m      2\u001b[0m \u001b[0mb\u001b[0m  \u001b[0;34m=\u001b[0m \u001b[0mint\u001b[0m\u001b[0;34m(\u001b[0m\u001b[0minput\u001b[0m\u001b[0;34m(\u001b[0m\u001b[0;34m\"Enter 2nd number : \"\u001b[0m\u001b[0;34m)\u001b[0m\u001b[0;34m)\u001b[0m\u001b[0;34m\u001b[0m\u001b[0;34m\u001b[0m\u001b[0m\n\u001b[0;32m----> 3\u001b[0;31m \u001b[0mprint\u001b[0m\u001b[0;34m(\u001b[0m\u001b[0ma\u001b[0m\u001b[0;34m/\u001b[0m\u001b[0mb\u001b[0m\u001b[0;34m)\u001b[0m\u001b[0;34m\u001b[0m\u001b[0;34m\u001b[0m\u001b[0m\n\u001b[0m",
            "\u001b[0;31mZeroDivisionError\u001b[0m: division by zero"
          ]
        }
      ]
    },
    {
      "cell_type": "code",
      "source": [
        "try:\n",
        "  a  = int(input(\"Enter 1st number : \"))\n",
        "  b  = int(input(\"Enter 2nd number : \"))\n",
        "  print(a/b)\n",
        "except:\n",
        "  print(\"Exception encountered\")"
      ],
      "metadata": {
        "colab": {
          "base_uri": "https://localhost:8080/"
        },
        "id": "Z4kV5uTqW_Rn",
        "outputId": "56ff2740-7953-4a6c-b2df-3c4fd9db44aa"
      },
      "execution_count": 7,
      "outputs": [
        {
          "output_type": "stream",
          "name": "stdout",
          "text": [
            "Enter 1st number : 23\n",
            "Enter 2nd number : 0\n",
            "Exception encountered\n"
          ]
        }
      ]
    },
    {
      "cell_type": "code",
      "source": [
        "try:\n",
        "  a  = int(input(\"Enter 1st number : \"))\n",
        "  b  = int(input(\"Enter 2nd number : \"))\n",
        "  print(a/b)\n",
        "except ZeroDivisionError as emsg:\n",
        "  print(\"Exception encountered : \",emsg)"
      ],
      "metadata": {
        "colab": {
          "base_uri": "https://localhost:8080/"
        },
        "id": "PboQxbQpXUJp",
        "outputId": "2f53d681-caa1-4bad-ba6e-4b2f2ad35874"
      },
      "execution_count": 8,
      "outputs": [
        {
          "output_type": "stream",
          "name": "stdout",
          "text": [
            "Enter 1st number : 23\n",
            "Enter 2nd number : 0\n",
            "Exception encountered :  division by zero\n"
          ]
        }
      ]
    },
    {
      "cell_type": "markdown",
      "source": [
        "### TypeError"
      ],
      "metadata": {
        "id": "YJOJYn3eXuKV"
      }
    },
    {
      "cell_type": "code",
      "source": [
        "a = 10\n",
        "b = '5'\n",
        "print(a+b)"
      ],
      "metadata": {
        "colab": {
          "base_uri": "https://localhost:8080/",
          "height": 210
        },
        "id": "HCb37lC_XWno",
        "outputId": "91b7f6ce-a4c5-4f55-edfc-0e558f53b352"
      },
      "execution_count": 9,
      "outputs": [
        {
          "output_type": "error",
          "ename": "TypeError",
          "evalue": "ignored",
          "traceback": [
            "\u001b[0;31m---------------------------------------------------------------------------\u001b[0m",
            "\u001b[0;31mTypeError\u001b[0m                                 Traceback (most recent call last)",
            "\u001b[0;32m<ipython-input-9-2d677be115b3>\u001b[0m in \u001b[0;36m<cell line: 3>\u001b[0;34m()\u001b[0m\n\u001b[1;32m      1\u001b[0m \u001b[0ma\u001b[0m \u001b[0;34m=\u001b[0m \u001b[0;36m10\u001b[0m\u001b[0;34m\u001b[0m\u001b[0;34m\u001b[0m\u001b[0m\n\u001b[1;32m      2\u001b[0m \u001b[0mb\u001b[0m \u001b[0;34m=\u001b[0m \u001b[0;34m'5'\u001b[0m\u001b[0;34m\u001b[0m\u001b[0;34m\u001b[0m\u001b[0m\n\u001b[0;32m----> 3\u001b[0;31m \u001b[0mprint\u001b[0m\u001b[0;34m(\u001b[0m\u001b[0ma\u001b[0m\u001b[0;34m+\u001b[0m\u001b[0mb\u001b[0m\u001b[0;34m)\u001b[0m\u001b[0;34m\u001b[0m\u001b[0;34m\u001b[0m\u001b[0m\n\u001b[0m",
            "\u001b[0;31mTypeError\u001b[0m: unsupported operand type(s) for +: 'int' and 'str'"
          ]
        }
      ]
    },
    {
      "cell_type": "code",
      "source": [
        "try:\n",
        "  a = 10\n",
        "  b = '5'\n",
        "  print(a+b)\n",
        "except TypeError as emsg:\n",
        "  print(\"Exception encountered : \",emsg)"
      ],
      "metadata": {
        "colab": {
          "base_uri": "https://localhost:8080/"
        },
        "id": "7BW_fSScX3Ko",
        "outputId": "af9efc48-cd73-45f1-def3-49427b2e7d0d"
      },
      "execution_count": 10,
      "outputs": [
        {
          "output_type": "stream",
          "name": "stdout",
          "text": [
            "Exception encountered :  unsupported operand type(s) for +: 'int' and 'str'\n"
          ]
        }
      ]
    },
    {
      "cell_type": "markdown",
      "source": [
        "### ValueError"
      ],
      "metadata": {
        "id": "hw2jskqSYbXR"
      }
    },
    {
      "cell_type": "code",
      "source": [
        "a = int(input(\"Enter a number : \"))\n",
        "print(a)"
      ],
      "metadata": {
        "colab": {
          "base_uri": "https://localhost:8080/",
          "height": 210
        },
        "id": "wtbDQJaHYF4X",
        "outputId": "7f72adf4-92da-480a-fa0f-b6f2fdeedb20"
      },
      "execution_count": 11,
      "outputs": [
        {
          "name": "stdout",
          "output_type": "stream",
          "text": [
            "Enter a number : a\n"
          ]
        },
        {
          "output_type": "error",
          "ename": "ValueError",
          "evalue": "ignored",
          "traceback": [
            "\u001b[0;31m---------------------------------------------------------------------------\u001b[0m",
            "\u001b[0;31mValueError\u001b[0m                                Traceback (most recent call last)",
            "\u001b[0;32m<ipython-input-11-7972b666fbfc>\u001b[0m in \u001b[0;36m<cell line: 1>\u001b[0;34m()\u001b[0m\n\u001b[0;32m----> 1\u001b[0;31m \u001b[0ma\u001b[0m \u001b[0;34m=\u001b[0m \u001b[0mint\u001b[0m\u001b[0;34m(\u001b[0m\u001b[0minput\u001b[0m\u001b[0;34m(\u001b[0m\u001b[0;34m\"Enter a number : \"\u001b[0m\u001b[0;34m)\u001b[0m\u001b[0;34m)\u001b[0m\u001b[0;34m\u001b[0m\u001b[0;34m\u001b[0m\u001b[0m\n\u001b[0m\u001b[1;32m      2\u001b[0m \u001b[0mprint\u001b[0m\u001b[0;34m(\u001b[0m\u001b[0ma\u001b[0m\u001b[0;34m)\u001b[0m\u001b[0;34m\u001b[0m\u001b[0;34m\u001b[0m\u001b[0m\n",
            "\u001b[0;31mValueError\u001b[0m: invalid literal for int() with base 10: 'a'"
          ]
        }
      ]
    },
    {
      "cell_type": "code",
      "source": [
        "try:\n",
        "  a = int(input(\"Enter 1st number : \"))\n",
        "  b = int(input(\"Enter 2nd number : \"))\n",
        "  print(a/b)\n",
        "except ValueError as em1:\n",
        "  print(\"Value error msg : \",em1)\n",
        "except ZeroDivisionError as em2:\n",
        "  print(\"Zero division error : \",em2)\n",
        "else:\n",
        "  print(f\"Division : {a/b}\")\n",
        "finally:\n",
        "  print(\"This block will work regardless of occurance of error\")"
      ],
      "metadata": {
        "colab": {
          "base_uri": "https://localhost:8080/"
        },
        "id": "2wIFZJnKYtqz",
        "outputId": "f657d261-ba4b-46f9-f557-243eb967ae05"
      },
      "execution_count": 12,
      "outputs": [
        {
          "output_type": "stream",
          "name": "stdout",
          "text": [
            "Enter 1st number : 10\n",
            "Enter 2nd number : 2\n",
            "5.0\n",
            "Division : 5.0\n",
            "This block will work regardless of occurance of error\n"
          ]
        }
      ]
    },
    {
      "cell_type": "code",
      "source": [
        "try:\n",
        "  a = int(input(\"Enter 1st number : \"))\n",
        "  b = int(input(\"Enter 2nd number : \"))\n",
        "  print(a/b)\n",
        "except ValueError as em1:\n",
        "  print(\"Value error msg : \",em1)\n",
        "except ZeroDivisionError as em2:\n",
        "  print(\"Zero division error : \",em2)\n",
        "else:\n",
        "  print(f\"Division : {a/b}\")\n",
        "finally:\n",
        "  print(\"This block will work regardless of occurance of error\")"
      ],
      "metadata": {
        "colab": {
          "base_uri": "https://localhost:8080/"
        },
        "id": "GFs6krLZZtun",
        "outputId": "e1542450-c43a-4b2d-fcf9-781f13b47028"
      },
      "execution_count": 13,
      "outputs": [
        {
          "output_type": "stream",
          "name": "stdout",
          "text": [
            "Enter 1st number : a\n",
            "Value error msg :  invalid literal for int() with base 10: 'a'\n",
            "This block will work regardless of occurance of error\n"
          ]
        }
      ]
    },
    {
      "cell_type": "code",
      "source": [
        "try:\n",
        "  a = int(input(\"Enter 1st number : \"))\n",
        "  b = int(input(\"Enter 2nd number : \"))\n",
        "  print(a/b)\n",
        "except ValueError as em1:\n",
        "  print(\"Value error msg : \",em1)\n",
        "except ZeroDivisionError as em2:\n",
        "  print(\"Zero division error : \",em2)\n",
        "else:\n",
        "  print(f\"Division : {a/b}\")\n",
        "finally:\n",
        "  print(\"This block will work regardless of occurance of error\")"
      ],
      "metadata": {
        "colab": {
          "base_uri": "https://localhost:8080/"
        },
        "id": "jnzJBicKZyPH",
        "outputId": "c30bc9bc-dd91-440a-9b6a-c95a400a0f11"
      },
      "execution_count": 14,
      "outputs": [
        {
          "output_type": "stream",
          "name": "stdout",
          "text": [
            "Enter 1st number : 10\n",
            "Enter 2nd number : 0\n",
            "Zero division error :  division by zero\n",
            "This block will work regardless of occurance of error\n"
          ]
        }
      ]
    },
    {
      "cell_type": "markdown",
      "source": [
        "### IndexError"
      ],
      "metadata": {
        "id": "_P9HnmYmafQG"
      }
    },
    {
      "cell_type": "code",
      "source": [
        "r = [1, 2, 3, 4]\n",
        "print(r[5])"
      ],
      "metadata": {
        "colab": {
          "base_uri": "https://localhost:8080/",
          "height": 192
        },
        "id": "EJQTIR_FZ24l",
        "outputId": "f6f88984-dfd4-4148-cfa7-fe79a2041cfd"
      },
      "execution_count": 15,
      "outputs": [
        {
          "output_type": "error",
          "ename": "IndexError",
          "evalue": "ignored",
          "traceback": [
            "\u001b[0;31m---------------------------------------------------------------------------\u001b[0m",
            "\u001b[0;31mIndexError\u001b[0m                                Traceback (most recent call last)",
            "\u001b[0;32m<ipython-input-15-15877bf592d1>\u001b[0m in \u001b[0;36m<cell line: 2>\u001b[0;34m()\u001b[0m\n\u001b[1;32m      1\u001b[0m \u001b[0mr\u001b[0m \u001b[0;34m=\u001b[0m \u001b[0;34m[\u001b[0m\u001b[0;36m1\u001b[0m\u001b[0;34m,\u001b[0m \u001b[0;36m2\u001b[0m\u001b[0;34m,\u001b[0m \u001b[0;36m3\u001b[0m\u001b[0;34m,\u001b[0m \u001b[0;36m4\u001b[0m\u001b[0;34m]\u001b[0m\u001b[0;34m\u001b[0m\u001b[0;34m\u001b[0m\u001b[0m\n\u001b[0;32m----> 2\u001b[0;31m \u001b[0mprint\u001b[0m\u001b[0;34m(\u001b[0m\u001b[0mr\u001b[0m\u001b[0;34m[\u001b[0m\u001b[0;36m5\u001b[0m\u001b[0;34m]\u001b[0m\u001b[0;34m)\u001b[0m\u001b[0;34m\u001b[0m\u001b[0;34m\u001b[0m\u001b[0m\n\u001b[0m",
            "\u001b[0;31mIndexError\u001b[0m: list index out of range"
          ]
        }
      ]
    },
    {
      "cell_type": "code",
      "source": [
        "try:\n",
        "  r = [1, 2, 3, 4]\n",
        "  print(r[5])\n",
        "except IndexError as em4:\n",
        "  print(\"IndexError Occured\")\n",
        "else:\n",
        "  print(\"No error in try block\")"
      ],
      "metadata": {
        "colab": {
          "base_uri": "https://localhost:8080/"
        },
        "id": "VOoPQ9bRa2JM",
        "outputId": "0b1f7dbf-3f7a-4950-d547-eeb74273d72c"
      },
      "execution_count": 18,
      "outputs": [
        {
          "output_type": "stream",
          "name": "stdout",
          "text": [
            "IndexError Occured\n"
          ]
        }
      ]
    },
    {
      "cell_type": "code",
      "source": [
        "try:\n",
        "  r = [1, 2, 3, 4]\n",
        "  print(r[5])\n",
        "except Exception as em4:\n",
        "  print(\"IndexError Occured\")"
      ],
      "metadata": {
        "colab": {
          "base_uri": "https://localhost:8080/"
        },
        "id": "l0QtrAY0bFwv",
        "outputId": "2ea755d2-78e6-4040-85dd-13794a5150a2"
      },
      "execution_count": 19,
      "outputs": [
        {
          "output_type": "stream",
          "name": "stdout",
          "text": [
            "IndexError Occured\n"
          ]
        }
      ]
    },
    {
      "cell_type": "code",
      "source": [],
      "metadata": {
        "id": "36t-Gqufckq6"
      },
      "execution_count": null,
      "outputs": []
    }
  ]
}