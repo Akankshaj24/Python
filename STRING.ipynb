{
 "cells": [
  {
   "cell_type": "markdown",
   "id": "fe5c3d74",
   "metadata": {},
   "source": [
    "# STRING FUNCTIONS"
   ]
  },
  {
   "cell_type": "code",
   "execution_count": 3,
   "id": "05f5c3c5",
   "metadata": {},
   "outputs": [],
   "source": [
    "s1,s2,s3=\"hello\",\"DELL\",\"welcome to python. hii\""
   ]
  },
  {
   "cell_type": "code",
   "execution_count": 4,
   "id": "9f88cf8b",
   "metadata": {},
   "outputs": [
    {
     "name": "stdout",
     "output_type": "stream",
     "text": [
      "HELLO\n",
      "dell\n",
      "Welcome To Python. Hii\n",
      "Welcome to python. hii\n"
     ]
    }
   ],
   "source": [
    "print(s1.upper())\n",
    "print(s2.lower())\n",
    "print(s3.title())         #capitalize 1st letter of every word\n",
    "print(s3.capitalize())    #capitalize 1st letter of input "
   ]
  },
  {
   "cell_type": "code",
   "execution_count": 5,
   "id": "aa749cc1",
   "metadata": {},
   "outputs": [
    {
     "name": "stdout",
     "output_type": "stream",
     "text": [
      "True\n",
      "True\n",
      "True\n",
      "False\n",
      "True\n"
     ]
    }
   ],
   "source": [
    "s5=\"3456\"\n",
    "s6=\"  D  \"\n",
    "s7=\"      \"\n",
    "\n",
    "print(s1.islower())\n",
    "print(s2.isupper())\n",
    "print(s5.isdigit())\n",
    "print(s6.isspace())\n",
    "print(s7.isspace())"
   ]
  },
  {
   "cell_type": "markdown",
   "id": "0b6f0ee0",
   "metadata": {},
   "source": [
    "###### Enter a string and count the number of uppercase, lowercase, digits,spcl character and space characters"
   ]
  },
  {
   "cell_type": "code",
   "execution_count": 7,
   "id": "e209125a",
   "metadata": {},
   "outputs": [
    {
     "name": "stdout",
     "output_type": "stream",
     "text": [
      "Enter a String: Welcome TO July 2023 ::))\n",
      "Uppercase count is 4\n",
      "Lowercase count is 9\n",
      "Digits count is 4\n",
      "Space count is 4\n",
      "Special Character count is 4\n"
     ]
    }
   ],
   "source": [
    "s=input(\"Enter a String: \")\n",
    "lower,upper,space,digit,splchar=0,0,0,0,0\n",
    "for i in (s):\n",
    "    if (i.islower()):\n",
    "        lower+=1\n",
    "    elif(i.isupper()):\n",
    "        upper+=1\n",
    "    elif(i.isdigit()):\n",
    "        digit+=1\n",
    "    elif(i.isspace()):\n",
    "        space+=1\n",
    "    else:\n",
    "        splchar+=1\n",
    "\n",
    "print(f\"Uppercase count is {upper}\")\n",
    "print(f\"Lowercase count is {lower}\")\n",
    "print(f\"Digits count is {digit}\")\n",
    "print(f\"Space count is {space}\")\n",
    "print(f\"Special Character count is {splchar}\")"
   ]
  },
  {
   "cell_type": "markdown",
   "id": "f7d5b329",
   "metadata": {},
   "source": [
    "### Replace"
   ]
  },
  {
   "cell_type": "code",
   "execution_count": 11,
   "id": "5bf2a78d",
   "metadata": {},
   "outputs": [
    {
     "name": "stdout",
     "output_type": "stream",
     "text": [
      "Welcome to python Batch\n",
      "Welc*me t* pyth*n Batch\n",
      "Welc*me to python Batch\n",
      "Welc*me t* python Batch\n",
      "Welcome to p&)hon Batch\n",
      "Welc*me t* pyth*n Batch\n"
     ]
    }
   ],
   "source": [
    "s=\"Welcome to python Batch\"\n",
    "print(s.replace('Python','SQL'))\n",
    "print(s.replace('o','*'))\n",
    "print(s.replace('o','*',1))    # We can specify the count we wants to replace\n",
    "print(s.replace('o','*',2))\n",
    "print(s.replace('yt','&)'))\n",
    "print(s.replace('o','*',-1))    # by using -ve sign it is not going to traverse from backword direction"
   ]
  },
  {
   "cell_type": "code",
   "execution_count": null,
   "id": "2c001c16",
   "metadata": {},
   "outputs": [],
   "source": []
  }
 ],
 "metadata": {
  "kernelspec": {
   "display_name": "Python 3 (ipykernel)",
   "language": "python",
   "name": "python3"
  },
  "language_info": {
   "codemirror_mode": {
    "name": "ipython",
    "version": 3
   },
   "file_extension": ".py",
   "mimetype": "text/x-python",
   "name": "python",
   "nbconvert_exporter": "python",
   "pygments_lexer": "ipython3",
   "version": "3.9.12"
  }
 },
 "nbformat": 4,
 "nbformat_minor": 5
}
