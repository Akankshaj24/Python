{
  "nbformat": 4,
  "nbformat_minor": 0,
  "metadata": {
    "colab": {
      "provenance": []
    },
    "kernelspec": {
      "name": "python3",
      "display_name": "Python 3"
    },
    "language_info": {
      "name": "python"
    }
  },
  "cells": [
    {
      "cell_type": "markdown",
      "source": [
        "## **Numpy** - Numerical python\n",
        "**Array** - Array is an ordered collection of data points having same data type."
      ],
      "metadata": {
        "id": "YQygG781cxFB"
      }
    },
    {
      "cell_type": "code",
      "source": [
        "import numpy as np"
      ],
      "metadata": {
        "id": "jWfRhntKc3no"
      },
      "execution_count": 1,
      "outputs": []
    },
    {
      "cell_type": "code",
      "source": [
        "# Creating numpy array\n",
        "\n",
        "a1 = np.array([10, 20, 30, 40, 50])\n",
        "print(a1)\n",
        "print(type(a1))\n",
        "\n",
        "# ndarray - n dimensional array"
      ],
      "metadata": {
        "colab": {
          "base_uri": "https://localhost:8080/"
        },
        "id": "yIIE6-nsdOq3",
        "outputId": "605fd324-1aa4-490a-8edd-d2766bd7bbd6"
      },
      "execution_count": 3,
      "outputs": [
        {
          "output_type": "stream",
          "name": "stdout",
          "text": [
            "[10 20 30 40 50]\n",
            "<class 'numpy.ndarray'>\n"
          ]
        }
      ]
    },
    {
      "cell_type": "markdown",
      "source": [
        "#### Array has 4 properties\n",
        "1. ndim - number of dimension\n",
        "2. size - number of elements\n",
        "3. dtype - data type of elemens\n",
        "4. shape - shape of the array"
      ],
      "metadata": {
        "id": "GMwK3sZOeUdO"
      }
    },
    {
      "cell_type": "code",
      "source": [
        "print(\"Array : \", a1)\n",
        "print(\"Array Type : \", type(a1))\n",
        "print(\"Dimension : \", a1.ndim)\n",
        "print(\"Size : \", a1.size)\n",
        "print(\"Data Type : \", a1.dtype)\n",
        "print(\"Shape : \", a1.shape)"
      ],
      "metadata": {
        "colab": {
          "base_uri": "https://localhost:8080/"
        },
        "id": "iiNUZlvPdh2A",
        "outputId": "9874dff7-0c67-4f32-9ef7-e2db5bc05200"
      },
      "execution_count": 4,
      "outputs": [
        {
          "output_type": "stream",
          "name": "stdout",
          "text": [
            "[10 20 30 40 50]\n",
            "<class 'numpy.ndarray'>\n",
            "1\n",
            "5\n",
            "int64\n",
            "(5,)\n"
          ]
        }
      ]
    },
    {
      "cell_type": "code",
      "source": [
        "a2 = np.array([[12, 23, 34, 45],[56, 67, 78, 89]])\n",
        "print(\"Array : \", a2)\n",
        "print(\"Array Type : \", type(a2))\n",
        "print(\"Dimension : \", a2.ndim)\n",
        "print(\"Size : \", a2.size)\n",
        "print(\"Data Type : \", a2.dtype)\n",
        "print(\"Shape : \", a2.shape)  # (row, columns)"
      ],
      "metadata": {
        "colab": {
          "base_uri": "https://localhost:8080/"
        },
        "id": "Fqj3wTsZeoPy",
        "outputId": "6b2511a1-e819-433e-e1c4-8748e6d4110f"
      },
      "execution_count": 5,
      "outputs": [
        {
          "output_type": "stream",
          "name": "stdout",
          "text": [
            "[[12 23 34 45]\n",
            " [56 67 78 89]]\n",
            "<class 'numpy.ndarray'>\n",
            "2\n",
            "8\n",
            "int64\n",
            "(2, 4)\n"
          ]
        }
      ]
    },
    {
      "cell_type": "code",
      "source": [
        "a3 = np.array([[[12, 23], [34, 45]],[[56, 67], [78, 89]]])\n",
        "print(\"Array : \", a3)\n",
        "print(\"Array Type : \", type(a3))\n",
        "print(\"Dimension : \", a3.ndim)\n",
        "print(\"Size : \", a3.size)\n",
        "print(\"Data Type : \", a3.dtype)\n",
        "print(\"Shape : \", a3.shape)  # (3rd dimension, row, columns)"
      ],
      "metadata": {
        "colab": {
          "base_uri": "https://localhost:8080/"
        },
        "id": "IZGtR5hRfSZ0",
        "outputId": "635ccaa0-2201-4815-af9e-c16e0d73b8dd"
      },
      "execution_count": 6,
      "outputs": [
        {
          "output_type": "stream",
          "name": "stdout",
          "text": [
            "[[[12 23]\n",
            "  [34 45]]\n",
            "\n",
            " [[56 67]\n",
            "  [78 89]]]\n",
            "<class 'numpy.ndarray'>\n",
            "3\n",
            "8\n",
            "int64\n",
            "(2, 2, 2)\n"
          ]
        }
      ]
    },
    {
      "cell_type": "code",
      "source": [
        "#  Using function arange\n",
        "\n",
        "s = np.arange(5) # start=0, end=5, step=1\n",
        "print(s)"
      ],
      "metadata": {
        "colab": {
          "base_uri": "https://localhost:8080/"
        },
        "id": "Yyu_j4eRgrFD",
        "outputId": "5931a83e-212d-427f-e1c2-b6d0cf078fbb"
      },
      "execution_count": 7,
      "outputs": [
        {
          "output_type": "stream",
          "name": "stdout",
          "text": [
            "[0 1 2 3 4]\n"
          ]
        }
      ]
    },
    {
      "cell_type": "code",
      "source": [
        "s = np.arange(10,40,4) # start=10, end=40, step=4\n",
        "print(s)"
      ],
      "metadata": {
        "colab": {
          "base_uri": "https://localhost:8080/"
        },
        "id": "m1s5r9-hh_AO",
        "outputId": "27b3ac02-8a2c-4dea-a878-cc6648edddff"
      },
      "execution_count": 8,
      "outputs": [
        {
          "output_type": "stream",
          "name": "stdout",
          "text": [
            "[10 14 18 22 26 30 34 38]\n"
          ]
        }
      ]
    },
    {
      "cell_type": "code",
      "source": [
        "#  Array can be reshaped into product of it's factors\n",
        "\n",
        "\n",
        "s2 = np.arange(18)\n",
        "print(\"Array 1 : \", s2)\n",
        "\n",
        "#  factors of 18 --> 1, 2, 3, 6, 9, 18\n",
        "\n",
        "\n",
        "s2 = np.arange(18).reshape(2, 3, 3)\n",
        "print(\"\\nArray 2 : \", s2)\n",
        "\n",
        "s2 = np.arange(18).reshape(2, 9)\n",
        "print(\"\\nArray 3 : \", s2)"
      ],
      "metadata": {
        "colab": {
          "base_uri": "https://localhost:8080/"
        },
        "id": "HnUg2zXpiNgW",
        "outputId": "33de734c-9ebb-4897-86a6-cc4c805c900d"
      },
      "execution_count": 11,
      "outputs": [
        {
          "output_type": "stream",
          "name": "stdout",
          "text": [
            "Array 1 :  [ 0  1  2  3  4  5  6  7  8  9 10 11 12 13 14 15 16 17]\n",
            "\n",
            "Array 2 :  [[[ 0  1  2]\n",
            "  [ 3  4  5]\n",
            "  [ 6  7  8]]\n",
            "\n",
            " [[ 9 10 11]\n",
            "  [12 13 14]\n",
            "  [15 16 17]]]\n",
            "\n",
            "Array 3 :  [[ 0  1  2  3  4  5  6  7  8]\n",
            " [ 9 10 11 12 13 14 15 16 17]]\n"
          ]
        }
      ]
    },
    {
      "cell_type": "code",
      "source": [
        "print(s2)"
      ],
      "metadata": {
        "colab": {
          "base_uri": "https://localhost:8080/"
        },
        "id": "OcB1pDLXivF_",
        "outputId": "e943968c-b553-441d-df68-496064122927"
      },
      "execution_count": 12,
      "outputs": [
        {
          "output_type": "stream",
          "name": "stdout",
          "text": [
            "[[ 0  1  2  3  4  5  6  7  8]\n",
            " [ 9 10 11 12 13 14 15 16 17]]\n"
          ]
        }
      ]
    },
    {
      "cell_type": "code",
      "source": [
        "# reshaping array does not make chages to original array"
      ],
      "metadata": {
        "id": "SSDCN0lnjO0e"
      },
      "execution_count": null,
      "outputs": []
    }
  ]
}