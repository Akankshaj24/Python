{
  "nbformat": 4,
  "nbformat_minor": 0,
  "metadata": {
    "colab": {
      "provenance": []
    },
    "kernelspec": {
      "name": "python3",
      "display_name": "Python 3"
    },
    "language_info": {
      "name": "python"
    }
  },
  "cells": [
    {
      "cell_type": "markdown",
      "source": [
        "## **Numpy** - Numerical python\n",
        "**Array** - Array is an ordered collection of data points having same data type."
      ],
      "metadata": {
        "id": "YQygG781cxFB"
      }
    },
    {
      "cell_type": "code",
      "source": [
        "import numpy as np"
      ],
      "metadata": {
        "id": "jWfRhntKc3no"
      },
      "execution_count": null,
      "outputs": []
    },
    {
      "cell_type": "code",
      "source": [
        "# Creating numpy array\n",
        "\n",
        "a1 = np.array([10, 20, 30, 40, 50])\n",
        "print(a1)\n",
        "print(type(a1))\n",
        "\n",
        "# ndarray - n dimensional array"
      ],
      "metadata": {
        "colab": {
          "base_uri": "https://localhost:8080/"
        },
        "id": "yIIE6-nsdOq3",
        "outputId": "605fd324-1aa4-490a-8edd-d2766bd7bbd6"
      },
      "execution_count": null,
      "outputs": [
        {
          "output_type": "stream",
          "name": "stdout",
          "text": [
            "[10 20 30 40 50]\n",
            "<class 'numpy.ndarray'>\n"
          ]
        }
      ]
    },
    {
      "cell_type": "markdown",
      "source": [
        "#### Array has 4 properties\n",
        "1. ndim - number of dimension\n",
        "2. size - number of elements\n",
        "3. dtype - data type of elemens\n",
        "4. shape - shape of the array"
      ],
      "metadata": {
        "id": "GMwK3sZOeUdO"
      }
    },
    {
      "cell_type": "code",
      "source": [
        "print(\"Array : \", a1)\n",
        "print(\"Array Type : \", type(a1))\n",
        "print(\"Dimension : \", a1.ndim)\n",
        "print(\"Size : \", a1.size)\n",
        "print(\"Data Type : \", a1.dtype)\n",
        "print(\"Shape : \", a1.shape)"
      ],
      "metadata": {
        "colab": {
          "base_uri": "https://localhost:8080/"
        },
        "id": "iiNUZlvPdh2A",
        "outputId": "9874dff7-0c67-4f32-9ef7-e2db5bc05200"
      },
      "execution_count": null,
      "outputs": [
        {
          "output_type": "stream",
          "name": "stdout",
          "text": [
            "[10 20 30 40 50]\n",
            "<class 'numpy.ndarray'>\n",
            "1\n",
            "5\n",
            "int64\n",
            "(5,)\n"
          ]
        }
      ]
    },
    {
      "cell_type": "code",
      "source": [
        "a2 = np.array([[12, 23, 34, 45],[56, 67, 78, 89]])\n",
        "print(\"Array : \", a2)\n",
        "print(\"Array Type : \", type(a2))\n",
        "print(\"Dimension : \", a2.ndim)\n",
        "print(\"Size : \", a2.size)\n",
        "print(\"Data Type : \", a2.dtype)\n",
        "print(\"Shape : \", a2.shape)  # (row, columns)"
      ],
      "metadata": {
        "colab": {
          "base_uri": "https://localhost:8080/"
        },
        "id": "Fqj3wTsZeoPy",
        "outputId": "6b2511a1-e819-433e-e1c4-8748e6d4110f"
      },
      "execution_count": null,
      "outputs": [
        {
          "output_type": "stream",
          "name": "stdout",
          "text": [
            "[[12 23 34 45]\n",
            " [56 67 78 89]]\n",
            "<class 'numpy.ndarray'>\n",
            "2\n",
            "8\n",
            "int64\n",
            "(2, 4)\n"
          ]
        }
      ]
    },
    {
      "cell_type": "code",
      "source": [
        "a3 = np.array([[[12, 23], [34, 45]],[[56, 67], [78, 89]]])\n",
        "print(\"Array : \", a3)\n",
        "print(\"Array Type : \", type(a3))\n",
        "print(\"Dimension : \", a3.ndim)\n",
        "print(\"Size : \", a3.size)\n",
        "print(\"Data Type : \", a3.dtype)\n",
        "print(\"Shape : \", a3.shape)  # (3rd dimension, row, columns)"
      ],
      "metadata": {
        "colab": {
          "base_uri": "https://localhost:8080/"
        },
        "id": "IZGtR5hRfSZ0",
        "outputId": "635ccaa0-2201-4815-af9e-c16e0d73b8dd"
      },
      "execution_count": null,
      "outputs": [
        {
          "output_type": "stream",
          "name": "stdout",
          "text": [
            "[[[12 23]\n",
            "  [34 45]]\n",
            "\n",
            " [[56 67]\n",
            "  [78 89]]]\n",
            "<class 'numpy.ndarray'>\n",
            "3\n",
            "8\n",
            "int64\n",
            "(2, 2, 2)\n"
          ]
        }
      ]
    },
    {
      "cell_type": "code",
      "source": [
        "#  Using function arange\n",
        "\n",
        "s = np.arange(5) # start=0, end=5, step=1\n",
        "print(s)"
      ],
      "metadata": {
        "colab": {
          "base_uri": "https://localhost:8080/"
        },
        "id": "Yyu_j4eRgrFD",
        "outputId": "5931a83e-212d-427f-e1c2-b6d0cf078fbb"
      },
      "execution_count": null,
      "outputs": [
        {
          "output_type": "stream",
          "name": "stdout",
          "text": [
            "[0 1 2 3 4]\n"
          ]
        }
      ]
    },
    {
      "cell_type": "code",
      "source": [
        "s = np.arange(10,40,4) # start=10, end=40, step=4\n",
        "print(s)"
      ],
      "metadata": {
        "colab": {
          "base_uri": "https://localhost:8080/"
        },
        "id": "m1s5r9-hh_AO",
        "outputId": "27b3ac02-8a2c-4dea-a878-cc6648edddff"
      },
      "execution_count": null,
      "outputs": [
        {
          "output_type": "stream",
          "name": "stdout",
          "text": [
            "[10 14 18 22 26 30 34 38]\n"
          ]
        }
      ]
    },
    {
      "cell_type": "code",
      "source": [
        "#  Array can be reshaped into product of it's factors\n",
        "\n",
        "\n",
        "s2 = np.arange(18)\n",
        "print(\"Array 1 : \", s2)\n",
        "\n",
        "#  factors of 18 --> 1, 2, 3, 6, 9, 18\n",
        "\n",
        "\n",
        "s2 = np.arange(18).reshape(2, 3, 3)\n",
        "print(\"\\nArray 2 : \", s2)\n",
        "\n",
        "s2 = np.arange(18).reshape(2, 9)\n",
        "print(\"\\nArray 3 : \", s2)"
      ],
      "metadata": {
        "colab": {
          "base_uri": "https://localhost:8080/"
        },
        "id": "HnUg2zXpiNgW",
        "outputId": "33de734c-9ebb-4897-86a6-cc4c805c900d"
      },
      "execution_count": null,
      "outputs": [
        {
          "output_type": "stream",
          "name": "stdout",
          "text": [
            "Array 1 :  [ 0  1  2  3  4  5  6  7  8  9 10 11 12 13 14 15 16 17]\n",
            "\n",
            "Array 2 :  [[[ 0  1  2]\n",
            "  [ 3  4  5]\n",
            "  [ 6  7  8]]\n",
            "\n",
            " [[ 9 10 11]\n",
            "  [12 13 14]\n",
            "  [15 16 17]]]\n",
            "\n",
            "Array 3 :  [[ 0  1  2  3  4  5  6  7  8]\n",
            " [ 9 10 11 12 13 14 15 16 17]]\n"
          ]
        }
      ]
    },
    {
      "cell_type": "code",
      "source": [
        "print(s2)"
      ],
      "metadata": {
        "colab": {
          "base_uri": "https://localhost:8080/"
        },
        "id": "OcB1pDLXivF_",
        "outputId": "e943968c-b553-441d-df68-496064122927"
      },
      "execution_count": null,
      "outputs": [
        {
          "output_type": "stream",
          "name": "stdout",
          "text": [
            "[[ 0  1  2  3  4  5  6  7  8]\n",
            " [ 9 10 11 12 13 14 15 16 17]]\n"
          ]
        }
      ]
    },
    {
      "cell_type": "code",
      "source": [
        "# reshaping array does not make chages to original array"
      ],
      "metadata": {
        "id": "SSDCN0lnjO0e"
      },
      "execution_count": 13,
      "outputs": []
    },
    {
      "cell_type": "markdown",
      "source": [
        "#### Custom NUmpy array"
      ],
      "metadata": {
        "id": "TQvyRvj22Jyg"
      }
    },
    {
      "cell_type": "code",
      "source": [
        "w1 = np.ones([5,2])\n",
        "print(w1)"
      ],
      "metadata": {
        "colab": {
          "base_uri": "https://localhost:8080/"
        },
        "id": "GqILCX_l2Ial",
        "outputId": "52ebaf75-fd31-4dcf-92f3-0b80706ed5c4"
      },
      "execution_count": 14,
      "outputs": [
        {
          "output_type": "stream",
          "name": "stdout",
          "text": [
            "[[1. 1.]\n",
            " [1. 1.]\n",
            " [1. 1.]\n",
            " [1. 1.]\n",
            " [1. 1.]]\n"
          ]
        }
      ]
    },
    {
      "cell_type": "code",
      "source": [
        "w2 = np.zeros([4,3],dtype=int)\n",
        "print(w2)"
      ],
      "metadata": {
        "colab": {
          "base_uri": "https://localhost:8080/"
        },
        "id": "22iV2-gx2YSt",
        "outputId": "552d4944-fef8-4914-a751-7cce1a08c67a"
      },
      "execution_count": 15,
      "outputs": [
        {
          "output_type": "stream",
          "name": "stdout",
          "text": [
            "[[0 0 0]\n",
            " [0 0 0]\n",
            " [0 0 0]\n",
            " [0 0 0]]\n"
          ]
        }
      ]
    },
    {
      "cell_type": "markdown",
      "source": [
        "### Identity Matrix"
      ],
      "metadata": {
        "id": "0QGWZu4R3D6j"
      }
    },
    {
      "cell_type": "code",
      "source": [
        "w3 = np.identity(5, dtype=int)\n",
        "print(w3)"
      ],
      "metadata": {
        "colab": {
          "base_uri": "https://localhost:8080/"
        },
        "id": "X-kjgkS02q-5",
        "outputId": "3bdae09d-98c8-4369-89e6-5b463a476e81"
      },
      "execution_count": 19,
      "outputs": [
        {
          "output_type": "stream",
          "name": "stdout",
          "text": [
            "[[1 0 0 0 0]\n",
            " [0 1 0 0 0]\n",
            " [0 0 1 0 0]\n",
            " [0 0 0 1 0]\n",
            " [0 0 0 0 1]]\n"
          ]
        }
      ]
    },
    {
      "cell_type": "markdown",
      "source": [
        "#### Linspace"
      ],
      "metadata": {
        "id": "ckEWtlAg3K8d"
      }
    },
    {
      "cell_type": "code",
      "source": [
        "# Generates linearly spaced element\n",
        "#  Difference between any 2 consecutive pairs is constant\n",
        "# start and end values are inclusive\n",
        "# by default number of pairs to generate is 50\n",
        "\n",
        "q1 = np.linspace(2, 10, 3) # start=2, end=10, number of pairs to generate=3\n",
        "print(q1)"
      ],
      "metadata": {
        "colab": {
          "base_uri": "https://localhost:8080/"
        },
        "id": "k0RxvVC424kJ",
        "outputId": "211e4798-7d55-4b49-8ac6-616ff97a67c8"
      },
      "execution_count": 20,
      "outputs": [
        {
          "output_type": "stream",
          "name": "stdout",
          "text": [
            "[ 2.  6. 10.]\n"
          ]
        }
      ]
    },
    {
      "cell_type": "markdown",
      "source": [
        "#### **Matrix related operations**"
      ],
      "metadata": {
        "id": "sT0FBSHq5SQr"
      }
    },
    {
      "cell_type": "markdown",
      "source": [
        "##### **Matrix Multiplication**\n",
        "1. A(p, q) and B(m, n) are multiplication compatible if q=m\n",
        "2. Shape of resultant matrix will be (p, n)"
      ],
      "metadata": {
        "id": "IAAhRDEN6rPl"
      }
    },
    {
      "cell_type": "code",
      "source": [
        "a1 = np.arange(8).reshape(2, 4)\n",
        "print(a1)\n",
        "\n",
        "a2 = np.arange(-5, 15).reshape(4, 5)\n",
        "print(a2)"
      ],
      "metadata": {
        "colab": {
          "base_uri": "https://localhost:8080/"
        },
        "id": "OiWOtq973mJS",
        "outputId": "ca38bbc1-0cec-45e2-ac99-7463d2c16689"
      },
      "execution_count": 21,
      "outputs": [
        {
          "output_type": "stream",
          "name": "stdout",
          "text": [
            "[[0 1 2 3]\n",
            " [4 5 6 7]]\n",
            "[[-5 -4 -3 -2 -1]\n",
            " [ 0  1  2  3  4]\n",
            " [ 5  6  7  8  9]\n",
            " [10 11 12 13 14]]\n"
          ]
        }
      ]
    },
    {
      "cell_type": "code",
      "source": [
        "r1 = np.dot(a1, a2)\n",
        "print(r1.shape)\n",
        "print(r1)"
      ],
      "metadata": {
        "colab": {
          "base_uri": "https://localhost:8080/"
        },
        "id": "0qMv_mf46Kcj",
        "outputId": "69708200-5cfe-4f0b-f1b3-02ff27d09049"
      },
      "execution_count": 24,
      "outputs": [
        {
          "output_type": "stream",
          "name": "stdout",
          "text": [
            "(2, 5)\n",
            "[[ 40  46  52  58  64]\n",
            " [ 80 102 124 146 168]]\n"
          ]
        }
      ]
    },
    {
      "cell_type": "code",
      "source": [
        " print(a1)\n",
        " print(\"\\n\")\n",
        " print(a1.T)"
      ],
      "metadata": {
        "colab": {
          "base_uri": "https://localhost:8080/"
        },
        "id": "gept3VeE7Kpw",
        "outputId": "0c41f53d-c558-4966-ccd6-4815d72c86d4"
      },
      "execution_count": 26,
      "outputs": [
        {
          "output_type": "stream",
          "name": "stdout",
          "text": [
            "[[0 1 2 3]\n",
            " [4 5 6 7]]\n",
            "\n",
            "\n",
            "[[0 4]\n",
            " [1 5]\n",
            " [2 6]\n",
            " [3 7]]\n"
          ]
        }
      ]
    },
    {
      "cell_type": "code",
      "source": [
        "r2 = a1.flatten(order = \"C\") # c --> Row wise flatten\n",
        "print(r2)"
      ],
      "metadata": {
        "colab": {
          "base_uri": "https://localhost:8080/"
        },
        "id": "E-bVeM6y8gcd",
        "outputId": "c8b92310-4260-4446-d458-52361bdf97e1"
      },
      "execution_count": 27,
      "outputs": [
        {
          "output_type": "stream",
          "name": "stdout",
          "text": [
            "[0 1 2 3 4 5 6 7]\n"
          ]
        }
      ]
    },
    {
      "cell_type": "code",
      "source": [
        "r2 = a1.flatten(order = \"F\") # F --> Column wise flatten\n",
        "print(r2)"
      ],
      "metadata": {
        "colab": {
          "base_uri": "https://localhost:8080/"
        },
        "id": "EjF7xVlm8_DE",
        "outputId": "d0a1e737-2313-4866-9cdc-5f257afd7ec4"
      },
      "execution_count": 28,
      "outputs": [
        {
          "output_type": "stream",
          "name": "stdout",
          "text": [
            "[0 4 1 5 2 6 3 7]\n"
          ]
        }
      ]
    },
    {
      "cell_type": "markdown",
      "source": [
        "#### Matrix multiplication element wise"
      ],
      "metadata": {
        "id": "EVHMEns19-Gu"
      }
    },
    {
      "cell_type": "code",
      "source": [
        "v1 = np.arange(12).reshape(3, 4)\n",
        "v2 = np.arange(-12,0).reshape(3, 4)\n",
        "print(v1)\n",
        "print(v2)"
      ],
      "metadata": {
        "colab": {
          "base_uri": "https://localhost:8080/"
        },
        "id": "kZJL8de89EzH",
        "outputId": "1e287ec9-f5e6-443f-8218-b60aaa8ea689"
      },
      "execution_count": 29,
      "outputs": [
        {
          "output_type": "stream",
          "name": "stdout",
          "text": [
            "[[ 0  1  2  3]\n",
            " [ 4  5  6  7]\n",
            " [ 8  9 10 11]]\n",
            "[[-12 -11 -10  -9]\n",
            " [ -8  -7  -6  -5]\n",
            " [ -4  -3  -2  -1]]\n"
          ]
        }
      ]
    },
    {
      "cell_type": "code",
      "source": [
        "res = np.multiply(v1, v2)\n",
        "print(res)"
      ],
      "metadata": {
        "colab": {
          "base_uri": "https://localhost:8080/"
        },
        "id": "qtWvvaOQ-VbZ",
        "outputId": "822227a0-6d89-4cc2-fcd7-d23066500803"
      },
      "execution_count": 30,
      "outputs": [
        {
          "output_type": "stream",
          "name": "stdout",
          "text": [
            "[[  0 -11 -20 -27]\n",
            " [-32 -35 -36 -35]\n",
            " [-32 -27 -20 -11]]\n"
          ]
        }
      ]
    },
    {
      "cell_type": "code",
      "source": [
        "# Addition\n",
        "\n",
        "print(v1 + v2)"
      ],
      "metadata": {
        "colab": {
          "base_uri": "https://localhost:8080/"
        },
        "id": "DsKkp1s7-cT6",
        "outputId": "8ad1322e-dac7-42ad-a7e4-97807f82f72f"
      },
      "execution_count": 33,
      "outputs": [
        {
          "output_type": "stream",
          "name": "stdout",
          "text": [
            "[[-12 -10  -8  -6]\n",
            " [ -4  -2   0   2]\n",
            " [  4   6   8  10]]\n"
          ]
        }
      ]
    },
    {
      "cell_type": "code",
      "source": [
        "# Concatenation\n",
        "\n",
        "com1 = np.concatenate([v1, v2], axis=0)\n",
        "print(com1)\n",
        "\n",
        "print(v1.shape)\n",
        "print(v2.shape)\n",
        "print(com1.shape)"
      ],
      "metadata": {
        "colab": {
          "base_uri": "https://localhost:8080/"
        },
        "id": "P6WkHxPQ-3e_",
        "outputId": "e9dd906d-95eb-48ec-c2a5-ad7e0cc6aa6d"
      },
      "execution_count": 35,
      "outputs": [
        {
          "output_type": "stream",
          "name": "stdout",
          "text": [
            "[[  0   1   2   3]\n",
            " [  4   5   6   7]\n",
            " [  8   9  10  11]\n",
            " [-12 -11 -10  -9]\n",
            " [ -8  -7  -6  -5]\n",
            " [ -4  -3  -2  -1]]\n",
            "(3, 4)\n",
            "(3, 4)\n",
            "(6, 4)\n"
          ]
        }
      ]
    },
    {
      "cell_type": "code",
      "source": [
        "com2 = np.concatenate([v1, v2], axis=1)\n",
        "print(com2)"
      ],
      "metadata": {
        "colab": {
          "base_uri": "https://localhost:8080/"
        },
        "id": "OK20Xbqa_OdU",
        "outputId": "955d7283-38e0-4924-d5a8-b38eba382d55"
      },
      "execution_count": 36,
      "outputs": [
        {
          "output_type": "stream",
          "name": "stdout",
          "text": [
            "[[  0   1   2   3 -12 -11 -10  -9]\n",
            " [  4   5   6   7  -8  -7  -6  -5]\n",
            " [  8   9  10  11  -4  -3  -2  -1]]\n"
          ]
        }
      ]
    },
    {
      "cell_type": "code",
      "source": [
        "print(v1)\n",
        "\n",
        "# sum\n",
        "print(\"\\nSum : \")\n",
        "print(np.sum(v1))\n",
        "print(np.sum(v1, axis=0))  # column-wise\n",
        "print(np.sum(v1, axis=1))  # row-wise\n",
        "\n",
        "# mean\n",
        "print(\"\\nMean : \")\n",
        "print(np.mean(v1))\n",
        "print(np.mean(v1, axis=0))  # column-wise\n",
        "print(np.mean(v1, axis=1))  # row-wise"
      ],
      "metadata": {
        "colab": {
          "base_uri": "https://localhost:8080/"
        },
        "id": "7V0qflC9_0-j",
        "outputId": "9255df9e-8698-4440-e089-a98d620ac8c7"
      },
      "execution_count": 42,
      "outputs": [
        {
          "output_type": "stream",
          "name": "stdout",
          "text": [
            "[[ 0  1  2  3]\n",
            " [ 4  5  6  7]\n",
            " [ 8  9 10 11]]\n",
            "\n",
            "Sum : \n",
            "66\n",
            "[12 15 18 21]\n",
            "[ 6 22 38]\n",
            "\n",
            "Mean : \n",
            "5.5\n",
            "[4. 5. 6. 7.]\n",
            "[1.5 5.5 9.5]\n"
          ]
        }
      ]
    },
    {
      "cell_type": "code",
      "source": [
        "x1 = np.array([12, 45, 23, 67, 25, 56, 17, 19, 21])\n",
        "print(x1)\n",
        "print(\"Minimum number : \", x1.min())\n",
        "print(\"Maximum number : \", x1.max())\n",
        "print(\"Index of Minimum number : \", x1.argmin())\n",
        "print(\"Index of Maximum number : \", x1.argmax())\n"
      ],
      "metadata": {
        "colab": {
          "base_uri": "https://localhost:8080/"
        },
        "id": "FNhtqzfeAUj3",
        "outputId": "3ff650ef-1ca5-43b0-f5ff-2de61f0c9184"
      },
      "execution_count": 43,
      "outputs": [
        {
          "output_type": "stream",
          "name": "stdout",
          "text": [
            "[12 45 23 67 25 56 17 19 21]\n",
            "Minimum number :  12\n",
            "Maximum number :  67\n",
            "Index of Minimum number :  0\n",
            "Index of Maximum number :  3\n"
          ]
        }
      ]
    },
    {
      "cell_type": "code",
      "source": [
        "n1 = np.random.randint(10, 40, 20).reshape(4,5)\n",
        "n1"
      ],
      "metadata": {
        "colab": {
          "base_uri": "https://localhost:8080/"
        },
        "id": "k9kZG4t8B-FK",
        "outputId": "120b7a9f-f6ff-47ab-d029-aa03cd1fd9cf"
      },
      "execution_count": 45,
      "outputs": [
        {
          "output_type": "execute_result",
          "data": {
            "text/plain": [
              "array([[26, 35, 18, 32, 29],\n",
              "       [26, 24, 33, 11, 17],\n",
              "       [35, 22, 19, 17, 15],\n",
              "       [16, 22, 11, 28, 35]])"
            ]
          },
          "metadata": {},
          "execution_count": 45
        }
      ]
    },
    {
      "cell_type": "code",
      "source": [
        "# Values along each column\n",
        "print(n1.max(axis=0))\n",
        "print(n1.min(axis=0))\n",
        "\n",
        "# Values along each rows\n",
        "print(n1.max(axis=1))\n",
        "print(n1.min(axis=1))"
      ],
      "metadata": {
        "colab": {
          "base_uri": "https://localhost:8080/"
        },
        "id": "58ANwpuICQ5v",
        "outputId": "e6c0dd9d-5264-4986-ec96-6caab528539b"
      },
      "execution_count": 46,
      "outputs": [
        {
          "output_type": "stream",
          "name": "stdout",
          "text": [
            "[35 35 33 32 35]\n",
            "[16 22 11 11 15]\n",
            "[35 33 35 35]\n",
            "[18 11 15 11]\n"
          ]
        }
      ]
    },
    {
      "cell_type": "code",
      "source": [
        "# returns the row idx of max value for each col\n",
        "print(n1.argmax(axis=0))\n",
        "# returns the row idx of min value for each col\n",
        "print(n1.argmin(axis=0))\n",
        "\n",
        "# returns the col idx of max value for each row\n",
        "print(n1.argmax(axis=1))\n",
        "# returns the col idx of min value for each row\n",
        "print(n1.argmin(axis=1))"
      ],
      "metadata": {
        "colab": {
          "base_uri": "https://localhost:8080/"
        },
        "id": "ZmG8egu2CqM6",
        "outputId": "f92b30de-d50c-42fa-c6db-c7f9ad0f8f50"
      },
      "execution_count": 47,
      "outputs": [
        {
          "output_type": "stream",
          "name": "stdout",
          "text": [
            "[2 0 1 0 3]\n",
            "[3 2 3 1 2]\n",
            "[1 2 0 4]\n",
            "[2 3 4 2]\n"
          ]
        }
      ]
    },
    {
      "cell_type": "code",
      "source": [],
      "metadata": {
        "id": "W6SUgOPZDGbH"
      },
      "execution_count": null,
      "outputs": []
    }
  ]
}