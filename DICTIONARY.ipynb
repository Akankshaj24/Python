{
 "cells": [
  {
   "cell_type": "markdown",
   "id": "e314dc10",
   "metadata": {},
   "source": [
    "## DICTIONARY\n",
    "1. Dictionary elements are stored in key:value pair format.\n",
    "2. Dictionary elements are enclosed in {} and are separated by comma.\n",
    "3. Dictionary is ordered.\n",
    "4. Indexing and slicing is not allowed on dictionary. Dictionary can be indexed based on its keys.\n",
    "5. All the keys in the dictionary must be unique. Values may be duplicate.\n",
    "6. Dictionary is mutable (It can be changed)\n",
    "7. The key,value pair is called item in dictionary and each item is stored in form of tuple."
   ]
  },
  {
   "cell_type": "markdown",
   "id": "fc6918d0",
   "metadata": {},
   "source": [
    "#### Empty Dictionary"
   ]
  },
  {
   "cell_type": "code",
   "execution_count": 1,
   "id": "3ce89324",
   "metadata": {},
   "outputs": [
    {
     "name": "stdout",
     "output_type": "stream",
     "text": [
      "{} {}\n",
      "<class 'dict'> <class 'dict'>\n"
     ]
    }
   ],
   "source": [
    "w1,w2 = {},dict()\n",
    "print(w1,w2)\n",
    "print(type(w1),type(w2))"
   ]
  },
  {
   "cell_type": "markdown",
   "id": "2afff676",
   "metadata": {},
   "source": [
    "#### Examples of dictionary"
   ]
  },
  {
   "cell_type": "code",
   "execution_count": 2,
   "id": "68330496",
   "metadata": {},
   "outputs": [
    {
     "name": "stdout",
     "output_type": "stream",
     "text": [
      "{'name': 'Ankit', 'age': 22, 'sub': 'python'}\n",
      "3\n",
      "<class 'dict'>\n"
     ]
    }
   ],
   "source": [
    "# keys : name, age, sub\n",
    "# values : Ankit, 22, Python\n",
    "\n",
    "w2 ={'name':'Ankit','age':22,'sub':'python'}\n",
    "print(w2)\n",
    "print(len(w2))\n",
    "print(type(w2))"
   ]
  },
  {
   "cell_type": "markdown",
   "id": "24e71bb7",
   "metadata": {},
   "source": [
    "#### Fetch values corresponding to a given key"
   ]
  },
  {
   "cell_type": "code",
   "execution_count": 3,
   "id": "921d66c9",
   "metadata": {},
   "outputs": [
    {
     "name": "stdout",
     "output_type": "stream",
     "text": [
      "10\n",
      "20\n",
      "40\n"
     ]
    }
   ],
   "source": [
    "d1 = {'a1':10,'a2':20,'a3':30,'a4':40}\n",
    "print(d1['a1'])\n",
    "print(d1['a2'])\n",
    "print(d1['a4'])"
   ]
  },
  {
   "cell_type": "markdown",
   "id": "78a0a9b7",
   "metadata": {},
   "source": [
    "#### Add New key:value pair to th dict and Changing value for a given key\n",
    "==> Dict is mutable (It can be changed)"
   ]
  },
  {
   "cell_type": "code",
   "execution_count": 6,
   "id": "95742693",
   "metadata": {},
   "outputs": [
    {
     "name": "stdout",
     "output_type": "stream",
     "text": [
      "{'a1': 10, 'a2': 20, 'a3': 30, 'a4': 40}\n",
      "{'a1': 10, 'a2': 'Python', 'a3': 30, 'a4': 40}\n",
      "{'a1': 10, 'a2': 'Python', 'a3': 30, 'a4': 40, 'a5': 'Function'}\n"
     ]
    }
   ],
   "source": [
    "d1 = {'a1':10,'a2':20,'a3':30,'a4':40}\n",
    "print(d1)\n",
    "\n",
    "# Change value for a given key\n",
    "d1['a2'] = 'Python'\n",
    "print(d1)\n",
    "\n",
    "# Add a new key:value pair\n",
    "d1['a5'] = 'Function'\n",
    "print(d1)"
   ]
  },
  {
   "cell_type": "markdown",
   "id": "77ad1a50",
   "metadata": {},
   "source": [
    "#### Keys are immutable data types, Values can be any data type\n",
    "\n",
    "1. keys can not be mutable data type\n",
    "2. keys can not be list, dictionary, set"
   ]
  },
  {
   "cell_type": "code",
   "execution_count": 17,
   "id": "582c07d0",
   "metadata": {},
   "outputs": [
    {
     "name": "stdout",
     "output_type": "stream",
     "text": [
      "{'Hello': 10, 20: 11, 2.3: 14, True: 35, (22, 24, 25): 'Python'}\n"
     ]
    }
   ],
   "source": [
    "d2 = {'Hello':10,20:11,2.3:14,True:35,(22,24,25):'Python'}\n",
    "print(d2)"
   ]
  },
  {
   "cell_type": "markdown",
   "id": "6157abe7",
   "metadata": {},
   "source": [
    "#### Indexing and slicing is not allowed"
   ]
  },
  {
   "cell_type": "code",
   "execution_count": 18,
   "id": "97bde955",
   "metadata": {},
   "outputs": [
    {
     "ename": "KeyError",
     "evalue": "0",
     "output_type": "error",
     "traceback": [
      "\u001b[1;31m---------------------------------------------------------------------------\u001b[0m",
      "\u001b[1;31mKeyError\u001b[0m                                  Traceback (most recent call last)",
      "Cell \u001b[1;32mIn[18], line 4\u001b[0m\n\u001b[0;32m      1\u001b[0m \u001b[38;5;66;03m# Indexing is not allowed\u001b[39;00m\n\u001b[0;32m      3\u001b[0m d1 \u001b[38;5;241m=\u001b[39m {\u001b[38;5;124m'\u001b[39m\u001b[38;5;124ma1\u001b[39m\u001b[38;5;124m'\u001b[39m:\u001b[38;5;241m10\u001b[39m,\u001b[38;5;124m'\u001b[39m\u001b[38;5;124ma2\u001b[39m\u001b[38;5;124m'\u001b[39m:\u001b[38;5;241m20\u001b[39m,\u001b[38;5;124m'\u001b[39m\u001b[38;5;124ma3\u001b[39m\u001b[38;5;124m'\u001b[39m:\u001b[38;5;241m30\u001b[39m,\u001b[38;5;124m'\u001b[39m\u001b[38;5;124ma4\u001b[39m\u001b[38;5;124m'\u001b[39m:\u001b[38;5;241m40\u001b[39m}\n\u001b[1;32m----> 4\u001b[0m \u001b[38;5;28mprint\u001b[39m([d1[\u001b[38;5;241m0\u001b[39m]])\n",
      "\u001b[1;31mKeyError\u001b[0m: 0"
     ]
    }
   ],
   "source": [
    "# Indexing is not allowed\n",
    "\n",
    "d1 = {'a1':10,'a2':20,'a3':30,'a4':40}\n",
    "print([d1[0]])  "
   ]
  },
  {
   "cell_type": "code",
   "execution_count": 19,
   "id": "b6a8104f",
   "metadata": {},
   "outputs": [
    {
     "ename": "TypeError",
     "evalue": "unhashable type: 'slice'",
     "output_type": "error",
     "traceback": [
      "\u001b[1;31m---------------------------------------------------------------------------\u001b[0m",
      "\u001b[1;31mTypeError\u001b[0m                                 Traceback (most recent call last)",
      "Cell \u001b[1;32mIn[19], line 4\u001b[0m\n\u001b[0;32m      1\u001b[0m \u001b[38;5;66;03m# Slicing is not allowed\u001b[39;00m\n\u001b[0;32m      3\u001b[0m d1 \u001b[38;5;241m=\u001b[39m {\u001b[38;5;124m'\u001b[39m\u001b[38;5;124ma1\u001b[39m\u001b[38;5;124m'\u001b[39m:\u001b[38;5;241m10\u001b[39m,\u001b[38;5;124m'\u001b[39m\u001b[38;5;124ma2\u001b[39m\u001b[38;5;124m'\u001b[39m:\u001b[38;5;241m20\u001b[39m,\u001b[38;5;124m'\u001b[39m\u001b[38;5;124ma3\u001b[39m\u001b[38;5;124m'\u001b[39m:\u001b[38;5;241m30\u001b[39m,\u001b[38;5;124m'\u001b[39m\u001b[38;5;124ma4\u001b[39m\u001b[38;5;124m'\u001b[39m:\u001b[38;5;241m40\u001b[39m}\n\u001b[1;32m----> 4\u001b[0m \u001b[38;5;28mprint\u001b[39m([d1[\u001b[38;5;241m1\u001b[39m:\u001b[38;5;241m4\u001b[39m]])\n",
      "\u001b[1;31mTypeError\u001b[0m: unhashable type: 'slice'"
     ]
    }
   ],
   "source": [
    "# Slicing is not allowed\n",
    "\n",
    "d1 = {'a1':10,'a2':20,'a3':30,'a4':40}\n",
    "print([d1[1:4]])   "
   ]
  },
  {
   "cell_type": "markdown",
   "id": "62ed401d",
   "metadata": {},
   "source": [
    "#### All the keys in the dict must be unique. Values can be duplicated"
   ]
  },
  {
   "cell_type": "code",
   "execution_count": 20,
   "id": "c19a17ad",
   "metadata": {},
   "outputs": [
    {
     "name": "stdout",
     "output_type": "stream",
     "text": [
      "{'a1': 1000, 'a2': 'Python', 'a3': 30, 'a4': 40, 'a5': 30}\n"
     ]
    }
   ],
   "source": [
    "d1 = {'a1':10,'a2':20,'a3':30,'a4':40,'a1':1000,'a2':'Python','a5':30}\n",
    "print(d1)\n",
    "\n",
    "# If keys are repeated multiple times then last value get assigned to that particular key"
   ]
  },
  {
   "cell_type": "markdown",
   "id": "a87dc592",
   "metadata": {},
   "source": [
    "## Methods of Dict"
   ]
  },
  {
   "cell_type": "markdown",
   "id": "e2b04cbb",
   "metadata": {},
   "source": [
    "#### 1. get(key)\n",
    "It is used to fetch value for a given key"
   ]
  },
  {
   "cell_type": "code",
   "execution_count": 22,
   "id": "c8ff49e2",
   "metadata": {},
   "outputs": [
    {
     "name": "stdout",
     "output_type": "stream",
     "text": [
      "{'a1': 10, 'a2': 'python', 'a3': 30, 'a4': 40, 'a5': 30}\n",
      "10\n",
      "python\n",
      "30\n",
      "40\n",
      "30\n"
     ]
    }
   ],
   "source": [
    "d1 = {'a1':10,'a2':'python','a3':30,'a4':40,'a5':30}\n",
    "print(d1)\n",
    "print(d1.get('a1'))\n",
    "print(d1.get('a2'))\n",
    "print(d1.get('a3'))\n",
    "print(d1.get('a4'))\n",
    "print(d1.get('a5'))"
   ]
  },
  {
   "cell_type": "markdown",
   "id": "578870f5",
   "metadata": {},
   "source": [
    "#### 2. update()\n",
    "It is used to update a dict wth another dict. It can be used to merge 2 dict into one dict"
   ]
  },
  {
   "cell_type": "code",
   "execution_count": 1,
   "id": "5e7a45d3",
   "metadata": {},
   "outputs": [
    {
     "name": "stdout",
     "output_type": "stream",
     "text": [
      "{'a1': 7, 'a2': 8, 'a3': 10, 'a4': 14}\n",
      "{'a8': 20, 'a7': 30, 'a4': 40}\n",
      "{'a1': 7, 'a2': 8, 'a3': 10, 'a4': 40, 'a8': 20, 'a7': 30}\n",
      "{'a8': 20, 'a7': 30, 'a4': 40}\n"
     ]
    }
   ],
   "source": [
    "r1 = {'a1':7, 'a2':8, 'a3':10, 'a4':14}\n",
    "r2 = {'a8':20, 'a7':30, 'a4':40}\n",
    "print(r1)\n",
    "print(r2)\n",
    "r1.update(r2)\n",
    "print(r1)\n",
    "print(r2)"
   ]
  },
  {
   "cell_type": "code",
   "execution_count": 2,
   "id": "03443e97",
   "metadata": {},
   "outputs": [
    {
     "name": "stdout",
     "output_type": "stream",
     "text": [
      "{'a1': 7, 'a2': 8, 'a3': 10, 'a4': 14}\n",
      "{'a8': 20, 'a7': 30, 'a4': 40}\n",
      "{'a1': 7, 'a2': 8, 'a3': 10, 'a4': 14}\n",
      "{'a8': 20, 'a7': 30, 'a4': 14, 'a1': 7, 'a2': 8, 'a3': 10}\n"
     ]
    }
   ],
   "source": [
    "r1 = {'a1':7, 'a2':8, 'a3':10, 'a4':14}\n",
    "r2 = {'a8':20, 'a7':30, 'a4':40}\n",
    "print(r1)\n",
    "print(r2)\n",
    "r2.update(r1)\n",
    "print(r1)\n",
    "print(r2)"
   ]
  },
  {
   "cell_type": "markdown",
   "id": "3554bddd",
   "metadata": {},
   "source": [
    "#### 3. clear()\n",
    "It empties the dict"
   ]
  },
  {
   "cell_type": "code",
   "execution_count": 3,
   "id": "c28dfa59",
   "metadata": {},
   "outputs": [
    {
     "name": "stdout",
     "output_type": "stream",
     "text": [
      "{'a1': 7, 'a2': 8, 'a3': 10, 'a4': 14}\n",
      "{}\n"
     ]
    }
   ],
   "source": [
    "r1 = {'a1':7, 'a2':8, 'a3':10, 'a4':14}\n",
    "print(r1)\n",
    "r1.clear()\n",
    "print(r1)"
   ]
  },
  {
   "cell_type": "markdown",
   "id": "cdd620b3",
   "metadata": {},
   "source": [
    "#### 4. pop(key)\n",
    "Remove the key-value pair from the dict based on key passed as an argument"
   ]
  },
  {
   "cell_type": "code",
   "execution_count": 9,
   "id": "46531a57",
   "metadata": {},
   "outputs": [
    {
     "name": "stdout",
     "output_type": "stream",
     "text": [
      "{'a1': 7, 'a2': 8, 'a3': 10, 'a4': 14}\n",
      "{'a2': 8, 'a3': 10, 'a4': 14}\n",
      "{'a3': 10, 'a4': 14}\n"
     ]
    }
   ],
   "source": [
    "r1 = {'a1':7, 'a2':8, 'a3':10, 'a4':14}\n",
    "print(r1)\n",
    "r1.pop('a1')\n",
    "print(r1)\n",
    "r1.pop('a2')\n",
    "print(r1)\n",
    "# r1.pop('a5')\n",
    "# print(r1)"
   ]
  },
  {
   "cell_type": "markdown",
   "id": "864b2d2e",
   "metadata": {},
   "source": [
    "#### 5. Popitem()\n",
    "Removes key-value pair from the dictionary in LIFO (Last in first out) order"
   ]
  },
  {
   "cell_type": "code",
   "execution_count": 11,
   "id": "f1eda178",
   "metadata": {},
   "outputs": [
    {
     "name": "stdout",
     "output_type": "stream",
     "text": [
      "{'a1': 7, 'a2': 8, 'a3': 10, 'a4': 14}\n",
      "{'a1': 7, 'a2': 8, 'a3': 10}\n"
     ]
    }
   ],
   "source": [
    "r1 = {'a1':7, 'a2':8, 'a3':10, 'a4':14}\n",
    "print(r1)\n",
    "r1.popitem()\n",
    "print(r1)"
   ]
  },
  {
   "cell_type": "markdown",
   "id": "8f3558c3",
   "metadata": {},
   "source": [
    "#### 6. setdeafult(key,value)\n",
    "It is used to add a new key:value pair to the dict. If no value is passed, then the value will be updated as None"
   ]
  },
  {
   "cell_type": "code",
   "execution_count": 12,
   "id": "4f21ccbb",
   "metadata": {},
   "outputs": [
    {
     "name": "stdout",
     "output_type": "stream",
     "text": [
      "{'a1': 7, 'a2': 8, 'a3': 10, 'a4': 14}\n",
      "{'a1': 7, 'a2': 8, 'a3': 10, 'a4': 14, 'k1': None}\n",
      "{'a1': 7, 'a2': 8, 'a3': 10, 'a4': 14, 'k1': None, 'k2': 'Python'}\n"
     ]
    }
   ],
   "source": [
    "r1 = {'a1':7, 'a2':8, 'a3':10, 'a4':14}\n",
    "print(r1)\n",
    "r1.setdefault('k1')\n",
    "print(r1)\n",
    "r1.setdefault('k2','Python')\n",
    "print(r1)"
   ]
  },
  {
   "cell_type": "markdown",
   "id": "dc04975c",
   "metadata": {},
   "source": [
    "#### 7. keys()\n",
    "Returns keys of the dict"
   ]
  },
  {
   "cell_type": "code",
   "execution_count": 13,
   "id": "3c14c5cb",
   "metadata": {},
   "outputs": [
    {
     "name": "stdout",
     "output_type": "stream",
     "text": [
      "dict_keys(['a1', 'a2', 'a3', 'a4'])\n"
     ]
    }
   ],
   "source": [
    "n = {'a1':7, 'a2':8, 'a3':10, 'a4':14}\n",
    "print(n.keys())"
   ]
  },
  {
   "cell_type": "markdown",
   "id": "4eed8670",
   "metadata": {},
   "source": [
    "#### 8. values()\n",
    "Returns values of the dict"
   ]
  },
  {
   "cell_type": "code",
   "execution_count": 14,
   "id": "ce1fe6d0",
   "metadata": {},
   "outputs": [
    {
     "name": "stdout",
     "output_type": "stream",
     "text": [
      "dict_values([7, 8, 10, 14])\n"
     ]
    }
   ],
   "source": [
    "n = {'a1':7, 'a2':8, 'a3':10, 'a4':14}\n",
    "print(n.values())"
   ]
  },
  {
   "cell_type": "markdown",
   "id": "0e4cff22",
   "metadata": {},
   "source": [
    "#### 9. items()\n",
    "Returns keys, values of the dict in the tuple format"
   ]
  },
  {
   "cell_type": "code",
   "execution_count": 15,
   "id": "2ee622e3",
   "metadata": {},
   "outputs": [
    {
     "name": "stdout",
     "output_type": "stream",
     "text": [
      "dict_items([('a1', 7), ('a2', 8), ('a3', 10), ('a4', 14)])\n"
     ]
    }
   ],
   "source": [
    "n = {'a1':7, 'a2':8, 'a3':10, 'a4':14}\n",
    "print(n.items())"
   ]
  },
  {
   "cell_type": "markdown",
   "id": "e37d87e0",
   "metadata": {},
   "source": [
    "## Iteration in Dict\n",
    "By default dict allows iteration only on its keys"
   ]
  },
  {
   "cell_type": "code",
   "execution_count": 17,
   "id": "1ec25e9c",
   "metadata": {},
   "outputs": [
    {
     "name": "stdout",
     "output_type": "stream",
     "text": [
      "a1 7\n",
      "a2 8\n",
      "a3 10\n",
      "a4 14\n"
     ]
    }
   ],
   "source": [
    "n = {'a1':7, 'a2':8, 'a3':10, 'a4':14}\n",
    "for i in n:     #dict allows iteration over keys by default\n",
    "    print(i,n[i])"
   ]
  },
  {
   "cell_type": "code",
   "execution_count": 18,
   "id": "bbb87221",
   "metadata": {},
   "outputs": [
    {
     "name": "stdout",
     "output_type": "stream",
     "text": [
      "a1 7\n",
      "a2 8\n",
      "a3 10\n",
      "a4 14\n"
     ]
    }
   ],
   "source": [
    "n = {'a1':7, 'a2':8, 'a3':10, 'a4':14}\n",
    "for i in n.keys():     #dict allows iteration over keys by default\n",
    "    print(i,n[i])"
   ]
  },
  {
   "cell_type": "code",
   "execution_count": 19,
   "id": "7bb36160",
   "metadata": {},
   "outputs": [
    {
     "name": "stdout",
     "output_type": "stream",
     "text": [
      "7\n",
      "8\n",
      "10\n",
      "14\n"
     ]
    }
   ],
   "source": [
    "n = {'a1':7, 'a2':8, 'a3':10, 'a4':14}\n",
    "for i in n.values():     # i corresponds to values \n",
    "    print(i)"
   ]
  },
  {
   "cell_type": "code",
   "execution_count": 20,
   "id": "c8a90e46",
   "metadata": {},
   "outputs": [
    {
     "name": "stdout",
     "output_type": "stream",
     "text": [
      "('a1', 7)\n",
      "('a2', 8)\n",
      "('a3', 10)\n",
      "('a4', 14)\n"
     ]
    }
   ],
   "source": [
    "n = {'a1':7, 'a2':8, 'a3':10, 'a4':14}\n",
    "for i in n.items():     # i corresponds to items(tuple of key-value pair) \n",
    "    print(i)"
   ]
  },
  {
   "cell_type": "code",
   "execution_count": null,
   "id": "e2955e09",
   "metadata": {},
   "outputs": [],
   "source": []
  },
  {
   "cell_type": "code",
   "execution_count": null,
   "id": "90260c1f",
   "metadata": {},
   "outputs": [],
   "source": []
  },
  {
   "cell_type": "markdown",
   "id": "4c89529e",
   "metadata": {},
   "source": [
    "#### Count each and every element using dictionary"
   ]
  },
  {
   "cell_type": "code",
   "execution_count": 21,
   "id": "83cc3030",
   "metadata": {},
   "outputs": [
    {
     "name": "stdout",
     "output_type": "stream",
     "text": [
      "{22: 2, 13: 1, 24: 1, 67: 2, 20: 1, 35: 2, 78: 1}\n"
     ]
    }
   ],
   "source": [
    "t = [22,13,22,24,67,20,35,35,67,78]\n",
    "y = {}\n",
    "\n",
    "for i in t:\n",
    "    y[i] = t.count(i)\n",
    "\n",
    "print(y)"
   ]
  },
  {
   "cell_type": "code",
   "execution_count": null,
   "id": "bb647218",
   "metadata": {},
   "outputs": [],
   "source": []
  }
 ],
 "metadata": {
  "kernelspec": {
   "display_name": "Python 3 (ipykernel)",
   "language": "python",
   "name": "python3"
  },
  "language_info": {
   "codemirror_mode": {
    "name": "ipython",
    "version": 3
   },
   "file_extension": ".py",
   "mimetype": "text/x-python",
   "name": "python",
   "nbconvert_exporter": "python",
   "pygments_lexer": "ipython3",
   "version": "3.11.3"
  }
 },
 "nbformat": 4,
 "nbformat_minor": 5
}
