{
  "nbformat": 4,
  "nbformat_minor": 0,
  "metadata": {
    "colab": {
      "provenance": []
    },
    "kernelspec": {
      "name": "python3",
      "display_name": "Python 3"
    },
    "language_info": {
      "name": "python"
    }
  },
  "cells": [
    {
      "cell_type": "markdown",
      "source": [
        "### **Functions**\n",
        "1. Functions facilitate reusability of code\n",
        "2. They prevent the code repetation\n",
        "\n",
        "##### **Types of functions**\n",
        "1. Built-in functions - print(), input(), len(), type(), list().append()\n",
        "2. User defined function - They are created by user/developers to solve a problem statement"
      ],
      "metadata": {
        "id": "aHCZN3xgc2Sn"
      }
    },
    {
      "cell_type": "markdown",
      "source": [
        "#### **User defined function**\n",
        "1. Non-parameterized\n",
        "2. Parameterized"
      ],
      "metadata": {
        "id": "m_Q8pOOrduhp"
      }
    },
    {
      "cell_type": "markdown",
      "source": [
        "#### **Non-parameterized Functions**\n",
        "Write a function to print sum of two numbers"
      ],
      "metadata": {
        "id": "MZTOiVKheJuy"
      }
    },
    {
      "cell_type": "code",
      "source": [
        "# Function defination\n",
        "def sum2num():\n",
        "  a = int(input('Enter 1st number : '))\n",
        "  b = int(input('Enter 2nd number : '))\n",
        "  print(a+b)"
      ],
      "metadata": {
        "id": "stM3SIdBdsRE"
      },
      "execution_count": 1,
      "outputs": []
    },
    {
      "cell_type": "code",
      "source": [
        "sum2num()"
      ],
      "metadata": {
        "colab": {
          "base_uri": "https://localhost:8080/"
        },
        "id": "WWZc4boje1EK",
        "outputId": "b210b27c-4ef9-4738-feac-54849cd40bcb"
      },
      "execution_count": 2,
      "outputs": [
        {
          "output_type": "stream",
          "name": "stdout",
          "text": [
            "Enter 1st number : 24\n",
            "Enter 2nd number : 54\n",
            "78\n"
          ]
        }
      ]
    },
    {
      "cell_type": "code",
      "source": [
        "sum2num()"
      ],
      "metadata": {
        "colab": {
          "base_uri": "https://localhost:8080/"
        },
        "id": "eoNEXSt5e2V6",
        "outputId": "9916a2c0-9de9-4ce5-98ba-07a6c9cfb132"
      },
      "execution_count": 3,
      "outputs": [
        {
          "output_type": "stream",
          "name": "stdout",
          "text": [
            "Enter 1st number : 56\n",
            "Enter 2nd number : 46\n",
            "102\n"
          ]
        }
      ]
    },
    {
      "cell_type": "code",
      "source": [
        "# WAF to print area of circle using its radius as user input\n",
        "\n",
        "def area():\n",
        "  r = int(input(\"Enter the radius of circle : \"))\n",
        "  print(round(3.14*r*r,2))\n",
        "\n",
        "area()"
      ],
      "metadata": {
        "colab": {
          "base_uri": "https://localhost:8080/"
        },
        "id": "R8AzF9sve-DP",
        "outputId": "e355e4b3-b4bf-447a-ec4d-798da6fb2daf"
      },
      "execution_count": 5,
      "outputs": [
        {
          "output_type": "stream",
          "name": "stdout",
          "text": [
            "Enter the radius of circle : 12\n",
            "452.16\n"
          ]
        }
      ]
    },
    {
      "cell_type": "code",
      "source": [
        "# WAF to print the diagonal and perimeter of rectangle given length and area as user input\n",
        "\n",
        "def rect():\n",
        "  len = int(input(\"Enter the length of rectangle : \"))\n",
        "  area = int(input(\"Enter the area of rectangle : \"))\n",
        "\n",
        "  breadth = area/len\n",
        "  perimeter = 2*(len+breadth)\n",
        "  diagonal = (len**2 + breadth**2)**(1/2)\n",
        "  print(f'Length : {len}')\n",
        "  print(f'breadth : {breadth}')\n",
        "  print(f'area : {area}')\n",
        "  print(f'perimeter : {perimeter}')\n",
        "\n",
        "# calling function\n",
        "rect()"
      ],
      "metadata": {
        "colab": {
          "base_uri": "https://localhost:8080/"
        },
        "id": "l66QWidNfxsW",
        "outputId": "eeb8677c-d442-4db6-8526-ab64f96fb487"
      },
      "execution_count": 7,
      "outputs": [
        {
          "output_type": "stream",
          "name": "stdout",
          "text": [
            "Enter the length of rectangle : 4\n",
            "Enter the area of rectangle : 12\n",
            "Length : 4\n",
            "breadth : 3.0\n",
            "area : 12\n",
            "perimeter : 14.0\n"
          ]
        }
      ]
    },
    {
      "cell_type": "code",
      "source": [
        "# WAF to compute speed given distance and time as user inputs\n",
        "\n",
        "def speed():\n",
        "  d = int(input('Enter the distance : '))\n",
        "  t = int(input('Enter the time : '))\n",
        "  print(f\"Speed of the given function is :{d/t}\")\n",
        "\n",
        "\n",
        "# Function calling\n",
        "speed()"
      ],
      "metadata": {
        "colab": {
          "base_uri": "https://localhost:8080/"
        },
        "id": "W_ZLlhrlhWOB",
        "outputId": "b0d1a2a7-75d0-4b56-d595-74b1035cfb82"
      },
      "execution_count": 9,
      "outputs": [
        {
          "output_type": "stream",
          "name": "stdout",
          "text": [
            "Enter the distance : 12\n",
            "Enter the time : 3\n",
            "Speed of the given function is :4.0\n"
          ]
        }
      ]
    },
    {
      "cell_type": "markdown",
      "source": [
        "### **Parameterized function**"
      ],
      "metadata": {
        "id": "lh5m09y4iU_1"
      }
    },
    {
      "cell_type": "code",
      "source": [
        "# WAF to check if a given number is even or odd\n",
        "\n",
        "def evenOdd(n):\n",
        "  if n%2 == 0:\n",
        "    print(\"Even\")\n",
        "  else:\n",
        "    print(\"Odd\")\n",
        "\n",
        "\n",
        "# calling function\n",
        "evenOdd(13)"
      ],
      "metadata": {
        "colab": {
          "base_uri": "https://localhost:8080/"
        },
        "id": "CXF_PJTbiJoi",
        "outputId": "ca3d5945-644f-4c3e-da56-801b7328de1c"
      },
      "execution_count": 11,
      "outputs": [
        {
          "output_type": "stream",
          "name": "stdout",
          "text": [
            "Odd\n"
          ]
        }
      ]
    },
    {
      "cell_type": "code",
      "source": [
        "# WAF to print the table of a number(1-10) provided the number as argument\n",
        "\n",
        "def table(n):\n",
        "  for i in range(1, 11):\n",
        "    print(i*n)\n",
        "\n",
        "# calling function\n",
        "table(23)"
      ],
      "metadata": {
        "colab": {
          "base_uri": "https://localhost:8080/"
        },
        "id": "bk3XsqChjLll",
        "outputId": "a1680bc9-e4d9-4243-8954-717831cb636f"
      },
      "execution_count": 13,
      "outputs": [
        {
          "output_type": "stream",
          "name": "stdout",
          "text": [
            "23\n",
            "46\n",
            "69\n",
            "92\n",
            "115\n",
            "138\n",
            "161\n",
            "184\n",
            "207\n",
            "230\n"
          ]
        }
      ]
    },
    {
      "cell_type": "code",
      "source": [
        "# WAF to print the table of a number(10-1) provided the number as argument\n",
        "\n",
        "def table_rev(n):\n",
        "  for i in range(10, 0, -1):\n",
        "    print(i*n)\n",
        "\n",
        "# calling function\n",
        "table_rev(23)"
      ],
      "metadata": {
        "colab": {
          "base_uri": "https://localhost:8080/"
        },
        "id": "oJZL829gkS1W",
        "outputId": "e5da7662-15b4-4507-a6dc-31e970453793"
      },
      "execution_count": 15,
      "outputs": [
        {
          "output_type": "stream",
          "name": "stdout",
          "text": [
            "230\n",
            "207\n",
            "184\n",
            "161\n",
            "138\n",
            "115\n",
            "92\n",
            "69\n",
            "46\n",
            "23\n"
          ]
        }
      ]
    },
    {
      "cell_type": "markdown",
      "source": [
        "#### **Positional Argument and Default arguments**\n",
        "Default arguments - Parameters initialised by default values in the function definition. They are used when the corresponding argument is not passed while function is called\n",
        "\n",
        "##### **While defining function with arguments**\n",
        "1. Positional arguments have be definrd first(in left to right order) and then followed by default arguments\n",
        "\n",
        "##### **Example that generate error**\n",
        "f1(a,b=7,c)\n",
        "f1(a=8,b=7,c)\n",
        "f1(b=7,c)"
      ],
      "metadata": {
        "id": "1LSLRZEIrzgI"
      }
    },
    {
      "cell_type": "code",
      "source": [
        "def fun1(a, b, c=6):\n",
        "  r = (b * a) - c\n",
        "  print(r)\n",
        "\n",
        "fun1(2, 3, 4) #a=2, b=3, c=4\n",
        "fun1(2, 3) #a=2, b=3, c=6\n",
        "# fun1(b=2, 3) #a=2, b=3, c=4"
      ],
      "metadata": {
        "colab": {
          "base_uri": "https://localhost:8080/"
        },
        "id": "t6W_WSV5rNFr",
        "outputId": "14a91f2f-2579-403c-dd7b-e1327da2ed53"
      },
      "execution_count": 17,
      "outputs": [
        {
          "output_type": "stream",
          "name": "stdout",
          "text": [
            "2\n",
            "0\n"
          ]
        }
      ]
    },
    {
      "cell_type": "markdown",
      "source": [
        "#### **Return keyword**\n",
        "1. Return is only used inside the functions\n",
        "2. Return has to be the last statement in the function\n",
        "3. Return can be used only once in the function(Excluding the if-elif-else condition)\n",
        "4. If multiple return statements are used, only the first one is the valid statement\n",
        "5. Return can not de used to generate a sequence\n",
        "6. Any code return below the return keyword will not be executed\n"
      ],
      "metadata": {
        "id": "2VggVIT8v6k-"
      }
    },
    {
      "cell_type": "code",
      "source": [
        "def greet(name):\n",
        "  return \"Hello \" + name\n",
        "\n",
        "\n",
        "# Function calling\n",
        "a = greet(\"Akanksha\")\n",
        "print(a)"
      ],
      "metadata": {
        "colab": {
          "base_uri": "https://localhost:8080/"
        },
        "id": "Vt_0rgrMtlfA",
        "outputId": "b043b54d-29b7-4948-b7e0-037536862448"
      },
      "execution_count": 19,
      "outputs": [
        {
          "output_type": "stream",
          "name": "stdout",
          "text": [
            "Hello Akanksha\n"
          ]
        }
      ]
    },
    {
      "cell_type": "code",
      "source": [
        "# If multiple return statements are used, only the first one is the valid statement\n",
        "\n",
        "def fun3():\n",
        "  return 10\n",
        "  return \"Welcome\"\n",
        "\n",
        "a1 = fun3()\n",
        "print(a1)"
      ],
      "metadata": {
        "colab": {
          "base_uri": "https://localhost:8080/"
        },
        "id": "g46FRawIxGOq",
        "outputId": "eaa37ae7-6ec5-43ce-cd93-031779748b0a"
      },
      "execution_count": 20,
      "outputs": [
        {
          "output_type": "stream",
          "name": "stdout",
          "text": [
            "10\n"
          ]
        }
      ]
    },
    {
      "cell_type": "code",
      "source": [
        "# Return can not de used to generate a sequence\n",
        "\n",
        "def fun4(n):\n",
        "  for i in range (n):\n",
        "    print(i, end = \" \")\n",
        "\n",
        "fun4(4)"
      ],
      "metadata": {
        "colab": {
          "base_uri": "https://localhost:8080/"
        },
        "id": "4iz2B7dfxq1B",
        "outputId": "6e14b072-c957-4383-d4aa-edd4f8452b22"
      },
      "execution_count": 21,
      "outputs": [
        {
          "output_type": "stream",
          "name": "stdout",
          "text": [
            "0 1 2 3 "
          ]
        }
      ]
    },
    {
      "cell_type": "code",
      "source": [
        "def fun4(n):\n",
        "  for i in range (n):\n",
        "    return i\n",
        "\n",
        "fun4(4)"
      ],
      "metadata": {
        "colab": {
          "base_uri": "https://localhost:8080/"
        },
        "id": "tg9TMHQsyfeO",
        "outputId": "def64466-3a00-4ea3-e615-0b07f7cd3f12"
      },
      "execution_count": 23,
      "outputs": [
        {
          "output_type": "execute_result",
          "data": {
            "text/plain": [
              "0"
            ]
          },
          "metadata": {},
          "execution_count": 23
        }
      ]
    },
    {
      "cell_type": "code",
      "source": [],
      "metadata": {
        "id": "SpzbFnv-yhgT"
      },
      "execution_count": null,
      "outputs": []
    }
  ]
}