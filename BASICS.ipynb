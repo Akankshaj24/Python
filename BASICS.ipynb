{
 "cells": [
  {
   "cell_type": "raw",
   "id": "d54ac620",
   "metadata": {},
   "source": [
    "USE ESC KEY TO ENABLE\n",
    "\n",
    "1) TO RUN THE SHELL  -->  shift + Enter\n",
    "2) TO ADD NEW CELL BELOW THE CURRENT CELL  -->  b\n",
    "3) TO ADD NEW CELL ABOVE THE CURRENT CELL   -->  a\n",
    "4) TO DELETE THE CELL  -->  dd  (double d)\n",
    "5) TO UNDO OPERATION  -->  z\n",
    "6) TO FIND AND REPLACE  -->  f\n",
    "7) TO SEE ALL SHORTCUTS  -->  h"
   ]
  },
  {
   "cell_type": "raw",
   "id": "b53ac9d6",
   "metadata": {},
   "source": [
    "# VARIABLES #\n",
    "\n",
    "STORAGE UNIT \n",
    "Entity that stores the data\n",
    "data cane be of any data type"
   ]
  },
  {
   "cell_type": "code",
   "execution_count": 10,
   "id": "f2b8f0c7",
   "metadata": {},
   "outputs": [
    {
     "name": "stdout",
     "output_type": "stream",
     "text": [
      "20\n"
     ]
    }
   ],
   "source": [
    "s=20\n",
    "print(s)\n",
    "\n",
    "# TO read variable\n",
    "# 1.  s is assigned with value 20\n",
    "# 2.  s is initialized with value 20\n",
    "# 3.  the value of 20 stored in variable s"
   ]
  },
  {
   "cell_type": "raw",
   "id": "6a587811",
   "metadata": {},
   "source": [
    "#  RULES FOR NAMING THE VARABLES  #\n",
    "\n",
    "# 1.  starts with A-z or a-z or _ (underscore)\n",
    "# 2.  it should not contain special characters, space character etc.\n",
    "# 3.  It should not start with number\n",
    "# 4.  Python keywords should be avoided"
   ]
  },
  {
   "cell_type": "code",
   "execution_count": 14,
   "id": "5da44b17",
   "metadata": {},
   "outputs": [
    {
     "name": "stdout",
     "output_type": "stream",
     "text": [
      "Hello\n",
      "10\n",
      "20\n",
      "Hello 10 20\n"
     ]
    }
   ],
   "source": [
    "#  multiple variables can be assigned in one line\n",
    "\n",
    "a1,a2,a3=\"Hello\",10,20\n",
    "print(a1)\n",
    "print(a2)\n",
    "print(a3)\n",
    "\n",
    "print(a1,a2,a3)"
   ]
  },
  {
   "cell_type": "code",
   "execution_count": 15,
   "id": "f649f11b",
   "metadata": {},
   "outputs": [
    {
     "name": "stdout",
     "output_type": "stream",
     "text": [
      "15\n",
      "Hello\n"
     ]
    }
   ],
   "source": [
    "# variable cane be reinitialized, redeclared and reassigned\n",
    "\n",
    "x=15\n",
    "print(x)\n",
    "x=\"Hello\"\n",
    "print(x)"
   ]
  },
  {
   "cell_type": "raw",
   "id": "68640637",
   "metadata": {},
   "source": [
    "#  COMMENTS  #\n",
    "1. They are meant for internal documentation\n",
    "2. They are written by writing '#' in the begining\n",
    "3. Comments don't get executed"
   ]
  },
  {
   "cell_type": "code",
   "execution_count": 16,
   "id": "473dd422",
   "metadata": {},
   "outputs": [],
   "source": [
    "# hello \n",
    "# print('hello')"
   ]
  },
  {
   "cell_type": "markdown",
   "id": "784c5ac9",
   "metadata": {},
   "source": [
    "Dynamic typing  --\n",
    "\n",
    "Data Type of variable changes at runtime"
   ]
  },
  {
   "cell_type": "code",
   "execution_count": 18,
   "id": "e7406062",
   "metadata": {},
   "outputs": [
    {
     "name": "stdout",
     "output_type": "stream",
     "text": [
      "Hello\n",
      "<class 'str'>\n",
      "45\n",
      "<class 'int'>\n"
     ]
    }
   ],
   "source": [
    "x='Hello'\n",
    "print(x)\n",
    "print(type(x))\n",
    "x=45\n",
    "print(x)\n",
    "print(type(x))"
   ]
  },
  {
   "cell_type": "markdown",
   "id": "6bbc7d46",
   "metadata": {},
   "source": [
    "Data Types -->\n",
    "int, float, str, bool, NoneType, complex"
   ]
  },
  {
   "cell_type": "code",
   "execution_count": 19,
   "id": "86ab55b9",
   "metadata": {},
   "outputs": [
    {
     "name": "stdout",
     "output_type": "stream",
     "text": [
      "10\n",
      "<class 'int'>\n"
     ]
    }
   ],
   "source": [
    "x=10\n",
    "print(x)\n",
    "print(type(x))"
   ]
  },
  {
   "cell_type": "code",
   "execution_count": 21,
   "id": "e66bb967",
   "metadata": {},
   "outputs": [
    {
     "name": "stdout",
     "output_type": "stream",
     "text": [
      "10.1\n",
      "<class 'float'>\n"
     ]
    }
   ],
   "source": [
    "x=10.1\n",
    "print(x)\n",
    "print(type(x))"
   ]
  },
  {
   "cell_type": "raw",
   "id": "69da9aaa",
   "metadata": {},
   "source": [
    "*STRINGS*\n",
    "\n",
    "1. Enclosed in single,double,triple quotes\n",
    "2. Triple quotes are used to write multiline quotes\n",
    "\n",
    "   '' - single quotes\n",
    "   \"\" - double quotes\n",
    "   '''''' - triple quotes\n",
    "   \"\"\"\"\"\" - triple quotes"
   ]
  },
  {
   "cell_type": "code",
   "execution_count": 22,
   "id": "8e66409a",
   "metadata": {},
   "outputs": [
    {
     "name": "stdout",
     "output_type": "stream",
     "text": [
      "Welcome\n",
      "<class 'str'>\n",
      "Google\n",
      "<class 'str'>\n"
     ]
    }
   ],
   "source": [
    "s1='Welcome'\n",
    "print(s1)\n",
    "print(type(s1))\n",
    "\n",
    "s2=\"Google\"\n",
    "print(s2)\n",
    "print(type(s2))"
   ]
  },
  {
   "cell_type": "code",
   "execution_count": 23,
   "id": "2f22a63d",
   "metadata": {},
   "outputs": [
    {
     "name": "stdout",
     "output_type": "stream",
     "text": [
      "hey\n",
      "welcome to python tutorial\n",
      "<class 'str'>\n"
     ]
    }
   ],
   "source": [
    "s3='''hey\n",
    "welcome to python tutorial'''\n",
    "print(s3)\n",
    "print(type(s3))"
   ]
  },
  {
   "cell_type": "code",
   "execution_count": 25,
   "id": "97f3baf2",
   "metadata": {},
   "outputs": [
    {
     "name": "stdout",
     "output_type": "stream",
     "text": [
      "hello,\n",
      "guys This is Akanksha\n",
      "<class 'str'>\n"
     ]
    }
   ],
   "source": [
    "s3=\"\"\"hello,\n",
    "guys This is Akanksha\"\"\"\n",
    "print(s3)\n",
    "print(type(s3))"
   ]
  },
  {
   "cell_type": "code",
   "execution_count": 26,
   "id": "e389df35",
   "metadata": {},
   "outputs": [
    {
     "name": "stdout",
     "output_type": "stream",
     "text": [
      "True\n",
      "<class 'bool'>\n"
     ]
    }
   ],
   "source": [
    "s4=True\n",
    "print(s4)\n",
    "print(type(s4))"
   ]
  },
  {
   "cell_type": "code",
   "execution_count": 27,
   "id": "1a406491",
   "metadata": {},
   "outputs": [
    {
     "name": "stdout",
     "output_type": "stream",
     "text": [
      "(5+7j)\n",
      "<class 'complex'>\n"
     ]
    }
   ],
   "source": [
    "s5=5+7j\n",
    "print(s5)\n",
    "print(type(s5))"
   ]
  },
  {
   "cell_type": "code",
   "execution_count": 28,
   "id": "f4021888",
   "metadata": {},
   "outputs": [
    {
     "name": "stdout",
     "output_type": "stream",
     "text": [
      "None\n",
      "<class 'NoneType'>\n"
     ]
    }
   ],
   "source": [
    "s6= None\n",
    "print(s6)\n",
    "print(type(s6))"
   ]
  },
  {
   "cell_type": "code",
   "execution_count": null,
   "id": "8a1fdba2",
   "metadata": {},
   "outputs": [],
   "source": []
  },
  {
   "cell_type": "markdown",
   "id": "fc900018",
   "metadata": {},
   "source": [
    "# OPERATORS"
   ]
  },
  {
   "cell_type": "raw",
   "id": "78203119",
   "metadata": {},
   "source": [
    "1.  ARITHMETIC OPERATORS  +,-,*,/,//,**,%"
   ]
  },
  {
   "cell_type": "code",
   "execution_count": 2,
   "id": "448a742b",
   "metadata": {},
   "outputs": [
    {
     "name": "stdout",
     "output_type": "stream",
     "text": [
      "7\n",
      "3\n",
      "10\n",
      "2.5\n",
      "2\n",
      "25\n",
      "1\n"
     ]
    }
   ],
   "source": [
    "a,b=5,2\n",
    "\n",
    "print(a+b)\n",
    "print(a-b)\n",
    "print(a*b)\n",
    "print(a/b)\n",
    "print(a//b)  # floor division\n",
    "print(a**b)  # power operator\n",
    "print(a%b)   # remainder"
   ]
  },
  {
   "cell_type": "raw",
   "id": "79e3232e",
   "metadata": {},
   "source": [
    "2. ASSIGNMENT OPERATORS"
   ]
  },
  {
   "cell_type": "code",
   "execution_count": 4,
   "id": "bd9f76e2",
   "metadata": {},
   "outputs": [
    {
     "name": "stdout",
     "output_type": "stream",
     "text": [
      "5 2\n",
      "7 2\n",
      "5 2\n",
      "10 2\n",
      "5.0 2\n",
      "2 2\n"
     ]
    }
   ],
   "source": [
    "a,b=5,2\n",
    "print(a,b)\n",
    "\n",
    "a+=b    #  a=a+b\n",
    "print(a,b)\n",
    "\n",
    "a-=b    #  a=a-b\n",
    "print(a,b)\n",
    "\n",
    "a*=b    #  a=a*b\n",
    "print(a,b)\n",
    "\n",
    "a/=b    #  a=a/b\n",
    "print(a,b)\n",
    "\n",
    "a=b    #  a=b\n",
    "print(a,b)"
   ]
  },
  {
   "cell_type": "raw",
   "id": "5b0f9364",
   "metadata": {},
   "source": [
    "3. RELATIONAL OR COMPARISON OPERATORS\n",
    "\n",
    "result is always true or false"
   ]
  },
  {
   "cell_type": "code",
   "execution_count": 6,
   "id": "9981d1c4",
   "metadata": {},
   "outputs": [
    {
     "name": "stdout",
     "output_type": "stream",
     "text": [
      "False\n",
      "False\n",
      "True\n",
      "True\n",
      "False\n",
      "True\n"
     ]
    }
   ],
   "source": [
    "a,b=12,15\n",
    "\n",
    "print(a>b)\n",
    "print(a>=b)\n",
    "print(a<b)\n",
    "print(a<=b)\n",
    "print(a==b)   # equals to\n",
    "print(a!=b)   # not equals to"
   ]
  },
  {
   "cell_type": "raw",
   "id": "b7cca180",
   "metadata": {},
   "source": [
    "4. LOGICAL OPERATORS\n",
    "\n",
    "returns true or false"
   ]
  },
  {
   "cell_type": "raw",
   "id": "2bbb3799",
   "metadata": {},
   "source": [
    "and --> Returns true when both conditions are true, otherwise false\n",
    "or  --> REturns true when either of the conditions is True, otherwise False"
   ]
  },
  {
   "cell_type": "code",
   "execution_count": 8,
   "id": "b7722bfe",
   "metadata": {},
   "outputs": [
    {
     "name": "stdout",
     "output_type": "stream",
     "text": [
      "False\n",
      "True\n",
      "True\n",
      "False\n"
     ]
    }
   ],
   "source": [
    "a,b,c=34,45,39\n",
    "\n",
    "print(a>b and b>c)\n",
    "print(a<b and b>c)\n",
    "print(c<a or b>=a)\n",
    "print(a>b or b<c)"
   ]
  },
  {
   "cell_type": "raw",
   "id": "4150f366",
   "metadata": {},
   "source": [
    "5. MEMBERSHIP OPERATOR (in, not in)\n",
    "\n",
    "Returns true or false\n",
    "works with Strings List tuples and Sets"
   ]
  },
  {
   "cell_type": "code",
   "execution_count": 12,
   "id": "2b8f7edb",
   "metadata": {},
   "outputs": [
    {
     "name": "stdout",
     "output_type": "stream",
     "text": [
      "True\n",
      "False\n",
      "False\n",
      "True\n",
      "\n",
      "\n",
      "False\n",
      "True\n"
     ]
    }
   ],
   "source": [
    "w='Welcome to python learning'\n",
    "\n",
    "print('python' in w)\n",
    "print('Python' in w)\n",
    "print('where' in w)\n",
    "print('ing' in w)\n",
    "print('\\n')\n",
    "print('python' not in w)\n",
    "print('where' not in w)"
   ]
  },
  {
   "cell_type": "code",
   "execution_count": 13,
   "id": "223231eb",
   "metadata": {},
   "outputs": [
    {
     "name": "stdout",
     "output_type": "stream",
     "text": [
      "Hello \n",
      "Welcome to python tutorial\n"
     ]
    }
   ],
   "source": [
    "print('Hello \\nWelcome to python tutorial')"
   ]
  },
  {
   "cell_type": "markdown",
   "id": "df64de45",
   "metadata": {},
   "source": [
    "# parameters of print"
   ]
  },
  {
   "cell_type": "code",
   "execution_count": 15,
   "id": "6078f122",
   "metadata": {},
   "outputs": [
    {
     "name": "stdout",
     "output_type": "stream",
     "text": [
      "Hello Image Audio **Image\n",
      "Audio\n"
     ]
    }
   ],
   "source": [
    "#  end  -->  Values passed in end displayed at the end \n",
    "\n",
    "a=\"Hello\"\n",
    "b=\"Image\"\n",
    "c=\"Audio\"\n",
    "print(a,b,c, end=\" **\")   # Here end is specified as \" **\"\n",
    "print(b)  # By default end ='\\n'\n",
    "print(c)"
   ]
  },
  {
   "cell_type": "code",
   "execution_count": 17,
   "id": "0fcd702e",
   "metadata": {},
   "outputs": [
    {
     "name": "stdout",
     "output_type": "stream",
     "text": [
      "Hello Image Audio\n",
      "Hello@@Image@@Audio\n"
     ]
    }
   ],
   "source": [
    "#   sep --> It is used to seperate different values that are passed in print()\n",
    "\n",
    "a=\"Hello\"\n",
    "b=\"Image\"\n",
    "c=\"Audio\"\n",
    "print(a,b,c)\n",
    "print(a,b,c, sep=\"@@\")  "
   ]
  },
  {
   "cell_type": "raw",
   "id": "5f7763a5",
   "metadata": {},
   "source": [
    "input()  \n",
    "\n",
    "1. Used to accept user input. Accept data at runtime\n",
    "2. Return type of input() is string"
   ]
  },
  {
   "cell_type": "code",
   "execution_count": 19,
   "id": "f70bf703",
   "metadata": {},
   "outputs": [
    {
     "name": "stdout",
     "output_type": "stream",
     "text": [
      "Enter the number: 5\n",
      "5\n",
      "<class 'str'>\n"
     ]
    }
   ],
   "source": [
    "n=input('Enter the number: ')\n",
    "print(n)\n",
    "print(type(n))"
   ]
  },
  {
   "cell_type": "markdown",
   "id": "91b3d624",
   "metadata": {},
   "source": [
    "# TYPECASTING"
   ]
  },
  {
   "cell_type": "code",
   "execution_count": 20,
   "id": "b9adcf9e",
   "metadata": {},
   "outputs": [
    {
     "name": "stdout",
     "output_type": "stream",
     "text": [
      "Enter the number: 5\n",
      "5\n",
      "<class 'int'>\n"
     ]
    }
   ],
   "source": [
    "n=int(input('Enter the number: '))\n",
    "print(n)\n",
    "print(type(n))"
   ]
  },
  {
   "cell_type": "markdown",
   "id": "8bdcaf5b",
   "metadata": {},
   "source": [
    "# PRINT FORMATTING METHODS"
   ]
  },
  {
   "cell_type": "code",
   "execution_count": 22,
   "id": "a110e361",
   "metadata": {},
   "outputs": [
    {
     "name": "stdout",
     "output_type": "stream",
     "text": [
      "Akanksha who lives in Pune is 21 yrs old\n"
     ]
    }
   ],
   "source": [
    "name='Akanksha'\n",
    "age=21\n",
    "city='Pune'\n",
    "\n",
    "print(name,'who lives in',city,'is',age,'yrs old')"
   ]
  },
  {
   "cell_type": "code",
   "execution_count": 23,
   "id": "c5b443bd",
   "metadata": {},
   "outputs": [
    {
     "name": "stdout",
     "output_type": "stream",
     "text": [
      "Akanksha who lives in Pune is 21 years old\n"
     ]
    }
   ],
   "source": [
    "print(f'{name} who lives in {city} is {age} years old')"
   ]
  },
  {
   "cell_type": "code",
   "execution_count": 24,
   "id": "3474d970",
   "metadata": {},
   "outputs": [
    {
     "name": "stdout",
     "output_type": "stream",
     "text": [
      "Akanksha who lives in Pune is 21 years old\n"
     ]
    }
   ],
   "source": [
    "#  f string or formatted string\n",
    "\n",
    "print(f'{name} who lives in {city} is {age} years old'.format(name,city,age))"
   ]
  },
  {
   "cell_type": "code",
   "execution_count": 26,
   "id": "3d2dc6aa",
   "metadata": {},
   "outputs": [
    {
     "name": "stdout",
     "output_type": "stream",
     "text": [
      "Akanksha who lives in Pune is 21 years old\n"
     ]
    }
   ],
   "source": [
    "print('{} who lives in {} is {} years old'.format(name,city,age))"
   ]
  },
  {
   "cell_type": "code",
   "execution_count": 29,
   "id": "6cc78e54",
   "metadata": {},
   "outputs": [
    {
     "name": "stdout",
     "output_type": "stream",
     "text": [
      "21 who lives in Pune is Akanksha years old\n"
     ]
    }
   ],
   "source": [
    "# sequence of variables is important while writing format function\n",
    "\n",
    "print('{} who lives in {} is {} years old'.format(age,city,name))"
   ]
  },
  {
   "cell_type": "code",
   "execution_count": null,
   "id": "3cd436cd",
   "metadata": {},
   "outputs": [],
   "source": []
  }
 ],
 "metadata": {
  "kernelspec": {
   "display_name": "Python 3 (ipykernel)",
   "language": "python",
   "name": "python3"
  },
  "language_info": {
   "codemirror_mode": {
    "name": "ipython",
    "version": 3
   },
   "file_extension": ".py",
   "mimetype": "text/x-python",
   "name": "python",
   "nbconvert_exporter": "python",
   "pygments_lexer": "ipython3",
   "version": "3.9.12"
  }
 },
 "nbformat": 4,
 "nbformat_minor": 5
}
