{
 "cells": [
  {
   "cell_type": "markdown",
   "id": "4bc39607",
   "metadata": {},
   "source": [
    "## TUPLE\n",
    "1. It is an ordered collection of elements.\n",
    "2. Tuple elements are enclosed in () and separated by comma.\n",
    "3. We can perform indexing and slicing.\n",
    "4. Tuple is immutable (It can't be changed).\n",
    "5. Duplicates are allowed"
   ]
  },
  {
   "cell_type": "code",
   "execution_count": 1,
   "id": "b544de5d",
   "metadata": {},
   "outputs": [
    {
     "name": "stdout",
     "output_type": "stream",
     "text": [
      "<class 'tuple'>\n",
      "<class 'tuple'>\n"
     ]
    }
   ],
   "source": [
    "# empty tuple\n",
    "\n",
    "t1,t2 = (),tuple()\n",
    "print(type(t1))\n",
    "print(type(t2))"
   ]
  },
  {
   "cell_type": "code",
   "execution_count": 2,
   "id": "20a778dd",
   "metadata": {},
   "outputs": [
    {
     "name": "stdout",
     "output_type": "stream",
     "text": [
      "(10, 20, 'Hello', 34, 56)\n",
      "<class 'tuple'>\n",
      "5\n"
     ]
    }
   ],
   "source": [
    "t3=(10,20,'Hello',34,56)\n",
    "print(t3)\n",
    "print(type(t3))\n",
    "print(len(t3))"
   ]
  },
  {
   "cell_type": "code",
   "execution_count": 4,
   "id": "0fe870d0",
   "metadata": {},
   "outputs": [
    {
     "name": "stdout",
     "output_type": "stream",
     "text": [
      "29 18 30\n",
      "10\n"
     ]
    }
   ],
   "source": [
    "w1 = (10,17,18,29,30)\n",
    "print(w1[3],w1[2],w1[4])\n",
    "print(w1[0])"
   ]
  },
  {
   "cell_type": "markdown",
   "id": "d256dc79",
   "metadata": {},
   "source": [
    "### Tuple is Immutable"
   ]
  },
  {
   "cell_type": "code",
   "execution_count": 6,
   "id": "6e85df27",
   "metadata": {},
   "outputs": [
    {
     "name": "stdout",
     "output_type": "stream",
     "text": [
      "22\n"
     ]
    },
    {
     "ename": "TypeError",
     "evalue": "'tuple' object does not support item assignment",
     "output_type": "error",
     "traceback": [
      "\u001b[1;31m---------------------------------------------------------------------------\u001b[0m",
      "\u001b[1;31mTypeError\u001b[0m                                 Traceback (most recent call last)",
      "Cell \u001b[1;32mIn[6], line 3\u001b[0m\n\u001b[0;32m      1\u001b[0m q1\u001b[38;5;241m=\u001b[39m(\u001b[38;5;241m6\u001b[39m,\u001b[38;5;241m8\u001b[39m,\u001b[38;5;241m22\u001b[39m,\u001b[38;5;241m24\u001b[39m,\u001b[38;5;241m35\u001b[39m)\n\u001b[0;32m      2\u001b[0m \u001b[38;5;28mprint\u001b[39m(q1[\u001b[38;5;241m2\u001b[39m])\n\u001b[1;32m----> 3\u001b[0m q1[\u001b[38;5;241m2\u001b[39m]\u001b[38;5;241m=\u001b[39m\u001b[38;5;124m'\u001b[39m\u001b[38;5;124mHello\u001b[39m\u001b[38;5;124m'\u001b[39m\n\u001b[0;32m      4\u001b[0m \u001b[38;5;28mprint\u001b[39m(q1)\n",
      "\u001b[1;31mTypeError\u001b[0m: 'tuple' object does not support item assignment"
     ]
    }
   ],
   "source": [
    "q1=(6,8,22,24,35)\n",
    "print(q1[2])\n",
    "q1[2]='Hello'\n",
    "print(q1)     # It can't be changed"
   ]
  },
  {
   "cell_type": "markdown",
   "id": "1c09e8a2",
   "metadata": {},
   "source": [
    "### Tuple Methods\n",
    "1. count()\n",
    "2. index()"
   ]
  },
  {
   "cell_type": "code",
   "execution_count": 7,
   "id": "c993a6ae",
   "metadata": {},
   "outputs": [
    {
     "name": "stdout",
     "output_type": "stream",
     "text": [
      "3\n",
      "4\n",
      "1\n",
      "2\n"
     ]
    }
   ],
   "source": [
    "# count()   --> Simply counts the number of elements \n",
    "\n",
    "t = (10,20,20,30,35,10,25,20,30,35,10,25,20,40,50)\n",
    "print(t.count(10))\n",
    "print(t.count(20))\n",
    "print(t.count(40))\n",
    "print(t.count(35))"
   ]
  },
  {
   "cell_type": "code",
   "execution_count": 9,
   "id": "2f0b9ea0",
   "metadata": {},
   "outputs": [
    {
     "name": "stdout",
     "output_type": "stream",
     "text": [
      "1\n",
      "3\n",
      "6\n"
     ]
    }
   ],
   "source": [
    "# Index   --> Returns the index of element\n",
    "\n",
    "t= (10,20,30,35,10,25,20,50)\n",
    "print(t.index(20))\n",
    "print(t.index(35))\n",
    "print(t.index(20,2))  #--> Start index is 2 so it will start searching from index 2 "
   ]
  },
  {
   "cell_type": "code",
   "execution_count": null,
   "id": "ad1eb32c",
   "metadata": {},
   "outputs": [],
   "source": []
  }
 ],
 "metadata": {
  "kernelspec": {
   "display_name": "Python 3 (ipykernel)",
   "language": "python",
   "name": "python3"
  },
  "language_info": {
   "codemirror_mode": {
    "name": "ipython",
    "version": 3
   },
   "file_extension": ".py",
   "mimetype": "text/x-python",
   "name": "python",
   "nbconvert_exporter": "python",
   "pygments_lexer": "ipython3",
   "version": "3.11.3"
  }
 },
 "nbformat": 4,
 "nbformat_minor": 5
}
