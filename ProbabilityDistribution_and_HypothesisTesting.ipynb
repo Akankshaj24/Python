{
  "nbformat": 4,
  "nbformat_minor": 0,
  "metadata": {
    "colab": {
      "provenance": []
    },
    "kernelspec": {
      "name": "python3",
      "display_name": "Python 3"
    },
    "language_info": {
      "name": "python"
    }
  },
  "cells": [
    {
      "cell_type": "markdown",
      "source": [
        "## **Probability Distribution**\n",
        "\n",
        "Ts is a statisstical function that describes all the possible values and likelihoods that a random variable can take within a given range\n",
        "\n",
        "It is of 2 types:\n",
        "1. Discrete probability distribution\n",
        "2. Continuous probability distribution"
      ],
      "metadata": {
        "id": "YGCdt_v3xNj0"
      }
    },
    {
      "cell_type": "markdown",
      "source": [
        "#### **Discrete Probability Distribution**\n",
        "1. It is probability distribution for discrete random variables\n",
        "2. PMF(Probability Mass Function) is used to represent the probability that a random variable takes at a specific value\n",
        "3. The sum of probabilities is 1"
      ],
      "metadata": {
        "id": "iW8dNeg7xy0K"
      }
    },
    {
      "cell_type": "markdown",
      "source": [
        "##### **1) Poisson Distribution**\n",
        "It has following properties:\n",
        "1. The number of success in the experiment can be counted.\n",
        "2. The mean number of successes that occurs during a specific interval of time (or space) is known.\n",
        "3. Each outcome is independent.\n",
        "4. The probability that a success will occur is proportional to the size of the interval.\n",
        "\n",
        "P(X=k) = ʎ^k * e^(-ʎ)/k!\n",
        "\n",
        "where,\n",
        " k = number of success\n",
        "\n",
        " ʎ = Mean number of successes\n",
        "\n",
        " e = 2.71"
      ],
      "metadata": {
        "id": "V7yn5UVpzHJi"
      }
    },
    {
      "cell_type": "markdown",
      "source": [
        "##### **Properties of poisson distribution**\n",
        "1. The mean of distribution is ʎ\n",
        "2. The varience of distribution is also ʎ.\n",
        "3. The standard deviation of distribution is : √ʎ"
      ],
      "metadata": {
        "id": "k8vfysVE0rnA"
      }
    },
    {
      "cell_type": "markdown",
      "source": [
        "For example, Suppose a hospital experiences an average of 2 births per hour.\n",
        "\n",
        "The mean number of births we would expect in a given hour is ʎ = 2 births.\n",
        "\n",
        "The variance in the number of we would expect is = 2 births."
      ],
      "metadata": {
        "id": "JCRqgaYS14IF"
      }
    },
    {
      "cell_type": "markdown",
      "source": [
        "##### **Example**\n",
        "##### **number of births per hour at given hospital**\n",
        "\n",
        "Suppose a particular Hospital experience and average of 10 Births per hour. This is a poisson experiment because it has following for properties -->\n",
        "1. Number of successes in the experiment can be counted --> We can count the number of births.\n",
        "2. The number of success that occurs during specific interval of time is known --> It is known that and average of 10 birth per hour occur.\n",
        "3. Each outcome is independent --> The probability that one mother gives birth during a given hour independent of the probability of another mother giving birth.\n",
        "4. The probability that success will offer is proportional to the size of interval --> The longer the interval of time, the higher the probability that a birth will occur."
      ],
      "metadata": {
        "id": "AVc8Tnkd4N9A"
      }
    },
    {
      "cell_type": "markdown",
      "source": [
        "Question) Assume that a particular Hospital experiences an average of two births then determine the probability of experiencing\n",
        "\n",
        "1) 0  \n",
        "2) 1\n",
        "\n",
        "3) 3 births in a given hour"
      ],
      "metadata": {
        "id": "QjASZJ_O6CuS"
      }
    },
    {
      "cell_type": "code",
      "source": [
        "from math import factorial as f\n",
        "import numpy as np\n",
        "from scipy.stats import poisson\n",
        "import matplotlib.pyplot as plt"
      ],
      "metadata": {
        "id": "vBpTQEtj3Uks"
      },
      "execution_count": 32,
      "outputs": []
    },
    {
      "cell_type": "code",
      "source": [
        "# P(X=k) = ʎ^k * e^(-ʎ)/k!\n",
        "# k = 0\n",
        "# ʎ = 2"
      ],
      "metadata": {
        "id": "Q7syu8eu6-0G"
      },
      "execution_count": 33,
      "outputs": []
    },
    {
      "cell_type": "code",
      "source": [
        "# 1) X = 0\n",
        "k = 0\n",
        "avg = 2\n",
        "prob = (avg**k)*np.exp(-avg)/f(k)\n",
        "print(prob)\n",
        "\n",
        "# computing using library\n",
        "print(poisson.pmf(k=0, mu=avg))"
      ],
      "metadata": {
        "colab": {
          "base_uri": "https://localhost:8080/"
        },
        "id": "2BlbGbfN7M9Z",
        "outputId": "5804483a-bd68-4ff8-d49f-10d9eec93273"
      },
      "execution_count": 34,
      "outputs": [
        {
          "output_type": "stream",
          "name": "stdout",
          "text": [
            "0.1353352832366127\n",
            "0.1353352832366127\n"
          ]
        }
      ]
    },
    {
      "cell_type": "code",
      "source": [
        "# 2) X = 1\n",
        "k = 1\n",
        "avg = 2\n",
        "prob = (avg**k)*np.exp(-avg)/f(k)\n",
        "print(prob)\n",
        "\n",
        "# computing using library\n",
        "print(poisson.pmf(k=1, mu=avg))"
      ],
      "metadata": {
        "colab": {
          "base_uri": "https://localhost:8080/"
        },
        "id": "Lt_8tiDj8Wau",
        "outputId": "af49920a-e64d-4714-dce5-52fc1a5b7ad0"
      },
      "execution_count": 35,
      "outputs": [
        {
          "output_type": "stream",
          "name": "stdout",
          "text": [
            "0.2706705664732254\n",
            "0.2706705664732254\n"
          ]
        }
      ]
    },
    {
      "cell_type": "code",
      "source": [
        "# 3) X = 3\n",
        "k = 3\n",
        "avg = 2\n",
        "prob = (avg**k)*np.exp(-avg)/f(k)\n",
        "print(prob)\n",
        "\n",
        "# computing using library\n",
        "print(poisson.pmf(k=3, mu=avg))"
      ],
      "metadata": {
        "colab": {
          "base_uri": "https://localhost:8080/"
        },
        "id": "vBcGgGLH8XJE",
        "outputId": "eb6b6a5f-92cf-4607-edb0-87c5526dcb70"
      },
      "execution_count": 36,
      "outputs": [
        {
          "output_type": "stream",
          "name": "stdout",
          "text": [
            "0.1804470443154836\n",
            "0.18044704431548356\n"
          ]
        }
      ]
    },
    {
      "cell_type": "code",
      "source": [
        "prob0 = poisson.pmf(k=0, mu=avg)\n",
        "prob1 = poisson.pmf(k=1, mu=avg)\n",
        "prob2 = poisson.pmf(k=2, mu=avg)\n",
        "\n",
        "print(prob0 + prob1 + prob2) # P(X<=2)\n",
        "print(poisson.cdf(k=2, mu=avg)) #  cumulative distribution function\n",
        "\n",
        "# P(X>2)\n",
        "print(1 - poisson.cdf(k=2, mu=avg))"
      ],
      "metadata": {
        "colab": {
          "base_uri": "https://localhost:8080/"
        },
        "id": "7PiylhTe9ttE",
        "outputId": "d42cff3e-927a-442e-d887-2bbd09f6a4db"
      },
      "execution_count": 37,
      "outputs": [
        {
          "output_type": "stream",
          "name": "stdout",
          "text": [
            "0.6766764161830635\n",
            "0.6766764161830634\n",
            "0.3233235838169366\n"
          ]
        }
      ]
    },
    {
      "cell_type": "code",
      "source": [],
      "metadata": {
        "id": "utTKTfSs-WO2"
      },
      "execution_count": 37,
      "outputs": []
    },
    {
      "cell_type": "code",
      "source": [],
      "metadata": {
        "id": "75mOtnI1-WSc"
      },
      "execution_count": 37,
      "outputs": []
    },
    {
      "cell_type": "markdown",
      "source": [
        "#### **Excercise on Poisson Distribution**\n",
        "\n",
        "A store sells 3 apples per day on average. What is the probability that they will sell 5 apples on a given day"
      ],
      "metadata": {
        "id": "esYl0QbH78sA"
      }
    },
    {
      "cell_type": "code",
      "source": [
        "avg = 3\n",
        "k = 5\n",
        "print(poisson.pmf(k, mu=avg))"
      ],
      "metadata": {
        "colab": {
          "base_uri": "https://localhost:8080/"
        },
        "id": "Ab0bINF67syW",
        "outputId": "672bf398-4e40-4419-cff8-11cf0ac15d2c"
      },
      "execution_count": 38,
      "outputs": [
        {
          "output_type": "stream",
          "name": "stdout",
          "text": [
            "0.10081881344492458\n"
          ]
        }
      ]
    },
    {
      "cell_type": "markdown",
      "source": [
        "A Certain store sells 7 footballs per day on an average. what is the probability that this store sells four or less footballs in a given day?"
      ],
      "metadata": {
        "id": "y2cCTDlK_FOw"
      }
    },
    {
      "cell_type": "code",
      "source": [
        "# To find the probability less than equals to 4 use cumulative distribution function\n",
        "\n",
        "avg = 7\n",
        "k = 4\n",
        "print(poisson.cdf(k=4, mu=avg))"
      ],
      "metadata": {
        "colab": {
          "base_uri": "https://localhost:8080/"
        },
        "id": "PjzhFn2n9kJ6",
        "outputId": "01e8e590-084a-4a04-bd39-201ef43db996"
      },
      "execution_count": 39,
      "outputs": [
        {
          "output_type": "stream",
          "name": "stdout",
          "text": [
            "0.17299160788207146\n"
          ]
        }
      ]
    },
    {
      "cell_type": "markdown",
      "source": [
        "##### **2) Binomial Distribution**\n",
        "A bionomial experiment is an experiment that has following properties:\n",
        "\n",
        "1. The experiment consist of and repeated trials.\n",
        "2. Each trial has only two possible outcomes.\n",
        "3. The probability of success denoted P, is the same for each trial\n",
        "4. Each trial is independent.\n",
        "\n",
        "It describes the probability of obtaining k successes in n Binomial experiments.\n",
        "\n",
        "P(X=k) = nCk * p^k * (1-p)^(n-k)\n",
        "\n",
        "nCk = n! / ((n-k)! * k!)\n",
        "\n",
        "where,\n",
        "\n",
        "n = number of trials\n",
        "\n",
        "k = number of success"
      ],
      "metadata": {
        "id": "EcKCJDXd_5-m"
      }
    },
    {
      "cell_type": "markdown",
      "source": [
        "##### **Properties of bionomial Distribution**\n",
        "1. Mean = np\n",
        "2. Variance = nqp\n",
        "\n",
        "where,\n",
        "q= p-1"
      ],
      "metadata": {
        "id": "JdDiK0r9BgFa"
      }
    },
    {
      "cell_type": "markdown",
      "source": [
        "##### **Example**\n",
        "Suppose we flip a coin 10 times. This is a binomial experiment because it has following four properties :\n",
        "1. The experiment consist of n repeated trials - There are 10 trials.\n",
        "2. Each trial has only two possible outcomes --> Head and tells\n",
        "3. The probability of success, denoted P is the same for each trial --> If we define \"Success\" as landing on heads then the probability of success is exactly 0.5 for each trial.\n",
        "4. Each trial is independent --> The outcome of one coin flip does not affect the outcome of any other coin flip"
      ],
      "metadata": {
        "id": "u5WLjrSPEAE-"
      }
    },
    {
      "cell_type": "code",
      "source": [
        "from scipy.stats import binom"
      ],
      "metadata": {
        "id": "xudE4YgT_jxA"
      },
      "execution_count": 40,
      "outputs": []
    },
    {
      "cell_type": "code",
      "source": [
        "# Nathan makes 60% of hits in free throw attempts.\n",
        "# If he shoots 12 free throws\n",
        "# What is the probability that he makes exactly 10 ?\n",
        "\n",
        "# P(X=k) = nCk * p^k * (1-p)^(n-k)\n",
        "# nCk = n! / ((n-k)! * k!)\n",
        "# where,\n",
        "# n = number of trials\n",
        "# k = number of success\n",
        "\n",
        "p = 0.6\n",
        "n = 12\n",
        "k = 10\n",
        "\n",
        "print(binom.pmf(k=10, n=12, p=0.6))"
      ],
      "metadata": {
        "colab": {
          "base_uri": "https://localhost:8080/"
        },
        "id": "15ZYRZZtFIib",
        "outputId": "6348eae4-0f18-4562-a712-965d9b8f03f5"
      },
      "execution_count": 41,
      "outputs": [
        {
          "output_type": "stream",
          "name": "stdout",
          "text": [
            "0.06385228185600002\n"
          ]
        }
      ]
    },
    {
      "cell_type": "markdown",
      "source": [
        "##### **Exercise**\n",
        "\n",
        "Maruti flips a fair coin five times, what is the probability that the coin lands on head two times for fever"
      ],
      "metadata": {
        "id": "fym4A3vNGzFk"
      }
    },
    {
      "cell_type": "code",
      "source": [
        "p =0.5\n",
        "n = 5\n",
        "k <=2\n",
        "\n",
        "print(binom.cdf(k=2, n=5, p=0.5))"
      ],
      "metadata": {
        "colab": {
          "base_uri": "https://localhost:8080/"
        },
        "id": "SXHMmtJCF6pu",
        "outputId": "f640b1c1-43b4-44fd-9bc9-bdcf6509c469"
      },
      "execution_count": 42,
      "outputs": [
        {
          "output_type": "stream",
          "name": "stdout",
          "text": [
            "0.5\n"
          ]
        }
      ]
    },
    {
      "cell_type": "markdown",
      "source": [
        "It is known that 70% of individual support a certain law. If 10 individuals are randomly selected what is the probability that between 4 and 6 of them support the law"
      ],
      "metadata": {
        "id": "NbU0Z_JJHeaG"
      }
    },
    {
      "cell_type": "code",
      "source": [
        "p =0.7\n",
        "n = 10\n",
        "4 <= k <=6\n",
        "\n",
        "prob3andLess = binom.cdf(k=3, n=10, p=0.7)\n",
        "prob6andLess = binom.cdf(k=6, n=10, p=0.7)\n",
        "print(prob3andLess)\n",
        "print(prob6andLess)\n",
        "\n",
        "probBetween4and6 = prob6andLess - prob3andLess\n",
        "print(probBetween4and6)"
      ],
      "metadata": {
        "colab": {
          "base_uri": "https://localhost:8080/"
        },
        "id": "0vgJJvKOHTj8",
        "outputId": "451d0ca1-355f-4299-8ac1-bcb9027a32f6"
      },
      "execution_count": 43,
      "outputs": [
        {
          "output_type": "stream",
          "name": "stdout",
          "text": [
            "0.01059207840000001\n",
            "0.35038928160000005\n",
            "0.33979720320000006\n"
          ]
        }
      ]
    },
    {
      "cell_type": "markdown",
      "source": [
        "John flips a fair coin 8 times. What is the probability that the coin lands on head five times or more"
      ],
      "metadata": {
        "id": "3HlJRdDxIlfx"
      }
    },
    {
      "cell_type": "code",
      "source": [
        "p =0.5\n",
        "n = 8\n",
        "k>=5\n",
        "\n",
        "prob4andLess = binom.cdf(k=4, n=8, p=0.5)\n",
        "prob5andMore = 1 - prob4andLess\n",
        "\n",
        "print(prob5andMore)"
      ],
      "metadata": {
        "colab": {
          "base_uri": "https://localhost:8080/"
        },
        "id": "KP7ovzqTIZ-i",
        "outputId": "d80ab914-dac7-4e58-9334-5e7d96a0f23b"
      },
      "execution_count": 44,
      "outputs": [
        {
          "output_type": "stream",
          "name": "stdout",
          "text": [
            "0.36328125\n"
          ]
        }
      ]
    },
    {
      "cell_type": "markdown",
      "source": [
        "#### **Continuous probability distribution**\n",
        "1. It is a probability distribution for continuous random variable\n",
        "2. It is denoted by PDF(probability density function)\n",
        "3. Probability is given by area under PDF on specified range\n",
        "4. Total area under curve is always one"
      ],
      "metadata": {
        "id": "ylyb7_lgJR4i"
      }
    },
    {
      "cell_type": "markdown",
      "source": [
        "##### **1) Normal distribution**\n",
        "##### **Characteristics of normal distribution**\n",
        "1. The normal distribution curve is symmetric about its mean.\n",
        "2. The normal distribution curve is Unimodal (contains a single mode)\n",
        "3. The parameters μ (mean), σ (standard deviation) completely characterise the normal distribution\n",
        "4. The mean, median and mode of distribution coincide.\n",
        "5. The area under curve is one.\n",
        "6. Exactly half of the values are to the left of the centre and the other half to the right."
      ],
      "metadata": {
        "id": "US_YC0YNJxCB"
      }
    },
    {
      "cell_type": "markdown",
      "source": [
        " ##### **Properties of normal distribution**\n",
        " 1. mean = μ\n",
        " 2. varience = σ^2\n",
        " 3. standard deviation = σ"
      ],
      "metadata": {
        "id": "IoL0zS8cL-tX"
      }
    },
    {
      "cell_type": "markdown",
      "source": [
        "#### **68-95-99 Percentage rule**\n",
        "1. Approximately 68.26% of the data lie within 1 standard deviation of the mean, that is in the interval with (μ +- σ) for populations; If a data set has approximately bell-shaped relative frequency histogram.\n",
        "2. Approximately 95.44% of the data lie within two standard deviation of the mean, that is in the interval in the interval with endpoints (μ +- 2σ) for population.\n",
        "3. Approximately 99.72% of the data lies within three standard deviation of the mean, that is in the interval in the interval with endpoints (μ +- 3σ) for population."
      ],
      "metadata": {
        "id": "HE42EBsWNFBg"
      }
    },
    {
      "cell_type": "markdown",
      "source": [
        "##### **How to plot normal distribution**"
      ],
      "metadata": {
        "id": "STDmOY2fP0Xy"
      }
    },
    {
      "cell_type": "code",
      "source": [
        "# Between 2 and 10 generates 5 linearly spaced number\n",
        "\n",
        "d = np.linspace(2, 10, 5)\n",
        "print(d)"
      ],
      "metadata": {
        "colab": {
          "base_uri": "https://localhost:8080/"
        },
        "id": "mTkXD5DpJEuB",
        "outputId": "f7d3c10b-5637-427a-a77c-046b26d18dfa"
      },
      "execution_count": 45,
      "outputs": [
        {
          "output_type": "stream",
          "name": "stdout",
          "text": [
            "[ 2.  4.  6.  8. 10.]\n"
          ]
        }
      ]
    },
    {
      "cell_type": "code",
      "source": [
        "x = np.linspace(1, 200, 100)\n",
        "print(x)\n",
        "print(x.shape)"
      ],
      "metadata": {
        "colab": {
          "base_uri": "https://localhost:8080/"
        },
        "id": "2f8CzEBOQFxD",
        "outputId": "eb2b08c1-6f50-4681-f006-f5ce5eec5fd2"
      },
      "execution_count": 46,
      "outputs": [
        {
          "output_type": "stream",
          "name": "stdout",
          "text": [
            "[  1.           3.01010101   5.02020202   7.03030303   9.04040404\n",
            "  11.05050505  13.06060606  15.07070707  17.08080808  19.09090909\n",
            "  21.1010101   23.11111111  25.12121212  27.13131313  29.14141414\n",
            "  31.15151515  33.16161616  35.17171717  37.18181818  39.19191919\n",
            "  41.2020202   43.21212121  45.22222222  47.23232323  49.24242424\n",
            "  51.25252525  53.26262626  55.27272727  57.28282828  59.29292929\n",
            "  61.3030303   63.31313131  65.32323232  67.33333333  69.34343434\n",
            "  71.35353535  73.36363636  75.37373737  77.38383838  79.39393939\n",
            "  81.4040404   83.41414141  85.42424242  87.43434343  89.44444444\n",
            "  91.45454545  93.46464646  95.47474747  97.48484848  99.49494949\n",
            " 101.50505051 103.51515152 105.52525253 107.53535354 109.54545455\n",
            " 111.55555556 113.56565657 115.57575758 117.58585859 119.5959596\n",
            " 121.60606061 123.61616162 125.62626263 127.63636364 129.64646465\n",
            " 131.65656566 133.66666667 135.67676768 137.68686869 139.6969697\n",
            " 141.70707071 143.71717172 145.72727273 147.73737374 149.74747475\n",
            " 151.75757576 153.76767677 155.77777778 157.78787879 159.7979798\n",
            " 161.80808081 163.81818182 165.82828283 167.83838384 169.84848485\n",
            " 171.85858586 173.86868687 175.87878788 177.88888889 179.8989899\n",
            " 181.90909091 183.91919192 185.92929293 187.93939394 189.94949495\n",
            " 191.95959596 193.96969697 195.97979798 197.98989899 200.        ]\n",
            "(100,)\n"
          ]
        }
      ]
    },
    {
      "cell_type": "markdown",
      "source": [
        "**Formula for normal distribution**\n",
        "\n",
        "F(x) = (1/σ√2π)*e^((-1/2)*((x-μ)/σ)**2)"
      ],
      "metadata": {
        "id": "9RM6dnVLQkrW"
      }
    },
    {
      "cell_type": "code",
      "source": [
        "def normal_dist(x, mean, sd):\n",
        "  prob_den = np.exp(-0.5*((x-mean)/sd)**2)*1/(sd*np.sqrt(2*np.pi))\n",
        "  return prob_den\n",
        "\n",
        "mean = np.mean(x)\n",
        "std = np.std(x)\n",
        "print(f\"Mean : {mean}\\nStd : {std}\")\n",
        "\n",
        "pdf = normal_dist(x,mean,std)\n",
        "\n",
        "# Visualizing of normal distribution\n",
        "plt.plot(x, pdf, color='red')\n",
        "plt.title(\"Normal Distribution\")\n",
        "plt.xlabel(\"X\")\n",
        "plt.ylabel(\"Probability density\")\n",
        "plt.grid()\n",
        "plt.show()"
      ],
      "metadata": {
        "colab": {
          "base_uri": "https://localhost:8080/",
          "height": 507
        },
        "id": "BBpB8t5SQeEV",
        "outputId": "3bbf7948-ee6f-43b6-e72e-8b0fb73292fc"
      },
      "execution_count": 47,
      "outputs": [
        {
          "output_type": "stream",
          "name": "stdout",
          "text": [
            "Mean : 100.5\n",
            "Std : 58.02371656057273\n"
          ]
        },
        {
          "output_type": "display_data",
          "data": {
            "text/plain": [
              "<Figure size 640x480 with 1 Axes>"
            ],
            "image/png": "[encoded data removed]"
          },
          "metadata": {}
        }
      ]
    },
    {
      "cell_type": "markdown",
      "source": [
        "#### **Hypothesis testing**\n",
        "It evaluates 2 mutually exclusive conditions(Ho and H1) about a population to determine which argument is best supported by the sample.\n",
        "\n",
        " **Ho**(Null hypothesis): The given statement is assumed to be True.\n",
        "\n",
        " **H1**(Alternate hypothesis): It is opposite of Ho\n",
        "\n",
        " **Example**\n",
        "\n",
        " **Ho** : Mean of population is 72\n",
        "\n",
        " **H1** : Mean of population is not 72\n",
        "\n",
        " We compute hypothesis testing at a significance level of 5% = 0.05 = Alpha\n",
        "\n",
        " **Rule**\n",
        "\n",
        " p_val>alpha --> Ho is accepted\n",
        "\n",
        " p_val<=alpha --> Ho is accepted\n"
      ],
      "metadata": {
        "id": "juH3T_ppanVf"
      }
    },
    {
      "cell_type": "markdown",
      "source": [
        "#### **One Sample Z-test**\n",
        "Used to compare sample mean with population mean (Hypothesised value)\n",
        "\n",
        "Used when Sample size is greater than 30\n",
        "\n",
        "**z_stat** = (sample_mean - Population_mean)/(std_population/square_root(n))\n",
        "\n",
        "where n is equals to sample size"
      ],
      "metadata": {
        "id": "wrl2jhUQd1Ev"
      }
    },
    {
      "cell_type": "code",
      "source": [
        "import pandas as pd\n",
        "import numpy as np"
      ],
      "metadata": {
        "id": "BhMeAlR8SaoG"
      },
      "execution_count": 48,
      "outputs": []
    },
    {
      "cell_type": "code",
      "source": [
        "# Generates 5 random num between 3(inclusive) and 10(inclusive)\n",
        "\n",
        "a = np.random.randint(3, 10, 5)\n",
        "a"
      ],
      "metadata": {
        "id": "rJqFN2IEec1J",
        "outputId": "086a88f3-2762-4559-bf82-b08b0924cbcd",
        "colab": {
          "base_uri": "https://localhost:8080/"
        }
      },
      "execution_count": 49,
      "outputs": [
        {
          "output_type": "execute_result",
          "data": {
            "text/plain": [
              "array([8, 4, 4, 4, 5])"
            ]
          },
          "metadata": {},
          "execution_count": 49
        }
      ]
    },
    {
      "cell_type": "code",
      "source": [
        "d1 = pd.DataFrame(np.random.randint(20, 50, 40), columns=['x'])\n",
        "d1.shape"
      ],
      "metadata": {
        "id": "pFh1Ux6zezza",
        "outputId": "55faad75-cbd5-46e2-aad9-078b22a7dda9",
        "colab": {
          "base_uri": "https://localhost:8080/"
        }
      },
      "execution_count": 50,
      "outputs": [
        {
          "output_type": "execute_result",
          "data": {
            "text/plain": [
              "(40, 1)"
            ]
          },
          "metadata": {},
          "execution_count": 50
        }
      ]
    },
    {
      "cell_type": "code",
      "source": [
        "d1.head()"
      ],
      "metadata": {
        "id": "YjgOdV6qfDRN",
        "outputId": "17cb744a-6fab-40b1-c3f9-59b4982fe1c3",
        "colab": {
          "base_uri": "https://localhost:8080/",
          "height": 206
        }
      },
      "execution_count": 51,
      "outputs": [
        {
          "output_type": "execute_result",
          "data": {
            "text/plain": [
              "    x\n",
              "0  32\n",
              "1  45\n",
              "2  25\n",
              "3  33\n",
              "4  20"
            ],
            "text/html": [
              "\n",
              "  <div id=\"df-9b2d7065-c5c2-4c47-840c-a11b3ceb4eda\" class=\"colab-df-container\">\n",
              "    <div>\n",
              "<style scoped>\n",
              "    .dataframe tbody tr th:only-of-type {\n",
              "        vertical-align: middle;\n",
              "    }\n",
              "\n",
              "    .dataframe tbody tr th {\n",
              "        vertical-align: top;\n",
              "    }\n",
              "\n",
              "    .dataframe thead th {\n",
              "        text-align: right;\n",
              "    }\n",
              "</style>\n",
              "<table border=\"1\" class=\"dataframe\">\n",
              "  <thead>\n",
              "    <tr style=\"text-align: right;\">\n",
              "      <th></th>\n",
              "      <th>x</th>\n",
              "    </tr>\n",
              "  </thead>\n",
              "  <tbody>\n",
              "    <tr>\n",
              "      <th>0</th>\n",
              "      <td>32</td>\n",
              "    </tr>\n",
              "    <tr>\n",
              "      <th>1</th>\n",
              "      <td>45</td>\n",
              "    </tr>\n",
              "    <tr>\n",
              "      <th>2</th>\n",
              "      <td>25</td>\n",
              "    </tr>\n",
              "    <tr>\n",
              "      <th>3</th>\n",
              "      <td>33</td>\n",
              "    </tr>\n",
              "    <tr>\n",
              "      <th>4</th>\n",
              "      <td>20</td>\n",
              "    </tr>\n",
              "  </tbody>\n",
              "</table>\n",
              "</div>\n",
              "    <div class=\"colab-df-buttons\">\n",
              "\n",
              "  <div class=\"colab-df-container\">\n",
              "    <button class=\"colab-df-convert\" onclick=\"convertToInteractive('df-9b2d7065-c5c2-4c47-840c-a11b3ceb4eda')\"\n",
              "            title=\"Convert this dataframe to an interactive table.\"\n",
              "            style=\"display:none;\">\n",
              "\n",
              "  <svg xmlns=\"http://www.w3.org/2000/svg\" height=\"24px\" viewBox=\"0 -960 960 960\">\n",
              "    <path d=\"M120-120v-720h720v720H120Zm60-500h600v-160H180v160Zm220 220h160v-160H400v160Zm0 220h160v-160H400v160ZM180-400h160v-160H180v160Zm440 0h160v-160H620v160ZM180-180h160v-160H180v160Zm440 0h160v-160H620v160Z\"/>\n",
              "  </svg>\n",
              "    </button>\n",
              "\n",
              "  <style>\n",
              "    .colab-df-container {\n",
              "      display:flex;\n",
              "      gap: 12px;\n",
              "    }\n",
              "\n",
              "    .colab-df-convert {\n",
              "      background-color: #E8F0FE;\n",
              "      border: none;\n",
              "      border-radius: 50%;\n",
              "      cursor: pointer;\n",
              "      display: none;\n",
              "      fill: #1967D2;\n",
              "      height: 32px;\n",
              "      padding: 0 0 0 0;\n",
              "      width: 32px;\n",
              "    }\n",
              "\n",
              "    .colab-df-convert:hover {\n",
              "      background-color: #E2EBFA;\n",
              "      box-shadow: 0px 1px 2px rgba(60, 64, 67, 0.3), 0px 1px 3px 1px rgba(60, 64, 67, 0.15);\n",
              "      fill: #174EA6;\n",
              "    }\n",
              "\n",
              "    .colab-df-buttons div {\n",
              "      margin-bottom: 4px;\n",
              "    }\n",
              "\n",
              "    [theme=dark] .colab-df-convert {\n",
              "      background-color: #3B4455;\n",
              "      fill: #D2E3FC;\n",
              "    }\n",
              "\n",
              "    [theme=dark] .colab-df-convert:hover {\n",
              "      background-color: #434B5C;\n",
              "      box-shadow: 0px 1px 3px 1px rgba(0, 0, 0, 0.15);\n",
              "      filter: drop-shadow(0px 1px 2px rgba(0, 0, 0, 0.3));\n",
              "      fill: #FFFFFF;\n",
              "    }\n",
              "  </style>\n",
              "\n",
              "    <script>\n",
              "      const buttonEl =\n",
              "        document.querySelector('#df-9b2d7065-c5c2-4c47-840c-a11b3ceb4eda button.colab-df-convert');\n",
              "      buttonEl.style.display =\n",
              "        google.colab.kernel.accessAllowed ? 'block' : 'none';\n",
              "\n",
              "      async function convertToInteractive(key) {\n",
              "        const element = document.querySelector('#df-9b2d7065-c5c2-4c47-840c-a11b3ceb4eda');\n",
              "        const dataTable =\n",
              "          await google.colab.kernel.invokeFunction('convertToInteractive',\n",
              "                                                    [key], {});\n",
              "        if (!dataTable) return;\n",
              "\n",
              "        const docLinkHtml = 'Like what you see? Visit the ' +\n",
              "          '<a target=\"_blank\" href=https://colab.research.google.com/notebooks/data_table.ipynb>data table notebook</a>'\n",
              "          + ' to learn more about interactive tables.';\n",
              "        element.innerHTML = '';\n",
              "        dataTable['output_type'] = 'display_data';\n",
              "        await google.colab.output.renderOutput(dataTable, element);\n",
              "        const docLink = document.createElement('div');\n",
              "        docLink.innerHTML = docLinkHtml;\n",
              "        element.appendChild(docLink);\n",
              "      }\n",
              "    </script>\n",
              "  </div>\n",
              "\n",
              "\n",
              "<div id=\"df-8ea5ca3b-f1b6-4b1a-a7f3-146b7a145233\">\n",
              "  <button class=\"colab-df-quickchart\" onclick=\"quickchart('df-8ea5ca3b-f1b6-4b1a-a7f3-146b7a145233')\"\n",
              "            title=\"Suggest charts\"\n",
              "            style=\"display:none;\">\n",
              "\n",
              "<svg xmlns=\"http://www.w3.org/2000/svg\" height=\"24px\"viewBox=\"0 0 24 24\"\n",
              "     width=\"24px\">\n",
              "    <g>\n",
              "        <path d=\"M19 3H5c-1.1 0-2 .9-2 2v14c0 1.1.9 2 2 2h14c1.1 0 2-.9 2-2V5c0-1.1-.9-2-2-2zM9 17H7v-7h2v7zm4 0h-2V7h2v10zm4 0h-2v-4h2v4z\"/>\n",
              "    </g>\n",
              "</svg>\n",
              "  </button>\n",
              "\n",
              "<style>\n",
              "  .colab-df-quickchart {\n",
              "      --bg-color: #E8F0FE;\n",
              "      --fill-color: #1967D2;\n",
              "      --hover-bg-color: #E2EBFA;\n",
              "      --hover-fill-color: #174EA6;\n",
              "      --disabled-fill-color: #AAA;\n",
              "      --disabled-bg-color: #DDD;\n",
              "  }\n",
              "\n",
              "  [theme=dark] .colab-df-quickchart {\n",
              "      --bg-color: #3B4455;\n",
              "      --fill-color: #D2E3FC;\n",
              "      --hover-bg-color: #434B5C;\n",
              "      --hover-fill-color: #FFFFFF;\n",
              "      --disabled-bg-color: #3B4455;\n",
              "      --disabled-fill-color: #666;\n",
              "  }\n",
              "\n",
              "  .colab-df-quickchart {\n",
              "    background-color: var(--bg-color);\n",
              "    border: none;\n",
              "    border-radius: 50%;\n",
              "    cursor: pointer;\n",
              "    display: none;\n",
              "    fill: var(--fill-color);\n",
              "    height: 32px;\n",
              "    padding: 0;\n",
              "    width: 32px;\n",
              "  }\n",
              "\n",
              "  .colab-df-quickchart:hover {\n",
              "    background-color: var(--hover-bg-color);\n",
              "    box-shadow: 0 1px 2px rgba(60, 64, 67, 0.3), 0 1px 3px 1px rgba(60, 64, 67, 0.15);\n",
              "    fill: var(--button-hover-fill-color);\n",
              "  }\n",
              "\n",
              "  .colab-df-quickchart-complete:disabled,\n",
              "  .colab-df-quickchart-complete:disabled:hover {\n",
              "    background-color: var(--disabled-bg-color);\n",
              "    fill: var(--disabled-fill-color);\n",
              "    box-shadow: none;\n",
              "  }\n",
              "\n",
              "  .colab-df-spinner {\n",
              "    border: 2px solid var(--fill-color);\n",
              "    border-color: transparent;\n",
              "    border-bottom-color: var(--fill-color);\n",
              "    animation:\n",
              "      spin 1s steps(1) infinite;\n",
              "  }\n",
              "\n",
              "  @keyframes spin {\n",
              "    0% {\n",
              "      border-color: transparent;\n",
              "      border-bottom-color: var(--fill-color);\n",
              "      border-left-color: var(--fill-color);\n",
              "    }\n",
              "    20% {\n",
              "      border-color: transparent;\n",
              "      border-left-color: var(--fill-color);\n",
              "      border-top-color: var(--fill-color);\n",
              "    }\n",
              "    30% {\n",
              "      border-color: transparent;\n",
              "      border-left-color: var(--fill-color);\n",
              "      border-top-color: var(--fill-color);\n",
              "      border-right-color: var(--fill-color);\n",
              "    }\n",
              "    40% {\n",
              "      border-color: transparent;\n",
              "      border-right-color: var(--fill-color);\n",
              "      border-top-color: var(--fill-color);\n",
              "    }\n",
              "    60% {\n",
              "      border-color: transparent;\n",
              "      border-right-color: var(--fill-color);\n",
              "    }\n",
              "    80% {\n",
              "      border-color: transparent;\n",
              "      border-right-color: var(--fill-color);\n",
              "      border-bottom-color: var(--fill-color);\n",
              "    }\n",
              "    90% {\n",
              "      border-color: transparent;\n",
              "      border-bottom-color: var(--fill-color);\n",
              "    }\n",
              "  }\n",
              "</style>\n",
              "\n",
              "  <script>\n",
              "    async function quickchart(key) {\n",
              "      const quickchartButtonEl =\n",
              "        document.querySelector('#' + key + ' button');\n",
              "      quickchartButtonEl.disabled = true;  // To prevent multiple clicks.\n",
              "      quickchartButtonEl.classList.add('colab-df-spinner');\n",
              "      try {\n",
              "        const charts = await google.colab.kernel.invokeFunction(\n",
              "            'suggestCharts', [key], {});\n",
              "      } catch (error) {\n",
              "        console.error('Error during call to suggestCharts:', error);\n",
              "      }\n",
              "      quickchartButtonEl.classList.remove('colab-df-spinner');\n",
              "      quickchartButtonEl.classList.add('colab-df-quickchart-complete');\n",
              "    }\n",
              "    (() => {\n",
              "      let quickchartButtonEl =\n",
              "        document.querySelector('#df-8ea5ca3b-f1b6-4b1a-a7f3-146b7a145233 button');\n",
              "      quickchartButtonEl.style.display =\n",
              "        google.colab.kernel.accessAllowed ? 'block' : 'none';\n",
              "    })();\n",
              "  </script>\n",
              "</div>\n",
              "    </div>\n",
              "  </div>\n"
            ]
          },
          "metadata": {},
          "execution_count": 51
        }
      ]
    },
    {
      "cell_type": "code",
      "source": [
        "# Hypothesis tests\n",
        "\n",
        "# Different types of tests\n",
        "# Z_test\n",
        "# T_test\n",
        "# Chi_Square Test\n",
        "# ANOVA\n",
        "# F-Test"
      ],
      "metadata": {
        "id": "hyTs4exHfFCz"
      },
      "execution_count": 52,
      "outputs": []
    },
    {
      "cell_type": "code",
      "source": [
        "from statsmodels.stats.weightstats import ztest\n",
        "\n",
        "# Ho : Mean of population is 40\n",
        "# H1 : Mean of population is not 40\n",
        "\n",
        "# Rule\n",
        "# p_val>alpha --> Ho is accepted\n",
        "# p_val<=alpha --> Ho is accepted"
      ],
      "metadata": {
        "id": "_-W6Tb99fYJo"
      },
      "execution_count": 53,
      "outputs": []
    },
    {
      "cell_type": "code",
      "source": [
        "alpha = 0.05\n",
        "z_stat, p = ztest(d1['x'], value=40)\n",
        "print(\"Z-Stat : \",z_stat, \"\\nP_val : \",p)\n",
        "\n",
        "if p < alpha:\n",
        "  print(\"H1 is accepted\")\n",
        "else:\n",
        "  print(\"Ho is accepted\")"
      ],
      "metadata": {
        "id": "oiv2YC2vgMRW",
        "outputId": "2a8bf9f8-92fd-4f75-a4c1-caa4e6304753",
        "colab": {
          "base_uri": "https://localhost:8080/"
        }
      },
      "execution_count": 54,
      "outputs": [
        {
          "output_type": "stream",
          "name": "stdout",
          "text": [
            "Z-Stat :  -5.697352712213838 \n",
            "P_val :  1.2168202374522568e-08\n",
            "H1 is accepted\n"
          ]
        }
      ]
    },
    {
      "cell_type": "code",
      "source": [
        "# If sample size is less than 30 then go with the T-test"
      ],
      "metadata": {
        "id": "jDx8hrJhg2tl"
      },
      "execution_count": 55,
      "outputs": []
    },
    {
      "cell_type": "code",
      "source": [
        "from scipy.stats import ttest_1samp\n",
        "t_test, p = ttest_1samp(d1['x'][:15], popmean=25)\n",
        "\n",
        "print(\"T-Stat : \",t_test, \"\\nP_val : \",p)\n",
        "\n",
        "if p < alpha:\n",
        "  print(\"H1 is accepted\")\n",
        "else:\n",
        "  print(\"Ho is accepted\")"
      ],
      "metadata": {
        "id": "FYaVlGb8hArG",
        "outputId": "485a3590-ea2e-4707-ea07-9beaccf70b8a",
        "colab": {
          "base_uri": "https://localhost:8080/"
        }
      },
      "execution_count": 56,
      "outputs": [
        {
          "output_type": "stream",
          "name": "stdout",
          "text": [
            "T-Stat :  2.690897096384295 \n",
            "P_val :  0.017566948080246135\n",
            "H1 is accepted\n"
          ]
        }
      ]
    },
    {
      "cell_type": "markdown",
      "source": [
        "##### **Central Limit Theorem (CLT)**\n",
        "1. If we take large random samples from the population with replacement, then the distribution of the sample mean will be approximately normally distributed.\n",
        "2. Sample mean will be approximately normally distributed for larger sample size when data is selected randomly"
      ],
      "metadata": {
        "id": "jr79UwEvh1Vm"
      }
    },
    {
      "cell_type": "code",
      "source": [
        "# 1000 customers\n",
        "# 500 random samples of 200 customers(randomly sampled) each - mean_weight"
      ],
      "metadata": {
        "id": "ikd4_ffHhX75"
      },
      "execution_count": 57,
      "outputs": []
    },
    {
      "cell_type": "code",
      "source": [
        "# dice throw\n",
        "print(np.random.randint(1, 7, 50))\n",
        "print(np.mean(np.random.randint(1, 7, 50)))"
      ],
      "metadata": {
        "id": "ZRvUsIGijJOk",
        "outputId": "c88df211-8901-4e19-914e-b7e245c7c73d",
        "colab": {
          "base_uri": "https://localhost:8080/"
        }
      },
      "execution_count": 58,
      "outputs": [
        {
          "output_type": "stream",
          "name": "stdout",
          "text": [
            "[1 5 1 2 4 5 2 6 2 6 3 5 6 6 2 2 1 4 6 5 4 1 3 5 6 3 4 4 6 3 2 2 6 4 2 1 3\n",
            " 1 2 3 5 3 3 3 1 4 4 5 6 5]\n",
            "3.92\n"
          ]
        }
      ]
    },
    {
      "cell_type": "code",
      "source": [
        "res = []\n",
        "for i in range(2000):\n",
        "  res.append(np.mean(np.random.randint(1,7,50)))\n",
        "\n",
        "print(res)"
      ],
      "metadata": {
        "id": "So3vswCIjjHk",
        "outputId": "66643333-af1e-4e1a-b6dc-b187c7021678",
        "colab": {
          "base_uri": "https://localhost:8080/"
        }
      },
      "execution_count": 59,
      "outputs": [
        {
          "output_type": "stream",
          "name": "stdout",
          "text": [
            "[3.56, 3.42, 3.42, 3.14, 3.54, 3.42, 3.44, 3.84, 3.44, 3.5, 3.26, 3.8, 3.36, 3.64, 3.3, 3.34, 3.26, 4.02, 3.5, 3.42, 3.56, 3.44, 3.24, 3.72, 3.44, 3.58, 3.76, 3.6, 3.4, 3.54, 3.54, 3.62, 3.58, 3.72, 3.86, 3.16, 3.6, 3.66, 3.92, 3.7, 3.46, 3.24, 4.12, 3.1, 3.0, 3.48, 3.42, 3.38, 3.34, 3.44, 3.14, 3.7, 3.44, 3.2, 3.32, 3.46, 3.3, 3.76, 3.3, 3.4, 3.48, 3.7, 3.56, 3.38, 3.58, 3.74, 3.68, 3.56, 3.38, 3.32, 3.86, 3.46, 3.52, 3.44, 2.92, 3.28, 3.94, 3.54, 3.36, 3.38, 3.3, 3.32, 3.22, 3.64, 3.38, 3.38, 3.56, 3.4, 3.52, 3.58, 3.46, 3.18, 3.28, 3.52, 3.5, 4.08, 3.72, 3.5, 3.08, 3.78, 3.28, 3.46, 3.2, 3.72, 3.22, 3.36, 3.4, 4.0, 3.62, 3.76, 3.42, 3.48, 3.28, 3.44, 3.34, 3.74, 3.54, 3.42, 4.12, 3.22, 3.64, 3.64, 3.42, 3.2, 3.6, 3.4, 3.82, 3.34, 3.38, 3.48, 3.7, 3.38, 3.82, 3.88, 3.62, 3.58, 3.3, 3.74, 3.58, 3.44, 3.92, 2.98, 3.48, 3.6, 3.74, 3.5, 3.5, 3.18, 3.56, 3.66, 3.36, 3.74, 3.74, 3.38, 3.42, 3.64, 3.46, 3.1, 3.36, 3.24, 3.5, 3.52, 3.38, 3.64, 3.4, 3.96, 3.5, 3.48, 3.82, 4.1, 3.16, 3.76, 3.54, 3.74, 3.26, 3.28, 3.72, 3.22, 3.22, 3.74, 3.58, 4.32, 3.96, 3.48, 3.32, 3.4, 3.28, 3.48, 4.02, 3.5, 3.82, 3.62, 3.58, 3.54, 3.6, 3.5, 3.36, 3.68, 3.6, 3.64, 3.76, 3.48, 3.4, 3.66, 3.7, 3.36, 3.44, 3.34, 3.6, 3.22, 3.02, 3.66, 3.44, 3.42, 3.36, 3.56, 3.56, 3.18, 3.28, 3.06, 3.42, 2.94, 3.92, 3.38, 3.54, 3.72, 3.44, 3.62, 3.82, 3.1, 3.34, 3.32, 3.36, 3.7, 3.44, 3.68, 3.1, 3.4, 3.68, 3.52, 3.36, 3.68, 3.14, 3.4, 3.54, 3.5, 3.26, 3.7, 3.44, 3.6, 3.44, 3.58, 3.36, 3.24, 3.66, 3.52, 3.16, 3.7, 3.48, 3.72, 3.52, 3.56, 3.58, 3.9, 3.6, 3.98, 3.68, 3.5, 3.48, 3.26, 3.56, 3.56, 3.7, 3.22, 3.18, 3.32, 3.54, 3.68, 3.4, 3.56, 3.64, 3.88, 3.64, 3.4, 3.44, 3.26, 3.7, 3.1, 3.42, 3.9, 3.42, 3.86, 3.72, 3.44, 3.64, 3.48, 3.58, 3.52, 3.24, 3.34, 3.6, 3.58, 3.12, 3.38, 3.58, 3.78, 3.9, 3.6, 3.24, 3.28, 3.66, 3.32, 3.58, 4.06, 3.78, 3.36, 3.64, 3.12, 3.3, 3.52, 3.22, 3.54, 3.3, 3.74, 3.88, 3.62, 3.32, 3.16, 3.7, 3.36, 3.64, 3.52, 3.62, 3.62, 3.48, 3.42, 3.46, 3.14, 3.64, 3.64, 3.42, 3.52, 3.08, 3.9, 3.88, 4.1, 3.1, 3.38, 3.82, 3.32, 3.42, 3.24, 3.78, 3.32, 3.54, 3.1, 3.48, 3.9, 3.4, 3.34, 3.08, 3.4, 3.38, 3.58, 3.8, 3.64, 3.86, 3.84, 3.5, 3.3, 3.64, 4.16, 3.18, 3.54, 3.68, 3.32, 3.98, 3.34, 3.32, 3.36, 3.1, 3.2, 3.54, 3.4, 3.64, 3.02, 3.44, 3.6, 3.4, 3.64, 3.2, 3.2, 3.28, 3.68, 3.64, 3.08, 3.28, 3.42, 3.56, 3.52, 3.54, 3.48, 3.24, 3.64, 3.22, 3.4, 3.68, 3.76, 3.34, 3.56, 3.18, 3.66, 3.84, 3.6, 3.04, 3.24, 3.7, 3.56, 3.66, 3.3, 3.86, 3.64, 3.62, 3.78, 3.44, 3.42, 3.2, 3.66, 3.46, 3.24, 3.24, 3.3, 3.0, 3.7, 3.54, 3.36, 3.56, 3.84, 3.68, 3.22, 3.52, 3.68, 3.84, 3.54, 3.28, 3.5, 3.48, 3.68, 3.34, 3.92, 3.62, 3.32, 3.5, 3.5, 3.62, 3.92, 3.68, 3.54, 3.5, 3.56, 3.8, 3.58, 3.44, 3.3, 3.92, 3.54, 3.46, 3.46, 3.82, 3.78, 3.78, 3.62, 3.16, 3.38, 3.16, 3.44, 3.24, 3.64, 3.5, 3.7, 3.38, 3.24, 3.88, 4.18, 3.84, 3.82, 3.68, 3.6, 3.64, 3.7, 3.5, 3.54, 3.12, 3.48, 3.66, 3.18, 3.64, 3.8, 3.66, 3.46, 3.76, 3.22, 3.24, 3.44, 3.6, 3.46, 4.0, 3.44, 3.44, 3.22, 3.3, 3.54, 3.46, 3.32, 3.7, 3.2, 2.92, 3.38, 3.88, 3.32, 3.44, 3.76, 3.6, 3.24, 3.24, 3.64, 3.3, 3.66, 3.6, 3.66, 2.98, 3.46, 3.14, 3.56, 3.48, 3.66, 3.14, 3.56, 3.58, 3.46, 3.52, 3.8, 3.58, 3.58, 3.56, 3.34, 2.96, 3.8, 3.6, 3.62, 3.46, 3.56, 3.62, 3.76, 3.04, 3.3, 3.6, 3.82, 3.7, 3.62, 3.4, 3.46, 3.5, 3.66, 3.48, 3.54, 3.34, 3.62, 3.76, 3.58, 3.84, 3.38, 3.56, 2.96, 3.76, 3.52, 3.2, 3.54, 3.58, 3.68, 3.54, 3.38, 3.42, 3.32, 3.52, 3.76, 3.36, 3.52, 3.88, 3.92, 3.1, 3.32, 3.7, 3.06, 3.28, 3.62, 3.56, 3.42, 3.36, 3.22, 3.42, 3.86, 2.92, 3.42, 3.46, 4.12, 3.58, 3.78, 3.86, 3.48, 3.82, 3.64, 3.52, 3.58, 3.78, 3.26, 3.1, 3.46, 3.46, 3.74, 3.68, 3.5, 3.1, 3.62, 3.3, 3.68, 3.62, 3.3, 3.32, 3.52, 3.76, 4.16, 3.62, 3.6, 3.76, 2.86, 3.62, 3.28, 3.4, 3.66, 3.44, 3.22, 3.66, 3.54, 3.5, 3.44, 3.28, 3.38, 3.6, 3.46, 3.3, 3.18, 3.38, 3.88, 3.7, 3.72, 3.4, 3.16, 3.34, 3.66, 3.48, 3.82, 3.52, 3.86, 3.42, 3.4, 3.42, 3.66, 3.64, 3.78, 3.18, 3.38, 3.72, 3.38, 3.8, 3.58, 3.94, 3.4, 3.6, 3.42, 3.64, 4.04, 3.62, 3.18, 3.42, 3.7, 3.4, 3.2, 3.74, 3.3, 3.32, 3.42, 3.8, 3.36, 3.42, 3.22, 3.7, 3.4, 3.62, 3.32, 3.14, 3.2, 3.46, 3.76, 3.34, 3.3, 3.46, 3.58, 3.28, 3.72, 3.38, 3.5, 3.46, 3.56, 3.6, 3.2, 4.16, 3.8, 3.56, 3.02, 3.4, 3.06, 3.78, 3.38, 3.82, 3.22, 3.72, 3.6, 3.7, 2.94, 3.94, 3.28, 3.12, 3.52, 3.54, 2.82, 3.1, 3.3, 3.4, 3.58, 3.4, 3.56, 3.12, 3.62, 3.5, 3.8, 3.26, 3.38, 3.38, 3.5, 3.38, 3.9, 3.56, 3.44, 4.04, 3.02, 3.08, 3.14, 3.9, 3.6, 3.5, 3.72, 3.38, 3.34, 3.84, 3.76, 3.4, 3.56, 3.84, 3.4, 3.18, 3.52, 3.54, 2.92, 3.28, 3.24, 3.52, 3.72, 4.02, 3.56, 3.34, 3.16, 3.78, 3.64, 3.76, 3.76, 3.26, 3.98, 3.22, 3.64, 3.24, 3.42, 3.12, 3.36, 3.62, 3.6, 3.64, 3.64, 3.58, 3.64, 3.42, 3.7, 3.38, 3.9, 3.44, 2.98, 3.34, 3.78, 3.8, 3.22, 3.46, 3.54, 3.12, 3.5, 3.36, 3.16, 3.46, 3.92, 3.68, 3.56, 3.44, 3.46, 3.7, 3.58, 3.78, 3.82, 3.38, 3.78, 3.76, 3.8, 3.12, 3.86, 3.42, 3.32, 3.48, 3.3, 3.72, 2.82, 3.34, 3.52, 3.62, 3.56, 3.4, 3.84, 3.12, 3.2, 3.42, 3.28, 3.4, 3.7, 3.62, 3.14, 3.34, 3.18, 3.36, 3.48, 3.56, 2.96, 3.52, 3.68, 3.58, 3.5, 3.24, 3.76, 3.6, 3.14, 3.38, 4.02, 3.38, 3.78, 3.38, 3.6, 3.18, 3.4, 3.52, 3.52, 3.5, 3.9, 3.68, 3.32, 3.34, 2.8, 3.62, 3.5, 3.66, 3.1, 3.72, 3.38, 3.52, 3.48, 3.18, 3.4, 3.54, 3.42, 3.42, 3.8, 3.46, 2.88, 3.2, 3.48, 3.28, 3.3, 3.62, 3.66, 3.62, 3.14, 3.7, 3.9, 3.34, 4.06, 3.48, 3.94, 3.48, 3.28, 3.32, 3.54, 3.56, 3.24, 3.34, 3.8, 3.56, 3.66, 3.32, 3.84, 3.58, 3.16, 3.68, 3.46, 3.16, 3.16, 3.38, 3.58, 3.76, 3.72, 3.3, 3.44, 3.96, 3.84, 3.62, 3.82, 3.98, 3.82, 3.32, 3.56, 3.34, 3.8, 3.46, 4.02, 3.22, 3.88, 3.76, 3.24, 3.38, 3.48, 3.46, 3.86, 3.16, 3.52, 3.14, 3.7, 3.42, 3.3, 3.66, 3.34, 3.22, 3.56, 3.52, 3.44, 3.68, 3.66, 3.58, 3.76, 3.36, 3.36, 3.76, 3.72, 3.28, 3.7, 3.76, 3.58, 3.9, 4.12, 3.72, 3.08, 3.46, 3.5, 3.34, 3.76, 3.24, 3.68, 3.78, 2.84, 3.18, 3.76, 3.58, 3.58, 3.28, 3.52, 3.84, 3.54, 3.76, 3.42, 3.6, 4.0, 3.22, 3.68, 3.16, 3.88, 3.56, 3.12, 3.54, 3.68, 3.6, 3.68, 3.64, 3.24, 3.86, 3.48, 3.82, 3.38, 3.68, 3.52, 3.64, 3.54, 3.34, 3.78, 3.18, 3.16, 3.42, 3.5, 3.42, 3.62, 3.48, 3.54, 3.42, 3.36, 3.32, 3.7, 3.56, 3.3, 3.96, 3.6, 3.0, 3.74, 3.24, 3.32, 3.24, 3.36, 3.54, 3.54, 3.48, 3.6, 3.64, 3.42, 3.84, 3.38, 3.36, 3.6, 3.68, 3.7, 4.12, 3.42, 3.82, 3.2, 3.74, 3.42, 3.82, 3.62, 3.12, 3.16, 3.22, 3.7, 3.98, 3.74, 3.7, 3.08, 3.18, 3.4, 3.34, 3.48, 3.48, 3.46, 3.48, 3.84, 3.26, 3.52, 3.24, 3.22, 3.14, 3.74, 3.74, 3.5, 3.42, 3.54, 3.62, 3.64, 3.9, 3.8, 3.26, 3.22, 3.6, 3.54, 2.84, 3.32, 3.34, 3.98, 3.56, 3.64, 3.74, 3.3, 3.92, 3.54, 3.42, 3.34, 3.34, 3.3, 3.44, 3.32, 3.32, 3.26, 3.32, 3.52, 3.36, 3.76, 3.3, 3.54, 3.54, 3.52, 3.54, 4.06, 3.62, 3.28, 3.38, 3.78, 3.18, 3.18, 3.86, 3.56, 3.54, 3.5, 3.52, 3.5, 3.64, 3.54, 3.36, 3.26, 3.42, 3.78, 3.4, 3.38, 3.64, 3.12, 3.52, 3.46, 3.32, 3.74, 3.68, 3.52, 3.1, 3.54, 3.46, 3.96, 3.62, 3.54, 3.52, 3.8, 3.32, 3.4, 3.76, 3.66, 3.58, 3.38, 3.7, 3.3, 3.22, 3.54, 3.64, 3.7, 3.78, 3.88, 3.44, 3.46, 3.62, 3.74, 3.32, 3.38, 3.38, 3.36, 3.86, 3.98, 3.56, 3.34, 3.72, 3.3, 3.36, 3.34, 3.32, 3.1, 3.58, 3.78, 3.14, 3.06, 3.74, 3.56, 3.54, 3.28, 3.16, 3.7, 3.44, 3.24, 3.28, 3.34, 3.5, 3.48, 3.04, 3.62, 3.38, 3.54, 3.28, 3.56, 3.34, 3.64, 3.62, 3.74, 3.22, 3.42, 3.68, 3.98, 3.26, 3.4, 4.02, 3.32, 3.58, 3.2, 3.8, 3.82, 2.98, 3.54, 3.88, 3.62, 3.02, 3.36, 3.62, 3.68, 3.92, 3.36, 3.52, 3.46, 3.2, 3.46, 3.18, 3.66, 3.0, 3.14, 3.76, 3.78, 3.28, 3.48, 3.34, 4.08, 3.46, 3.68, 3.7, 3.78, 3.32, 3.3, 3.9, 3.6, 3.78, 3.66, 3.34, 3.08, 3.76, 2.96, 3.52, 3.54, 3.56, 3.36, 3.3, 2.94, 3.5, 3.78, 3.6, 3.5, 3.86, 3.76, 3.54, 3.52, 3.46, 3.26, 3.34, 3.8, 3.3, 4.0, 3.26, 3.3, 3.24, 3.52, 3.34, 3.22, 3.6, 3.86, 3.56, 3.26, 3.8, 3.48, 3.66, 3.94, 3.18, 3.5, 3.66, 3.18, 3.52, 3.6, 3.62, 3.66, 3.74, 3.46, 3.16, 3.56, 3.58, 3.34, 3.62, 3.7, 3.32, 3.62, 3.32, 3.16, 4.16, 3.42, 3.74, 3.54, 3.06, 3.62, 3.8, 3.38, 3.56, 3.24, 3.52, 3.58, 3.62, 4.1, 3.5, 3.42, 3.38, 3.92, 3.74, 3.14, 3.62, 3.14, 3.18, 3.52, 3.62, 3.64, 4.26, 4.12, 3.78, 3.38, 3.8, 3.64, 3.64, 3.42, 3.66, 3.46, 3.4, 3.78, 3.64, 3.36, 3.96, 3.44, 3.62, 3.48, 3.86, 3.68, 3.66, 3.64, 3.56, 3.38, 3.76, 3.18, 3.56, 3.38, 3.12, 3.34, 3.38, 3.62, 3.92, 3.68, 3.78, 3.44, 3.4, 3.62, 3.72, 3.18, 3.42, 3.5, 3.36, 3.84, 3.18, 3.72, 3.56, 3.8, 3.32, 3.52, 3.88, 3.62, 3.6, 3.38, 3.62, 3.2, 3.7, 3.66, 3.28, 3.26, 3.44, 4.1, 3.52, 3.54, 3.26, 3.48, 3.34, 3.8, 3.82, 3.64, 3.34, 3.6, 3.3, 3.52, 3.48, 3.36, 3.24, 3.44, 3.06, 2.98, 3.66, 3.24, 3.64, 3.72, 3.52, 3.5, 3.58, 3.5, 3.76, 3.34, 3.46, 3.4, 3.72, 3.84, 3.02, 3.46, 3.32, 3.56, 3.3, 3.22, 3.72, 3.7, 3.46, 3.76, 3.68, 3.4, 3.48, 3.48, 3.36, 3.58, 3.84, 3.14, 3.52, 3.46, 3.62, 3.52, 3.2, 3.5, 3.28, 3.32, 3.8, 3.74, 3.48, 3.54, 3.34, 2.84, 3.52, 3.2, 3.68, 4.14, 3.64, 3.66, 3.62, 3.28, 3.98, 3.48, 3.7, 3.8, 3.62, 3.8, 3.14, 3.3, 3.58, 3.52, 3.5, 3.78, 3.64, 3.44, 3.68, 3.54, 4.06, 3.26, 3.32, 3.58, 3.44, 3.66, 3.5, 3.78, 3.7, 3.06, 3.4, 3.92, 3.16, 3.02, 3.3, 4.02, 3.38, 3.64, 3.14, 3.02, 3.12, 3.48, 4.0, 3.28, 3.3, 3.4, 3.62, 3.28, 3.58, 3.54, 3.7, 3.4, 3.68, 3.78, 3.3, 3.6, 3.86, 3.62, 3.16, 3.68, 3.56, 3.86, 3.58, 3.78, 3.34, 3.92, 3.9, 3.34, 3.36, 3.92, 3.54, 3.38, 3.24, 3.42, 3.72, 3.34, 3.76, 3.48, 3.28, 3.08, 3.06, 3.42, 3.28, 3.34, 4.08, 3.6, 3.76, 3.74, 3.56, 3.74, 3.92, 3.12, 3.6, 3.8, 3.72, 3.9, 3.1, 3.18, 3.2, 3.36, 3.68, 3.36, 3.66, 3.1, 3.56, 3.78, 3.6, 2.94, 3.42, 3.5, 3.48, 3.56, 3.44, 3.22, 3.44, 3.48, 3.12, 3.26, 3.48, 3.78, 3.48, 3.72, 3.6, 3.36, 3.4, 3.1, 3.32, 3.36, 3.3, 3.48, 3.32, 2.78, 3.78, 3.58, 4.0, 3.24, 3.12, 3.2, 3.22, 3.26, 3.46, 3.8, 3.12, 3.52, 3.92, 3.8, 3.46, 3.14, 3.58, 3.5, 3.48, 3.52, 3.6, 3.7, 3.54, 3.38, 3.32, 3.6, 3.38, 3.82, 3.06, 3.66, 3.4, 3.32, 3.62, 3.48, 3.32, 3.18, 3.24, 3.52, 3.94, 3.34, 3.4, 3.64, 3.44, 3.28, 3.8, 3.38, 3.58, 4.14, 3.52, 3.16, 3.54, 3.28, 3.52, 3.46, 3.2, 3.74, 3.64, 3.86, 3.18, 3.46, 3.76, 3.36, 4.0, 3.84, 3.56, 3.8, 3.46, 3.4, 3.74, 3.62, 3.64, 3.36, 3.36, 3.64, 3.34, 3.62, 3.54, 3.44, 3.74, 3.26, 3.06, 3.64, 3.16, 3.5, 3.86, 3.68, 3.44, 3.32, 3.38, 3.32, 3.1, 3.64, 4.08, 3.5, 3.46, 3.68, 3.14, 3.84, 3.36, 3.44, 3.38, 2.92, 3.52, 3.7, 3.64, 3.42, 3.14, 3.58, 3.4, 3.64, 3.04, 3.46, 3.48, 3.36, 3.36, 3.54, 3.42, 3.56, 3.62, 3.06, 3.68, 3.64, 3.22, 3.74, 3.66, 3.52, 3.84, 3.44, 3.36, 3.6, 3.64, 3.92, 3.7, 3.24, 3.4, 3.4, 3.44, 3.64, 3.36, 3.7, 3.84, 3.26, 3.82, 3.54, 3.38, 3.28, 3.02, 3.52, 3.76, 3.32, 3.32, 3.36, 2.96, 3.24, 3.32, 3.64, 3.66, 3.86, 3.64, 3.56, 3.5, 3.32, 3.12, 3.46, 3.7, 3.74, 3.66, 4.04, 3.7, 3.58, 4.02, 3.28, 3.1, 3.16, 3.26, 3.4, 3.48, 3.58, 3.76, 3.12, 3.68, 3.56, 3.72, 3.26, 3.66, 3.7, 3.26, 3.34, 4.02, 3.72, 3.2, 3.56, 3.86, 3.84, 3.52, 3.6, 3.78, 3.24, 3.6, 3.62, 3.54, 3.28, 3.76, 3.64, 3.24, 3.32, 3.36, 3.12, 3.18, 3.42, 3.22, 3.24, 3.4, 3.82, 3.8, 3.64, 3.36, 3.6, 3.5, 3.16, 3.42, 3.38, 3.16, 3.38, 3.36, 3.74, 3.66, 3.36, 3.22, 3.56, 3.56, 3.82, 3.58, 3.96, 3.34, 3.4, 3.86, 3.46, 3.26, 3.58, 3.26, 3.32, 3.36, 4.06, 3.88, 3.22, 4.16, 3.14, 3.38, 3.5, 3.36, 3.68, 3.04, 3.66, 3.26, 3.54, 4.02, 3.04, 3.78, 3.9, 3.28, 3.76, 3.78, 3.5, 3.9, 3.8, 3.9, 3.62, 3.44, 3.38, 3.32, 3.64, 3.72, 4.0, 3.82, 3.38, 3.62, 3.4, 3.86, 3.36, 3.46, 3.42, 3.64, 3.4, 3.08, 3.32, 3.56, 3.6, 3.62, 3.26, 3.34, 3.38, 3.68, 3.78, 3.36, 3.2, 4.14, 3.34, 3.4, 3.32, 3.18, 3.56, 3.46, 3.68, 3.66, 3.48, 3.38, 3.78, 3.6, 3.8, 3.3, 3.14, 3.58, 3.14, 3.24, 3.52, 3.16, 3.78, 3.36, 3.06, 3.48, 3.6, 3.64, 3.6, 3.42, 3.28, 3.4, 3.48, 3.62, 3.42, 3.4, 3.34, 3.42, 3.14, 3.0, 2.88, 3.66, 3.56, 3.4, 3.96, 3.78, 3.2, 3.46, 3.34, 4.32, 3.76, 3.8, 3.7, 3.02, 3.66, 3.08, 3.42, 3.86, 3.06, 3.36, 3.2, 3.28, 3.42, 3.52, 3.4, 3.58, 3.46, 3.6, 3.54, 3.96, 4.06, 4.04, 3.26, 3.98, 3.74, 3.7, 3.54, 3.54, 3.26, 3.12, 3.7, 3.76, 3.76, 3.54, 3.14, 3.56, 3.8, 3.56, 3.42]\n"
          ]
        }
      ]
    },
    {
      "cell_type": "code",
      "source": [
        "plt.hist(res)\n",
        "plt.show()"
      ],
      "metadata": {
        "id": "oijsIvYuj6VE",
        "outputId": "d00acfd8-1fe4-4fb3-be1a-d5f3114b5cc0",
        "colab": {
          "base_uri": "https://localhost:8080/",
          "height": 432
        }
      },
      "execution_count": 60,
      "outputs": [
        {
          "output_type": "display_data",
          "data": {
            "text/plain": [
              "<Figure size 640x480 with 1 Axes>"
            ],
            "image/png": "[encoded data removed]"
          },
          "metadata": {}
        }
      ]
    },
    {
      "cell_type": "code",
      "source": [],
      "metadata": {
        "id": "o9tdHDb7kDzo"
      },
      "execution_count": 60,
      "outputs": []
    }
  ]
}