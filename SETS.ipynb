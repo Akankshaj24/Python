{
 "cells": [
  {
   "cell_type": "markdown",
   "id": "4fe58424",
   "metadata": {},
   "source": [
    "# SETS"
   ]
  },
  {
   "cell_type": "markdown",
   "id": "4ffa9264",
   "metadata": {},
   "source": [
    "1. It is an unordered data type.\n",
    "2. Indexing and slicing can't be performed.\n",
    "3. Sets don't retain duplicates.\n",
    "4. Set elements are enclosed in {}"
   ]
  },
  {
   "cell_type": "markdown",
   "id": "b9ce9512",
   "metadata": {},
   "source": [
    "#### Empty Set"
   ]
  },
  {
   "cell_type": "code",
   "execution_count": 1,
   "id": "c8e8951f",
   "metadata": {},
   "outputs": [
    {
     "name": "stdout",
     "output_type": "stream",
     "text": [
      "set()\n",
      "<class 'set'>\n"
     ]
    }
   ],
   "source": [
    "s1 = set()\n",
    "print(s1)\n",
    "print(type(s1))"
   ]
  },
  {
   "cell_type": "code",
   "execution_count": 4,
   "id": "c19f69ab",
   "metadata": {},
   "outputs": [
    {
     "name": "stdout",
     "output_type": "stream",
     "text": [
      "{1}\n"
     ]
    }
   ],
   "source": [
    "s1 = {1,1}\n",
    "print(s1)"
   ]
  },
  {
   "cell_type": "code",
   "execution_count": 7,
   "id": "7721d235",
   "metadata": {},
   "outputs": [
    {
     "name": "stdout",
     "output_type": "stream",
     "text": [
      "{7, 9, 10, 12, 15, 20, 22, 25, 27, 30, 32, 40, 43, 56}\n",
      "{25, 30}\n",
      "{40, 10, 43, 20, 22}\n",
      "{32, 7, 40, 9, 10, 43, 12, 15, 20, 22, 56, 27}\n",
      "{32, 7, 40, 9, 10, 43, 12, 15, 20, 22, 56, 27}\n"
     ]
    }
   ],
   "source": [
    "s1 = {10,20,30,40,22,25,43}\n",
    "s2 = {7,9,12,15,25,27,32,56,30}\n",
    "print(s1.union(s2))\n",
    "print(s1.intersection(s2))\n",
    "print(s1.difference(s2))      # elements in s1 which are not in s2\n",
    "\n",
    "print(s1.symmetric_difference(s2))  # Difference of union and intersection\n",
    "\n",
    "s3 = s1.union(s2)\n",
    "s4 = s1.intersection(s2)\n",
    "print(s3.difference(s4))"
   ]
  },
  {
   "cell_type": "markdown",
   "id": "8247f285",
   "metadata": {},
   "source": [
    "#### Sets are unordered so elements can be added anywhere in the set"
   ]
  },
  {
   "cell_type": "code",
   "execution_count": 10,
   "id": "d5124aeb",
   "metadata": {},
   "outputs": [
    {
     "name": "stdout",
     "output_type": "stream",
     "text": [
      "{34, 3, 67, 10, 45, 'Neymer', 78, 20, 56}\n",
      "{34, 3, 67, 10, 45, 'Neymer', 78, 'Kylian', 20, 56}\n"
     ]
    }
   ],
   "source": [
    "g1 = {10,20,3,34,'Neymer',45,56,67,78}\n",
    "print(g1)\n",
    "g1.add('Kylian')\n",
    "print(g1)"
   ]
  },
  {
   "cell_type": "code",
   "execution_count": 11,
   "id": "0574e02a",
   "metadata": {},
   "outputs": [
    {
     "name": "stdout",
     "output_type": "stream",
     "text": [
      "{40, 10, 43, 20, 22}\n"
     ]
    }
   ],
   "source": [
    "print(s1-s2)"
   ]
  },
  {
   "cell_type": "markdown",
   "id": "a7711372",
   "metadata": {},
   "source": [
    "#### clear()"
   ]
  },
  {
   "cell_type": "code",
   "execution_count": 12,
   "id": "aa564c14",
   "metadata": {},
   "outputs": [
    {
     "name": "stdout",
     "output_type": "stream",
     "text": [
      "{34, 3, 67, 10, 45, 'Neymer', 78, 20, 56}\n",
      "set()\n"
     ]
    }
   ],
   "source": [
    "g1 = {10,20,3,34,'Neymer',45,56,67,78}\n",
    "print(g1)\n",
    "g1.clear()\n",
    "print(g1)"
   ]
  },
  {
   "cell_type": "markdown",
   "id": "5cfc928f",
   "metadata": {},
   "source": [
    "#### update()"
   ]
  },
  {
   "cell_type": "code",
   "execution_count": 13,
   "id": "e4376c44",
   "metadata": {},
   "outputs": [
    {
     "name": "stdout",
     "output_type": "stream",
     "text": [
      "{20, 22, 40, 25, 10, 43, 30}\n",
      "{32, 7, 9, 12, 15, 56, 25, 27, 30}\n",
      "{7, 9, 10, 12, 15, 20, 22, 25, 27, 30, 32, 40, 43, 56}\n",
      "{32, 7, 9, 12, 15, 56, 25, 27, 30}\n"
     ]
    }
   ],
   "source": [
    "s1 = {10,20,30,40,22,25,43}\n",
    "s2 = {7,9,12,15,25,27,32,56,30}\n",
    "print(s1)\n",
    "print(s2)\n",
    "s1.update(s2)\n",
    "print(s1)\n",
    "print(s2)"
   ]
  },
  {
   "cell_type": "code",
   "execution_count": 14,
   "id": "1cd68a7b",
   "metadata": {},
   "outputs": [
    {
     "name": "stdout",
     "output_type": "stream",
     "text": [
      "{7, 9, 10, 12, 15, 20, 22, 25, 27, 30, 32, 34, 40, 1000, 43, 56}\n",
      "{30}\n"
     ]
    }
   ],
   "source": [
    "s1 = {10,20,30,40,22,25,43}\n",
    "s2 = {7,9,12,15,25,27,32,56,30}\n",
    "s3 = {27,34,30,1000}\n",
    "print(s1.union(s2,s3))\n",
    "print(s1.intersection(s2,s3))"
   ]
  },
  {
   "cell_type": "code",
   "execution_count": null,
   "id": "f44ae659",
   "metadata": {},
   "outputs": [],
   "source": []
  }
 ],
 "metadata": {
  "kernelspec": {
   "display_name": "Python 3 (ipykernel)",
   "language": "python",
   "name": "python3"
  },
  "language_info": {
   "codemirror_mode": {
    "name": "ipython",
    "version": 3
   },
   "file_extension": ".py",
   "mimetype": "text/x-python",
   "name": "python",
   "nbconvert_exporter": "python",
   "pygments_lexer": "ipython3",
   "version": "3.11.3"
  }
 },
 "nbformat": 4,
 "nbformat_minor": 5
}
