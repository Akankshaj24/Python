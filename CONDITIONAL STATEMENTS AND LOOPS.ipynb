{
 "cells": [
  {
   "cell_type": "markdown",
   "id": "593bc1d5",
   "metadata": {},
   "source": [
    "# CONDITIONAL STATEMENT"
   ]
  },
  {
   "cell_type": "markdown",
   "id": "a4335c16",
   "metadata": {},
   "source": [
    "### 1.  IF"
   ]
  },
  {
   "cell_type": "code",
   "execution_count": 1,
   "id": "13174dc6",
   "metadata": {},
   "outputs": [
    {
     "name": "stdout",
     "output_type": "stream",
     "text": [
      "36 is divisible by 3\n"
     ]
    }
   ],
   "source": [
    "n=36\n",
    "if n%3==0:\n",
    "    print(f'{n} is divisible by 3')"
   ]
  },
  {
   "cell_type": "markdown",
   "id": "de22c7d2",
   "metadata": {},
   "source": [
    "### 2.  IF-ELSE"
   ]
  },
  {
   "cell_type": "code",
   "execution_count": 2,
   "id": "65ba564a",
   "metadata": {},
   "outputs": [
    {
     "name": "stdout",
     "output_type": "stream",
     "text": [
      "55 is not divisible by 3\n"
     ]
    }
   ],
   "source": [
    "n=55\n",
    "if n%3==0:\n",
    "    print(f'{n} is divisible by 3')\n",
    "else:\n",
    "    print(f'{n} is not divisible by 3')"
   ]
  },
  {
   "cell_type": "markdown",
   "id": "1934a1d5",
   "metadata": {},
   "source": [
    "### 3. IF-ELIF-ELSE"
   ]
  },
  {
   "cell_type": "code",
   "execution_count": 3,
   "id": "fd6e2975",
   "metadata": {},
   "outputs": [
    {
     "name": "stdout",
     "output_type": "stream",
     "text": [
      "NOTA\n"
     ]
    }
   ],
   "source": [
    "sub=\"SQL\"\n",
    "\n",
    "if sub==\"Python\":\n",
    "    print('Python Dev')\n",
    "elif sub==\"Java\":\n",
    "    print(\"Java Dev\")\n",
    "elif sub==\"C++\":\n",
    "    print(\"C++ Dev\")\n",
    "else:\n",
    "    print(\"NOTA\")"
   ]
  },
  {
   "cell_type": "markdown",
   "id": "230e9f01",
   "metadata": {},
   "source": [
    "### 4. NESTED-IF"
   ]
  },
  {
   "cell_type": "code",
   "execution_count": 4,
   "id": "6037405f",
   "metadata": {},
   "outputs": [
    {
     "name": "stdout",
     "output_type": "stream",
     "text": [
      "41 is not divisible by 5 nor by 3\n"
     ]
    }
   ],
   "source": [
    "n=41\n",
    "if n%3==0:\n",
    "    if n%5==0:\n",
    "        print(f'{n} is divisible by 3 as well as 5')\n",
    "    else:\n",
    "        print(f'{n} is divisible by 3 not by 5')\n",
    "else:\n",
    "    if n%5==0:\n",
    "        print(f'{n} is not divisible by 5 but divisible by 3')\n",
    "    else:\n",
    "        print(f'{n} is not divisible by 5 nor by 3')"
   ]
  },
  {
   "cell_type": "markdown",
   "id": "8c6894d4",
   "metadata": {},
   "source": [
    "# LOOPS"
   ]
  },
  {
   "cell_type": "markdown",
   "id": "2357e8bd",
   "metadata": {},
   "source": [
    "### 1. FOR LOOP "
   ]
  },
  {
   "cell_type": "markdown",
   "id": "cb8cba4b",
   "metadata": {},
   "source": [
    "##### SYNTAX:\n",
    "range(start,end,step)\n",
    "1. Default start = 0 <br>\n",
    "2. Default step =1 <br>\n",
    "3. if only one argument is passed, then it is considered as end. <br>\n",
    "\n",
    "IN ASCENDING ORDER <br>\n",
    "1. Iteration proceeds till end-1 <br>\n",
    "2. Step value is positive\n",
    "\n",
    "IN DESCENDING ORDER <br>\n",
    "1. Iteration proceeds till end+1 <br>\n",
    "2. Step value is neagative <br>"
   ]
  },
  {
   "cell_type": "code",
   "execution_count": 5,
   "id": "2bcfa814",
   "metadata": {},
   "outputs": [
    {
     "name": "stdout",
     "output_type": "stream",
     "text": [
      "0\n",
      "1\n",
      "2\n",
      "3\n"
     ]
    }
   ],
   "source": [
    "for i in range (4):     # start=0,end=4,step=+1\n",
    "    print(i)"
   ]
  },
  {
   "cell_type": "code",
   "execution_count": 6,
   "id": "9e3d80c2",
   "metadata": {},
   "outputs": [
    {
     "name": "stdout",
     "output_type": "stream",
     "text": [
      "0 1 2 3 "
     ]
    }
   ],
   "source": [
    "for i in range (4):     # start=0, end=4, step=+1\n",
    "    print(i,end=' ')    # To print it in the same line use end"
   ]
  },
  {
   "cell_type": "code",
   "execution_count": 7,
   "id": "588385d1",
   "metadata": {},
   "outputs": [
    {
     "name": "stdout",
     "output_type": "stream",
     "text": [
      "10 11 12 13 14 15 "
     ]
    }
   ],
   "source": [
    "for i in range(10,16):    #start=10, end=16, step=+1\n",
    "    print(i,end=' ')"
   ]
  },
  {
   "cell_type": "code",
   "execution_count": 8,
   "id": "4c112703",
   "metadata": {},
   "outputs": [
    {
     "name": "stdout",
     "output_type": "stream",
     "text": [
      "20 23 26 29 32 35 38 41 44 "
     ]
    }
   ],
   "source": [
    "for i in range(20,46,3):    #start=20, end=46, step=+3\n",
    "    print(i,end=\" \")"
   ]
  },
  {
   "cell_type": "code",
   "execution_count": 9,
   "id": "ca5f8996",
   "metadata": {},
   "outputs": [
    {
     "name": "stdout",
     "output_type": "stream",
     "text": [
      "30 36 42 48 54 "
     ]
    }
   ],
   "source": [
    "for i in range(10,20,2):\n",
    "    print(i*3,end=\" \")         # multipling result by 3"
   ]
  },
  {
   "cell_type": "code",
   "execution_count": 10,
   "id": "89a84153",
   "metadata": {},
   "outputs": [
    {
     "name": "stdout",
     "output_type": "stream",
     "text": [
      "15 17 19 21 23 "
     ]
    }
   ],
   "source": [
    "for i in range(10,20,2):\n",
    "    print(i+5,end=\" \")        # Adding 5 to result"
   ]
  },
  {
   "cell_type": "code",
   "execution_count": 11,
   "id": "c6dbc23a",
   "metadata": {},
   "outputs": [
    {
     "name": "stdout",
     "output_type": "stream",
     "text": [
      "i :  -18       i-3 :  -21\n",
      "i :  -13       i-3 :  -16\n",
      "i :  -8       i-3 :  -11\n",
      "i :  -3       i-3 :  -6\n",
      "i :  2       i-3 :  -1\n",
      "i :  7       i-3 :  4\n",
      "i :  12       i-3 :  9\n",
      "i :  17       i-3 :  14\n"
     ]
    }
   ],
   "source": [
    "for i in range(-18,20,5):\n",
    "    print('i : ',i,'      i-3 : ',i-3)"
   ]
  },
  {
   "cell_type": "code",
   "execution_count": 12,
   "id": "319356bc",
   "metadata": {},
   "outputs": [],
   "source": [
    "for g in range(40,30):    #start=40, end=30, step=+1\n",
    "    print(g,end=\" \")"
   ]
  },
  {
   "cell_type": "code",
   "execution_count": 13,
   "id": "6229850a",
   "metadata": {},
   "outputs": [
    {
     "name": "stdout",
     "output_type": "stream",
     "text": [
      "40 39 38 37 36 35 34 33 32 31 "
     ]
    }
   ],
   "source": [
    "for g in range(40,30,-1):    #start=40, end=30, step=-1\n",
    "    print(g,end=\" \")"
   ]
  },
  {
   "cell_type": "code",
   "execution_count": 14,
   "id": "2410fae2",
   "metadata": {},
   "outputs": [
    {
     "name": "stdout",
     "output_type": "stream",
     "text": [
      "25 21 17 13 9 5 1 -3 -7 "
     ]
    }
   ],
   "source": [
    "for i in range(25,-10,-4):\n",
    "    print(i,end=' ')"
   ]
  },
  {
   "cell_type": "markdown",
   "id": "9c5fd695",
   "metadata": {},
   "source": [
    "### STRINGS"
   ]
  },
  {
   "cell_type": "code",
   "execution_count": 15,
   "id": "4eda2f06",
   "metadata": {},
   "outputs": [],
   "source": [
    "s=\"Today\"\n",
    "\n",
    "# Indexing\n",
    "# Left to Right  --> Index starts from 0 towards positive\n",
    "# Right to Left  --> Index starts from -1 towars negative"
   ]
  },
  {
   "cell_type": "code",
   "execution_count": 16,
   "id": "f4b113d5",
   "metadata": {},
   "outputs": [
    {
     "name": "stdout",
     "output_type": "stream",
     "text": [
      "T o d a y\n",
      "y a d o T\n"
     ]
    }
   ],
   "source": [
    "s=\"Today\"\n",
    "\n",
    "print(s[0],s[1],s[2],s[3],s[4])\n",
    "print(s[-1],s[-2],s[-3],s[-4],s[-5])"
   ]
  },
  {
   "cell_type": "code",
   "execution_count": 17,
   "id": "b574144e",
   "metadata": {},
   "outputs": [
    {
     "name": "stdout",
     "output_type": "stream",
     "text": [
      "C h r o m e "
     ]
    }
   ],
   "source": [
    "# For loop on strings\n",
    "\n",
    "#  Method 1: Element wise iteration\n",
    "s=\"Chrome\"\n",
    "for i in (s):   # i corresponds to each and very character of string from left to right\n",
    "    print(i,end=' ')"
   ]
  },
  {
   "cell_type": "code",
   "execution_count": 18,
   "id": "0bc0a16b",
   "metadata": {},
   "outputs": [
    {
     "name": "stdout",
     "output_type": "stream",
     "text": [
      "0 1 2 3 4 5 \n",
      "C h r o m e \n",
      "\n",
      "0 C\n",
      "1 h\n",
      "2 r\n",
      "3 o\n",
      "4 m\n",
      "5 e\n"
     ]
    }
   ],
   "source": [
    "#  Method 2: Element wise iteration\n",
    "s=\"Chrome\"\n",
    "\n",
    "for i in range (len(s)):\n",
    "    print(i,end=' ')\n",
    "\n",
    "print('')\n",
    "    \n",
    "for i in range(len(s)):   # i corresponds to each and very character of string from left to right\n",
    "    print(s[i],end=' ')\n",
    "    \n",
    "print('\\n')\n",
    "\n",
    "for i in range (len(s)):    #start=0, end=len(s), step=+1\n",
    "    print(i,s[i])"
   ]
  },
  {
   "cell_type": "code",
   "execution_count": 19,
   "id": "cc0930a4",
   "metadata": {},
   "outputs": [
    {
     "name": "stdout",
     "output_type": "stream",
     "text": [
      "5 e\n",
      "4 m\n",
      "3 o\n",
      "2 r\n",
      "1 h\n",
      "0 C\n"
     ]
    }
   ],
   "source": [
    "s=\"Chrome\"\n",
    "\n",
    "for i in range (len(s)-1,-1,-1):      #start=len(s)-1, end=-1, step=-1\n",
    "    print(i,s[i])"
   ]
  },
  {
   "cell_type": "markdown",
   "id": "e248f339",
   "metadata": {},
   "source": [
    "#### break -->  Takes the program control out of the loop"
   ]
  },
  {
   "cell_type": "code",
   "execution_count": 20,
   "id": "de150c0c",
   "metadata": {},
   "outputs": [
    {
     "name": "stdout",
     "output_type": "stream",
     "text": [
      "10 11 12 13 14 15 16 17 "
     ]
    }
   ],
   "source": [
    "for i in range(10,20):\n",
    "    if i%9==0:\n",
    "        break\n",
    "    else:\n",
    "        print(i,end=\" \")"
   ]
  },
  {
   "cell_type": "code",
   "execution_count": 21,
   "id": "15e08bb5",
   "metadata": {},
   "outputs": [
    {
     "name": "stdout",
     "output_type": "stream",
     "text": [
      "10 11 12 13 14 15 16 17 18 "
     ]
    }
   ],
   "source": [
    "for i in range(10,20):\n",
    "    if i%9==0:\n",
    "        print(i,end=\" \")\n",
    "        break\n",
    "    else:\n",
    "        print(i,end=\" \")"
   ]
  },
  {
   "cell_type": "code",
   "execution_count": 22,
   "id": "25b36ce6",
   "metadata": {},
   "outputs": [
    {
     "name": "stdout",
     "output_type": "stream",
     "text": [
      "10 "
     ]
    }
   ],
   "source": [
    "for i in range(10,20):\n",
    "    if i%9==0:\n",
    "        print(i,end=\" \")\n",
    "    else:\n",
    "        print(i,end=\" \")\n",
    "        break"
   ]
  },
  {
   "cell_type": "markdown",
   "id": "49c16888",
   "metadata": {},
   "source": [
    "#### continue --> takes the program control to the beginning of the loop"
   ]
  },
  {
   "cell_type": "code",
   "execution_count": 23,
   "id": "621c9643",
   "metadata": {},
   "outputs": [
    {
     "name": "stdout",
     "output_type": "stream",
     "text": [
      "10 11 13 14 16 17 19 "
     ]
    }
   ],
   "source": [
    "for i in range(10,20):\n",
    "    if i%3==0:           # Values which are divisible by 3 are skipped \n",
    "        continue\n",
    "    else:\n",
    "        print(i,end=\" \")"
   ]
  },
  {
   "cell_type": "markdown",
   "id": "3b4ae182",
   "metadata": {},
   "source": [
    "## 2. WHILE LOOP"
   ]
  },
  {
   "cell_type": "code",
   "execution_count": 24,
   "id": "85b4c423",
   "metadata": {},
   "outputs": [
    {
     "name": "stdout",
     "output_type": "stream",
     "text": [
      "0 1 2 3 4 "
     ]
    }
   ],
   "source": [
    "i=0                    #start\n",
    "while i<5:             #end\n",
    "    print(i,end=\" \")\n",
    "    i+=1               #step"
   ]
  },
  {
   "cell_type": "code",
   "execution_count": 25,
   "id": "d1cec76a",
   "metadata": {},
   "outputs": [
    {
     "name": "stdout",
     "output_type": "stream",
     "text": [
      "1 2 3 4 5 "
     ]
    }
   ],
   "source": [
    "i=0                    #start\n",
    "while i<5:             #end\n",
    "    i+=1               #step\n",
    "    print(i,end=\" \")\n"
   ]
  },
  {
   "cell_type": "code",
   "execution_count": 26,
   "id": "73fdd8fe",
   "metadata": {},
   "outputs": [
    {
     "name": "stdout",
     "output_type": "stream",
     "text": [
      "17 14 11 8 5 "
     ]
    }
   ],
   "source": [
    "i=20\n",
    "while i>5:\n",
    "    i-=3\n",
    "    print(i,end=' ')"
   ]
  },
  {
   "cell_type": "markdown",
   "id": "358e5e50",
   "metadata": {},
   "source": [
    "#####while loop on string"
   ]
  },
  {
   "cell_type": "code",
   "execution_count": 27,
   "id": "3332149b",
   "metadata": {},
   "outputs": [
    {
     "name": "stdout",
     "output_type": "stream",
     "text": [
      "L a p t o p "
     ]
    }
   ],
   "source": [
    "s=\"Laptop\"\n",
    "i=0\n",
    "while i<len(s):\n",
    "    print(s[i],end=' ')\n",
    "    i+=1"
   ]
  },
  {
   "cell_type": "code",
   "execution_count": 28,
   "id": "916b97db",
   "metadata": {},
   "outputs": [
    {
     "name": "stdout",
     "output_type": "stream",
     "text": [
      "p o t p a l "
     ]
    }
   ],
   "source": [
    "# printing reverse string\n",
    "\n",
    "s=\"laptop\"\n",
    "i=len(s)-1\n",
    "while i>-1:\n",
    "    print(s[i],end=' ')\n",
    "    i-=1"
   ]
  },
  {
   "cell_type": "code",
   "execution_count": null,
   "id": "2276295a",
   "metadata": {},
   "outputs": [],
   "source": []
  },
  {
   "cell_type": "code",
   "execution_count": null,
   "id": "2a637e7e",
   "metadata": {},
   "outputs": [],
   "source": []
  },
  {
   "cell_type": "code",
   "execution_count": 29,
   "id": "912bd624",
   "metadata": {},
   "outputs": [],
   "source": [
    "#### Check if a number is armstrong or not\n",
    "\n",
    "# 153= 1^3 + 5^3 + 3^3"
   ]
  },
  {
   "cell_type": "code",
   "execution_count": 30,
   "id": "da36b1e6",
   "metadata": {},
   "outputs": [
    {
     "name": "stdout",
     "output_type": "stream",
     "text": [
      "Enter the number: 1634\n",
      "256\n",
      "337\n",
      "1633\n",
      "1634\n",
      "Number 1634 is armstrong number\n"
     ]
    }
   ],
   "source": [
    "n= int(input(\"Enter the number: \"))\n",
    "number=n\n",
    "nlen=len(str(n))\n",
    "k=0\n",
    "while (number>0):\n",
    "    k=k+(number%10)**nlen\n",
    "    print(k)\n",
    "    number=number//10\n",
    "\n",
    "if(k==n):\n",
    "    print(f\"Number {n} is armstrong number\")\n",
    "else:\n",
    "    print(f\"Number{n} is not Armstrong number\")"
   ]
  },
  {
   "cell_type": "code",
   "execution_count": 31,
   "id": "53bc43a0",
   "metadata": {},
   "outputs": [],
   "source": [
    "# break and continue with while loop"
   ]
  },
  {
   "cell_type": "code",
   "execution_count": 32,
   "id": "05f526a5",
   "metadata": {},
   "outputs": [
    {
     "name": "stdout",
     "output_type": "stream",
     "text": [
      "10 11 12 13 14 15 16 17 "
     ]
    }
   ],
   "source": [
    "i=10\n",
    "while i<20:\n",
    "    if i%9==0:\n",
    "        break\n",
    "    print(i,end=' ')\n",
    "    i+=1"
   ]
  },
  {
   "cell_type": "code",
   "execution_count": null,
   "id": "2ed23c7a",
   "metadata": {},
   "outputs": [
    {
     "name": "stdout",
     "output_type": "stream",
     "text": [
      "10 11 "
     ]
    }
   ],
   "source": [
    "i=10\n",
    "while i<20:\n",
    "    if i%3==0:\n",
    "        continue  #continue is not running for while loop\n",
    "    print(i,end=' ')\n",
    "    i+=1"
   ]
  },
  {
   "cell_type": "code",
   "execution_count": null,
   "id": "a8271abc",
   "metadata": {},
   "outputs": [],
   "source": [
    "i=10\n",
    "while i<20:\n",
    "    i+=1\n",
    "    if i%3==0:\n",
    "        continue  \n",
    "    print(i,end=' ')"
   ]
  },
  {
   "cell_type": "code",
   "execution_count": null,
   "id": "380a553b",
   "metadata": {},
   "outputs": [],
   "source": []
  },
  {
   "cell_type": "code",
   "execution_count": null,
   "id": "7f1092a3",
   "metadata": {},
   "outputs": [],
   "source": []
  }
 ],
 "metadata": {
  "kernelspec": {
   "display_name": "Python 3 (ipykernel)",
   "language": "python",
   "name": "python3"
  },
  "language_info": {
   "codemirror_mode": {
    "name": "ipython",
    "version": 3
   },
   "file_extension": ".py",
   "mimetype": "text/x-python",
   "name": "python",
   "nbconvert_exporter": "python",
   "pygments_lexer": "ipython3",
   "version": "3.11.3"
  }
 },
 "nbformat": 4,
 "nbformat_minor": 5
}
